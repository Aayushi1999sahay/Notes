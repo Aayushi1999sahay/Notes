{
  "nbformat": 4,
  "nbformat_minor": 0,
  "metadata": {
    "colab": {
      "name": "Text_Sentiment_Analysis.ipynb",
      "provenance": [],
      "collapsed_sections": [
        "yvqy0FenhJkb",
        "izw3Xzbwf4QX"
      ]
    },
    "kernelspec": {
      "name": "python3",
      "display_name": "Python 3"
    }
  },
  "cells": [
    {
      "cell_type": "markdown",
      "metadata": {
        "id": "yvqy0FenhJkb"
      },
      "source": [
        "## **Step 1- Preprocessing**"
      ]
    },
    {
      "cell_type": "markdown",
      "metadata": {
        "id": "weAB2J1fhYbT"
      },
      "source": [
        "Step 1.1- Creating n grams"
      ]
    },
    {
      "cell_type": "markdown",
      "metadata": {
        "id": "Rk-GxrAucMlG"
      },
      "source": [
        "For analysing any sentence single single words as tokens is not enough. So, we need to treat some words together. For doing this we use a concept called- 'n-grams'. Here in our model we are going to use only bigrams. The input in this function much be in form of tokens."
      ]
    },
    {
      "cell_type": "code",
      "metadata": {
        "colab": {
          "base_uri": "https://localhost:8080/"
        },
        "id": "D3rAU7bKcv7V",
        "outputId": "24ed4b75-bc8b-4b2d-f6e9-6245849f5e01"
      },
      "source": [
        "def Create_bigrams(x):\n",
        "    n_grams = set(zip(*[x[i:] for i in range(2)]))\n",
        "    for n_gram in n_grams:\n",
        "        x.append(' '.join(n_gram))\n",
        "    return x\n",
        "\n",
        "Create_bigrams(['This', 'film', 'is', 'terrible'])"
      ],
      "execution_count": null,
      "outputs": [
        {
          "output_type": "execute_result",
          "data": {
            "text/plain": [
              "['This', 'film', 'is', 'terrible', 'This film', 'is terrible', 'film is']"
            ]
          },
          "metadata": {
            "tags": []
          },
          "execution_count": 57
        }
      ]
    },
    {
      "cell_type": "markdown",
      "metadata": {
        "id": "nHQE36wmhcqY"
      },
      "source": [
        "Step 1.2 - Importing libraries"
      ]
    },
    {
      "cell_type": "code",
      "metadata": {
        "id": "UEtmo4f8c8lT"
      },
      "source": [
        "import torch\n",
        "from torchtext import data\n",
        "from torchtext import datasets\n",
        "import random\n",
        "import torch.nn as nn\n",
        "import torch.nn.functional as F\n",
        "import torch.optim as optim\n",
        "import time\n",
        "import spacy\n",
        "from torchtext import vocab"
      ],
      "execution_count": null,
      "outputs": []
    },
    {
      "cell_type": "markdown",
      "metadata": {
        "id": "M1wXGfqPejpZ"
      },
      "source": [
        "Step 1.3 - Loading data and do splitting"
      ]
    },
    {
      "cell_type": "code",
      "metadata": {
        "id": "EIYRHpr3dgMd"
      },
      "source": [
        "SEED = 1234\n",
        "torch.manual_seed(SEED)\n",
        "torch.backends.cudnn.deterministic = True\n",
        "TEXT = data.Field(tokenize = 'spacy', \n",
        "                  preprocessing = Create_bigrams, \n",
        "                  #tokenizer_language='en_core_web_sm',\n",
        "                  lower=True)\n",
        "LABEL = data.LabelField(dtype = torch.float)"
      ],
      "execution_count": null,
      "outputs": []
    },
    {
      "cell_type": "code",
      "metadata": {
        "id": "xce0penJewX-"
      },
      "source": [
        "train_data, test_data = datasets.IMDB.splits(TEXT, LABEL)\n",
        "train_data, valid_data = train_data.split(random_state = random.seed(SEED))"
      ],
      "execution_count": null,
      "outputs": []
    },
    {
      "cell_type": "markdown",
      "metadata": {
        "id": "vTvuV-6Yjamb"
      },
      "source": [
        "Step 1.4 - Build the vocab"
      ]
    },
    {
      "cell_type": "code",
      "metadata": {
        "id": "T2Iul1iJfRyR"
      },
      "source": [
        "MAX_VOCAB_SIZE = 25_000\n",
        "\n",
        "TEXT.build_vocab(train_data, \n",
        "                 max_size = MAX_VOCAB_SIZE, \n",
        "                 vectors = \"glove.6B.100d\", \n",
        "                 unk_init = torch.Tensor.normal_)\n",
        "\n",
        "LABEL.build_vocab(train_data)"
      ],
      "execution_count": null,
      "outputs": []
    },
    {
      "cell_type": "markdown",
      "metadata": {
        "id": "Ojnz4GpWjlFR"
      },
      "source": [
        "Step 1.5 - create the number of iterators"
      ]
    },
    {
      "cell_type": "code",
      "metadata": {
        "id": "Dyl_R9jlfb3a"
      },
      "source": [
        "BATCH_SIZE = 64\n",
        "\n",
        "device = torch.device('cuda' if torch.cuda.is_available() else 'cpu')\n",
        "\n",
        "train_iterator, valid_iterator, test_iterator = data.BucketIterator.splits(\n",
        "    (train_data, valid_data, test_data), \n",
        "    batch_size = BATCH_SIZE, \n",
        "    device = device)"
      ],
      "execution_count": null,
      "outputs": []
    },
    {
      "cell_type": "markdown",
      "metadata": {
        "id": "izw3Xzbwf4QX"
      },
      "source": [
        "# **Step 2 - Create model**"
      ]
    },
    {
      "cell_type": "markdown",
      "metadata": {
        "id": "KWQn_7AAsgPe"
      },
      "source": [
        "Step 2.1 - calculating the word embedding "
      ]
    },
    {
      "cell_type": "code",
      "metadata": {
        "id": "Lv01zuilf0UO"
      },
      "source": [
        "class FastText(nn.Module):\n",
        "    def __init__(self, vocab_size, embedding_dim, output_dim, pad_idx):\n",
        "        super().__init__()\n",
        "        self.embedding = nn.Embedding(vocab_size, embedding_dim, padding_idx=pad_idx)\n",
        "        self.fc = nn.Linear(embedding_dim, output_dim)\n",
        "        \n",
        "    def forward(self, text):\n",
        "\n",
        "        embedded = self.embedding(text)\n",
        "        embedded = embedded.permute(1, 0, 2)\n",
        "        pooled = F.avg_pool2d(embedded, (embedded.shape[1], 1)).squeeze(1) \n",
        "        return self.fc(pooled)"
      ],
      "execution_count": null,
      "outputs": []
    },
    {
      "cell_type": "code",
      "metadata": {
        "id": "d5BAuI82gA0n"
      },
      "source": [
        "INPUT_DIM = len(TEXT.vocab)\n",
        "EMBEDDING_DIM = 100\n",
        "OUTPUT_DIM = 1\n",
        "PAD_IDX = TEXT.vocab.stoi[TEXT.pad_token]\n",
        "\n",
        "model = FastText(INPUT_DIM, EMBEDDING_DIM, OUTPUT_DIM, PAD_IDX)"
      ],
      "execution_count": null,
      "outputs": []
    },
    {
      "cell_type": "markdown",
      "metadata": {
        "id": "uJT-5AK8sNCL"
      },
      "source": [
        "Step 2.2 - Counting Parameters"
      ]
    },
    {
      "cell_type": "code",
      "metadata": {
        "colab": {
          "base_uri": "https://localhost:8080/"
        },
        "id": "kFkTXWk1gFlr",
        "outputId": "4c6fa7b2-8e75-45ec-8176-96fb1f74298c"
      },
      "source": [
        "def count_parameters(model):\n",
        "    return sum(p.numel() for p in model.parameters() if p.requires_grad)\n",
        "\n",
        "print(f'The model has {count_parameters(model):,} trainable parameters')"
      ],
      "execution_count": null,
      "outputs": [
        {
          "output_type": "stream",
          "text": [
            "The model has 2,500,301 trainable parameters\n"
          ],
          "name": "stdout"
        }
      ]
    },
    {
      "cell_type": "code",
      "metadata": {
        "colab": {
          "base_uri": "https://localhost:8080/"
        },
        "id": "18aLsxyxgGto",
        "outputId": "91016cab-f5a0-408c-af33-1ea7d6ec1401"
      },
      "source": [
        "pretrained_embeddings = TEXT.vocab.vectors\n",
        "model.embedding.weight.data.copy_(pretrained_embeddings)"
      ],
      "execution_count": null,
      "outputs": [
        {
          "output_type": "execute_result",
          "data": {
            "text/plain": [
              "tensor([[-0.0715,  0.9198,  1.4629,  ..., -0.4928, -0.1334,  1.6020],\n",
              "        [-0.3658,  0.4468,  1.6586,  ..., -0.6352, -2.0189, -0.6479],\n",
              "        [-0.0382, -0.2449,  0.7281,  ..., -0.1459,  0.8278,  0.2706],\n",
              "        ...,\n",
              "        [ 1.9672, -0.0860, -0.1657,  ...,  0.1853, -1.3095,  0.1087],\n",
              "        [ 1.7140,  0.7705, -0.9322,  ..., -0.7253,  0.4195,  0.9191],\n",
              "        [-0.2280,  0.0721,  0.6030,  ..., -0.2734, -0.0248,  0.9652]])"
            ]
          },
          "metadata": {
            "tags": []
          },
          "execution_count": 74
        }
      ]
    },
    {
      "cell_type": "code",
      "metadata": {
        "id": "TXxrf5SLgHHL"
      },
      "source": [
        "UNK_IDX = TEXT.vocab.stoi[TEXT.unk_token]\n",
        "\n",
        "model.embedding.weight.data[UNK_IDX] = torch.zeros(EMBEDDING_DIM)\n",
        "model.embedding.weight.data[PAD_IDX] = torch.zeros(EMBEDDING_DIM)"
      ],
      "execution_count": null,
      "outputs": []
    },
    {
      "cell_type": "markdown",
      "metadata": {
        "id": "P7-sxzE_uimX"
      },
      "source": [
        "# **Step 3 - Train the model**"
      ]
    },
    {
      "cell_type": "markdown",
      "metadata": {
        "id": "-YBr5BRkvEbA"
      },
      "source": [
        "Step 3.1 - Initializing our optimizer"
      ]
    },
    {
      "cell_type": "code",
      "metadata": {
        "id": "C-PRymdKgPL0"
      },
      "source": [
        "optimizer = optim.Adam(model.parameters())"
      ],
      "execution_count": null,
      "outputs": []
    },
    {
      "cell_type": "markdown",
      "metadata": {
        "id": "neq-CbC8vQQw"
      },
      "source": [
        "Step 3.2 - Defining criteria"
      ]
    },
    {
      "cell_type": "code",
      "metadata": {
        "id": "igKcF9ungPg8"
      },
      "source": [
        "criterion = nn.BCEWithLogitsLoss()\n",
        "\n",
        "model = model.to(device)\n",
        "criterion = criterion.to(device)"
      ],
      "execution_count": null,
      "outputs": []
    },
    {
      "cell_type": "markdown",
      "metadata": {
        "id": "P0yzL-uovYVh"
      },
      "source": [
        "Step 3.3 - Function for calculating accuracy"
      ]
    },
    {
      "cell_type": "code",
      "metadata": {
        "id": "R715poVKgP3F"
      },
      "source": [
        "def binary_accuracy(preds, y):\n",
        "    rounded_preds = torch.round(torch.sigmoid(preds))\n",
        "    correct = (rounded_preds == y).float() \n",
        "    acc = correct.sum() / len(correct)\n",
        "    return acc"
      ],
      "execution_count": null,
      "outputs": []
    },
    {
      "cell_type": "markdown",
      "metadata": {
        "id": "Sro6T-T-vtYF"
      },
      "source": [
        "Step 3.4 - Model Training"
      ]
    },
    {
      "cell_type": "code",
      "metadata": {
        "id": "fxFeeIs8gXRe"
      },
      "source": [
        "def train(model, iterator, optimizer, criterion):\n",
        "    \n",
        "    epoch_loss = 0\n",
        "    epoch_acc = 0\n",
        "    model.train()\n",
        "    for batch in iterator:\n",
        "        optimizer.zero_grad()\n",
        "        predictions = model(batch.text).squeeze(1)\n",
        "        loss = criterion(predictions, batch.label)\n",
        "        acc = binary_accuracy(predictions, batch.label)\n",
        "        loss.backward()\n",
        "        optimizer.step()\n",
        "        epoch_loss += loss.item()\n",
        "        epoch_acc += acc.item()\n",
        "        \n",
        "    return epoch_loss / len(iterator), epoch_acc / len(iterator)"
      ],
      "execution_count": null,
      "outputs": []
    },
    {
      "cell_type": "markdown",
      "metadata": {
        "id": "TdOPgzLVwAEf"
      },
      "source": [
        "Step 3.5 - Evaluation function for our model and calculating time.\n"
      ]
    },
    {
      "cell_type": "code",
      "metadata": {
        "id": "FkU_G4SKgXky"
      },
      "source": [
        "def evaluate(model, iterator, criterion):\n",
        "    \n",
        "    epoch_loss = 0\n",
        "    epoch_acc = 0\n",
        "    model.eval()\n",
        "    with torch.no_grad():\n",
        "        for batch in iterator:\n",
        "            predictions = model(batch.text).squeeze(1)\n",
        "            loss = criterion(predictions, batch.label)\n",
        "            acc = binary_accuracy(predictions, batch.label)\n",
        "            epoch_loss += loss.item()\n",
        "            epoch_acc += acc.item()\n",
        "    return epoch_loss / len(iterator), epoch_acc / len(iterator)"
      ],
      "execution_count": null,
      "outputs": []
    },
    {
      "cell_type": "code",
      "metadata": {
        "id": "FW4nRRTYgX50"
      },
      "source": [
        "def epoch_time(start_time, end_time):\n",
        "    elapsed_time = end_time - start_time\n",
        "    elapsed_mins = int(elapsed_time / 60)\n",
        "    elapsed_secs = int(elapsed_time - (elapsed_mins * 60))\n",
        "    return elapsed_mins, elapsed_secs"
      ],
      "execution_count": null,
      "outputs": []
    },
    {
      "cell_type": "markdown",
      "metadata": {
        "id": "Voae8dkHw5YQ"
      },
      "source": [
        "Step 3.6 - Printing epochs details"
      ]
    },
    {
      "cell_type": "code",
      "metadata": {
        "colab": {
          "base_uri": "https://localhost:8080/"
        },
        "id": "XafdTkuDgkwz",
        "outputId": "e6f306ab-1a59-419a-bcb0-4c11d208334a"
      },
      "source": [
        "\n",
        "N_EPOCHS = 5\n",
        "\n",
        "best_valid_loss = float('inf')\n",
        "\n",
        "for epoch in range(N_EPOCHS):\n",
        "\n",
        "    start_time = time.time()\n",
        "    \n",
        "    train_loss, train_acc = train(model, train_iterator, optimizer, criterion)\n",
        "    valid_loss, valid_acc = evaluate(model, valid_iterator, criterion)\n",
        "    \n",
        "    end_time = time.time()\n",
        "\n",
        "    epoch_mins, epoch_secs = epoch_time(start_time, end_time)\n",
        "    \n",
        "    if valid_loss < best_valid_loss:\n",
        "        best_valid_loss = valid_loss\n",
        "        torch.save(model.state_dict(), 'model_weights.h5')\n",
        "    \n",
        "    print(f'Epoch: {epoch+1:02} | Epoch Time: {epoch_mins}m {epoch_secs}s')\n",
        "    print(f'\\tTrain Loss: {train_loss:.3f} | Train Acc: {train_acc*100:.2f}%')\n",
        "    print(f'\\t Val. Loss: {valid_loss:.3f} |  Val. Acc: {valid_acc*100:.2f}%')"
      ],
      "execution_count": null,
      "outputs": [
        {
          "output_type": "stream",
          "text": [
            "Epoch: 01 | Epoch Time: 1m 8s\n",
            "\tTrain Loss: 0.664 | Train Acc: 71.18%\n",
            "\t Val. Loss: 0.536 |  Val. Acc: 75.09%\n",
            "Epoch: 02 | Epoch Time: 1m 8s\n",
            "\tTrain Loss: 0.595 | Train Acc: 78.41%\n",
            "\t Val. Loss: 0.442 |  Val. Acc: 79.70%\n",
            "Epoch: 03 | Epoch Time: 1m 8s\n",
            "\tTrain Loss: 0.516 | Train Acc: 83.40%\n",
            "\t Val. Loss: 0.394 |  Val. Acc: 83.14%\n",
            "Epoch: 04 | Epoch Time: 1m 7s\n",
            "\tTrain Loss: 0.442 | Train Acc: 86.79%\n",
            "\t Val. Loss: 0.378 |  Val. Acc: 85.49%\n",
            "Epoch: 05 | Epoch Time: 1m 8s\n",
            "\tTrain Loss: 0.389 | Train Acc: 88.53%\n",
            "\t Val. Loss: 0.382 |  Val. Acc: 86.63%\n"
          ],
          "name": "stdout"
        }
      ]
    },
    {
      "cell_type": "markdown",
      "metadata": {
        "id": "Siw6YzDgxZ9w"
      },
      "source": [
        "Step 3.7 - Calculating final accuracy after training"
      ]
    },
    {
      "cell_type": "code",
      "metadata": {
        "colab": {
          "base_uri": "https://localhost:8080/"
        },
        "id": "Z6xhKAS9gopv",
        "outputId": "5dc5bf5c-e301-4230-e732-46d933200c0e"
      },
      "source": [
        "model.load_state_dict(torch.load('model_weights.h5'))\n",
        "test_loss, test_acc = evaluate(model, test_iterator, criterion)\n",
        "print(f'Test Loss: {test_loss:.3f} | Test Acc: {test_acc*100:.2f}%')"
      ],
      "execution_count": null,
      "outputs": [
        {
          "output_type": "stream",
          "text": [
            "Test Loss: 0.380 | Test Acc: 85.13%\n"
          ],
          "name": "stdout"
        }
      ]
    },
    {
      "cell_type": "markdown",
      "metadata": {
        "id": "Pe8JYJRfxqEw"
      },
      "source": [
        "# **Step 4 - Checking model by providing user input**"
      ]
    },
    {
      "cell_type": "code",
      "metadata": {
        "id": "H18tsAhXgpoq"
      },
      "source": [
        "import spacy\n",
        "nlp = spacy.load('en_core_web_sm')\n",
        "\n",
        "def predict_sentiment(model, sentence):\n",
        "    model.eval()\n",
        "    tokenized = Create_bigrams([tok.text for tok in nlp.tokenizer(sentence)])\n",
        "    indexed = [TEXT.vocab.stoi[t] for t in tokenized]\n",
        "    tensor = torch.LongTensor(indexed).to(device)\n",
        "    tensor = tensor.unsqueeze(1)\n",
        "    prediction = torch.sigmoid(model(tensor))\n",
        "    if prediction.item() >= 0.5:\n",
        "      return print('positive review')\n",
        "    else:\n",
        "      return print('negative review')"
      ],
      "execution_count": null,
      "outputs": []
    },
    {
      "cell_type": "code",
      "metadata": {
        "colab": {
          "base_uri": "https://localhost:8080/"
        },
        "id": "Ze6zjcaqgsNU",
        "outputId": "88e29ea0-f96e-4020-8db0-3332376e73b8"
      },
      "source": [
        "predict_sentiment(model, \"What a lovely piece of shit this was\")"
      ],
      "execution_count": null,
      "outputs": [
        {
          "output_type": "stream",
          "text": [
            "negative review\n"
          ],
          "name": "stdout"
        }
      ]
    },
    {
      "cell_type": "code",
      "metadata": {
        "colab": {
          "base_uri": "https://localhost:8080/"
        },
        "id": "o_vNxDQfgvfF",
        "outputId": "219d1f50-7711-477e-d793-0d1964bf37fc"
      },
      "source": [
        "predict_sentiment(model, \"What a lovely piece this was\")"
      ],
      "execution_count": null,
      "outputs": [
        {
          "output_type": "stream",
          "text": [
            "positive review\n"
          ],
          "name": "stdout"
        }
      ]
    },
    {
      "cell_type": "code",
      "metadata": {
        "colab": {
          "base_uri": "https://localhost:8080/"
        },
        "id": "LJa5UmAyymt8",
        "outputId": "b947050a-b642-4055-f884-2bebe2974d0e"
      },
      "source": [
        "predict_sentiment(model, \"very nice\")"
      ],
      "execution_count": null,
      "outputs": [
        {
          "output_type": "stream",
          "text": [
            "positive review\n"
          ],
          "name": "stdout"
        }
      ]
    },
    {
      "cell_type": "code",
      "metadata": {
        "id": "qSha1QhkzDzl"
      },
      "source": [
        ""
      ],
      "execution_count": null,
      "outputs": []
    }
  ]
}