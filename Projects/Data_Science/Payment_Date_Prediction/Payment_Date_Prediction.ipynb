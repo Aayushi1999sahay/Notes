{
  "nbformat": 4,
  "nbformat_minor": 0,
  "metadata": {
    "colab": {
      "name": "Payment_Date_Prediction.ipynb",
      "provenance": [],
      "collapsed_sections": [
        "9LbqDII-KsGq",
        "dc7up12hLbNP",
        "GSJNRrbQ3sEu",
        "tKvNqLDg4vRT",
        "sunx-9yj0xvS",
        "BmhsOreW7S_o",
        "MY0pASAsDlqK",
        "IqWGeW2t9DuS",
        "vajSGsBfjaE3",
        "bzrdTddux_rV"
      ]
    },
    "kernelspec": {
      "name": "python3",
      "display_name": "Python 3"
    }
  },
  "cells": [
    {
      "cell_type": "markdown",
      "metadata": {
        "id": "9LbqDII-KsGq"
      },
      "source": [
        "# **Step 1- Importing Libraries + Uploading Dataset + separating final test set.** "
      ]
    },
    {
      "cell_type": "code",
      "metadata": {
        "id": "P9oX_mfYKd6R"
      },
      "source": [
        "import pandas as pd\n",
        "import numpy as np\n",
        "import matplotlib.pyplot as plt\n",
        "%matplotlib inline\n",
        "import seaborn as sns"
      ],
      "execution_count": null,
      "outputs": []
    },
    {
      "cell_type": "code",
      "metadata": {
        "colab": {
          "base_uri": "https://localhost:8080/"
        },
        "id": "1W4UtUOjLAAo",
        "outputId": "69fe8f75-87eb-48ca-f99c-bb619301e007"
      },
      "source": [
        "df = pd.read_csv('/content/drive/MyDrive/Colab Notebooks/HRC/1805182.csv')\n",
        "df.head()"
      ],
      "execution_count": null,
      "outputs": [
        {
          "output_type": "execute_result",
          "data": {
            "text/html": [
              "<div>\n",
              "<style scoped>\n",
              "    .dataframe tbody tr th:only-of-type {\n",
              "        vertical-align: middle;\n",
              "    }\n",
              "\n",
              "    .dataframe tbody tr th {\n",
              "        vertical-align: top;\n",
              "    }\n",
              "\n",
              "    .dataframe thead th {\n",
              "        text-align: right;\n",
              "    }\n",
              "</style>\n",
              "<table border=\"1\" class=\"dataframe\">\n",
              "  <thead>\n",
              "    <tr style=\"text-align: right;\">\n",
              "      <th></th>\n",
              "      <th>business_code</th>\n",
              "      <th>cust_number</th>\n",
              "      <th>name_customer</th>\n",
              "      <th>clear_date</th>\n",
              "      <th>buisness_year</th>\n",
              "      <th>doc_id</th>\n",
              "      <th>posting_date</th>\n",
              "      <th>document_create_date</th>\n",
              "      <th>document_create_date.1</th>\n",
              "      <th>due_in_date</th>\n",
              "      <th>invoice_currency</th>\n",
              "      <th>document type</th>\n",
              "      <th>posting_id</th>\n",
              "      <th>area_business</th>\n",
              "      <th>total_open_amount</th>\n",
              "      <th>baseline_create_date</th>\n",
              "      <th>cust_payment_terms</th>\n",
              "      <th>invoice_id</th>\n",
              "      <th>isOpen</th>\n",
              "    </tr>\n",
              "  </thead>\n",
              "  <tbody>\n",
              "    <tr>\n",
              "      <th>0</th>\n",
              "      <td>U001</td>\n",
              "      <td>0200770677</td>\n",
              "      <td>KRAS</td>\n",
              "      <td>2019-05-15 00:00:00</td>\n",
              "      <td>2019.0</td>\n",
              "      <td>1.929230e+09</td>\n",
              "      <td>2019-04-30</td>\n",
              "      <td>20190429</td>\n",
              "      <td>20190430</td>\n",
              "      <td>20190515.0</td>\n",
              "      <td>USD</td>\n",
              "      <td>RV</td>\n",
              "      <td>1.0</td>\n",
              "      <td>NaN</td>\n",
              "      <td>23397.22</td>\n",
              "      <td>20190430.0</td>\n",
              "      <td>NAA8</td>\n",
              "      <td>1.929230e+09</td>\n",
              "      <td>0</td>\n",
              "    </tr>\n",
              "    <tr>\n",
              "      <th>1</th>\n",
              "      <td>U001</td>\n",
              "      <td>0200777735</td>\n",
              "      <td>NASH  us</td>\n",
              "      <td>2019-05-16 00:00:00</td>\n",
              "      <td>2019.0</td>\n",
              "      <td>1.929237e+09</td>\n",
              "      <td>2019-05-03</td>\n",
              "      <td>20190501</td>\n",
              "      <td>20190503</td>\n",
              "      <td>20190518.0</td>\n",
              "      <td>USD</td>\n",
              "      <td>RV</td>\n",
              "      <td>1.0</td>\n",
              "      <td>NaN</td>\n",
              "      <td>16925.40</td>\n",
              "      <td>20190503.0</td>\n",
              "      <td>NAA8</td>\n",
              "      <td>1.929237e+09</td>\n",
              "      <td>0</td>\n",
              "    </tr>\n",
              "    <tr>\n",
              "      <th>2</th>\n",
              "      <td>U001</td>\n",
              "      <td>0200748335</td>\n",
              "      <td>FO foundation</td>\n",
              "      <td>2019-10-26 00:00:00</td>\n",
              "      <td>2019.0</td>\n",
              "      <td>1.929968e+09</td>\n",
              "      <td>2019-10-07</td>\n",
              "      <td>20191004</td>\n",
              "      <td>20191007</td>\n",
              "      <td>20191022.0</td>\n",
              "      <td>USD</td>\n",
              "      <td>RV</td>\n",
              "      <td>1.0</td>\n",
              "      <td>NaN</td>\n",
              "      <td>46967.83</td>\n",
              "      <td>20191007.0</td>\n",
              "      <td>NAA8</td>\n",
              "      <td>1.929968e+09</td>\n",
              "      <td>0</td>\n",
              "    </tr>\n",
              "    <tr>\n",
              "      <th>3</th>\n",
              "      <td>U001</td>\n",
              "      <td>0200769623</td>\n",
              "      <td>WAL-MAR co</td>\n",
              "      <td>2019-02-25 00:00:00</td>\n",
              "      <td>2019.0</td>\n",
              "      <td>1.928795e+09</td>\n",
              "      <td>2019-02-13</td>\n",
              "      <td>20190213</td>\n",
              "      <td>20190213</td>\n",
              "      <td>20190228.0</td>\n",
              "      <td>USD</td>\n",
              "      <td>RV</td>\n",
              "      <td>1.0</td>\n",
              "      <td>NaN</td>\n",
              "      <td>756.28</td>\n",
              "      <td>20190213.0</td>\n",
              "      <td>NAH4</td>\n",
              "      <td>1.928795e+09</td>\n",
              "      <td>0</td>\n",
              "    </tr>\n",
              "    <tr>\n",
              "      <th>4</th>\n",
              "      <td>U001</td>\n",
              "      <td>0100031704</td>\n",
              "      <td>DELHAIZE corporation</td>\n",
              "      <td>2020-01-28 00:00:00</td>\n",
              "      <td>2020.0</td>\n",
              "      <td>1.930371e+09</td>\n",
              "      <td>2020-01-07</td>\n",
              "      <td>20200107</td>\n",
              "      <td>20200107</td>\n",
              "      <td>20200122.0</td>\n",
              "      <td>USD</td>\n",
              "      <td>RV</td>\n",
              "      <td>1.0</td>\n",
              "      <td>NaN</td>\n",
              "      <td>70228.16</td>\n",
              "      <td>20200107.0</td>\n",
              "      <td>NAA8</td>\n",
              "      <td>1.930371e+09</td>\n",
              "      <td>0</td>\n",
              "    </tr>\n",
              "  </tbody>\n",
              "</table>\n",
              "</div>"
            ],
            "text/plain": [
              "  business_code cust_number  ...    invoice_id isOpen\n",
              "0          U001  0200770677  ...  1.929230e+09      0\n",
              "1          U001  0200777735  ...  1.929237e+09      0\n",
              "2          U001  0200748335  ...  1.929968e+09      0\n",
              "3          U001  0200769623  ...  1.928795e+09      0\n",
              "4          U001  0100031704  ...  1.930371e+09      0\n",
              "\n",
              "[5 rows x 19 columns]"
            ]
          },
          "metadata": {
            "tags": []
          },
          "execution_count": 678
        }
      ]
    },
    {
      "cell_type": "code",
      "metadata": {
        "colab": {
          "base_uri": "https://localhost:8080/"
        },
        "id": "bNylTY_GLHWB",
        "outputId": "3595df9c-ba0e-4fc3-be9a-83563d58f578"
      },
      "source": [
        "#Creating final test set \n",
        "final_test_df = df[df['clear_date'].isnull()]\n",
        "\n",
        "#Shape of final test set\n",
        "print('shape of final test dataset: ',final_test_df.shape)\n",
        "\n",
        "#Updating df = df - final_test_set\n",
        "df = df.dropna(subset=['clear_date']) \n",
        "print('shape of remaining dataset: ',df.shape)"
      ],
      "execution_count": null,
      "outputs": [
        {
          "output_type": "stream",
          "text": [
            "shape of final test dataset:  (4151, 19)\n",
            "shape of remaining dataset:  (45849, 19)\n"
          ],
          "name": "stdout"
        }
      ]
    },
    {
      "cell_type": "markdown",
      "metadata": {
        "id": "dc7up12hLbNP"
      },
      "source": [
        "# **Step 2- Data preprocessing** "
      ]
    },
    {
      "cell_type": "markdown",
      "metadata": {
        "id": "QrrSZ3mELdRY"
      },
      "source": [
        "**Step 2.1-  Removing-** \n",
        "1.   Null Feature.\n",
        "2.   Constant Features.\n",
        "3.   Changing datatype.\n",
        "4.   Checking for duplicate rows.\n",
        "\n",
        "\n",
        "\n"
      ]
    },
    {
      "cell_type": "code",
      "metadata": {
        "colab": {
          "base_uri": "https://localhost:8080/"
        },
        "id": "wvEIjwgYLH5h",
        "outputId": "cb985a7e-e4fe-42d2-b78f-16cb839064bf"
      },
      "source": [
        "#To know the datatype of features and null values.\n",
        "df.info()"
      ],
      "execution_count": null,
      "outputs": [
        {
          "output_type": "stream",
          "text": [
            "<class 'pandas.core.frame.DataFrame'>\n",
            "Int64Index: 45849 entries, 0 to 45848\n",
            "Data columns (total 19 columns):\n",
            " #   Column                  Non-Null Count  Dtype  \n",
            "---  ------                  --------------  -----  \n",
            " 0   business_code           45849 non-null  object \n",
            " 1   cust_number             45849 non-null  object \n",
            " 2   name_customer           45849 non-null  object \n",
            " 3   clear_date              45849 non-null  object \n",
            " 4   buisness_year           45849 non-null  float64\n",
            " 5   doc_id                  45849 non-null  float64\n",
            " 6   posting_date            45849 non-null  object \n",
            " 7   document_create_date    45849 non-null  int64  \n",
            " 8   document_create_date.1  45849 non-null  int64  \n",
            " 9   due_in_date             45849 non-null  float64\n",
            " 10  invoice_currency        45849 non-null  object \n",
            " 11  document type           45849 non-null  object \n",
            " 12  posting_id              45849 non-null  float64\n",
            " 13  area_business           0 non-null      float64\n",
            " 14  total_open_amount       45849 non-null  float64\n",
            " 15  baseline_create_date    45849 non-null  float64\n",
            " 16  cust_payment_terms      45849 non-null  object \n",
            " 17  invoice_id              45843 non-null  float64\n",
            " 18  isOpen                  45849 non-null  int64  \n",
            "dtypes: float64(8), int64(3), object(8)\n",
            "memory usage: 7.0+ MB\n"
          ],
          "name": "stdout"
        }
      ]
    },
    {
      "cell_type": "code",
      "metadata": {
        "colab": {
          "base_uri": "https://localhost:8080/"
        },
        "id": "5Zb7R7U0sdMq",
        "outputId": "a694d4f3-9fe2-4e39-aa06-b82dea263f0c"
      },
      "source": [
        "#To identify null and constant feature.\n",
        "#To guess which 2 features can be duplicate.\n",
        "df.nunique()"
      ],
      "execution_count": null,
      "outputs": [
        {
          "output_type": "execute_result",
          "data": {
            "text/plain": [
              "business_code                 6\n",
              "cust_number                1358\n",
              "name_customer              4177\n",
              "clear_date                  399\n",
              "buisness_year                 2\n",
              "doc_id                    45849\n",
              "posting_date                424\n",
              "document_create_date        429\n",
              "document_create_date.1      425\n",
              "due_in_date                 492\n",
              "invoice_currency              2\n",
              "document type                 2\n",
              "posting_id                    1\n",
              "area_business                 0\n",
              "total_open_amount         41642\n",
              "baseline_create_date        433\n",
              "cust_payment_terms           70\n",
              "invoice_id                45843\n",
              "isOpen                        1\n",
              "dtype: int64"
            ]
          },
          "metadata": {
            "tags": []
          },
          "execution_count": 681
        }
      ]
    },
    {
      "cell_type": "code",
      "metadata": {
        "colab": {
          "base_uri": "https://localhost:8080/"
        },
        "id": "cyQNdqoltWM0",
        "outputId": "d2d52941-6a5f-47a0-a3d1-8e9a46fb6768"
      },
      "source": [
        "#To see how many null values\n",
        "df.isnull().sum()"
      ],
      "execution_count": null,
      "outputs": [
        {
          "output_type": "execute_result",
          "data": {
            "text/plain": [
              "business_code                 0\n",
              "cust_number                   0\n",
              "name_customer                 0\n",
              "clear_date                    0\n",
              "buisness_year                 0\n",
              "doc_id                        0\n",
              "posting_date                  0\n",
              "document_create_date          0\n",
              "document_create_date.1        0\n",
              "due_in_date                   0\n",
              "invoice_currency              0\n",
              "document type                 0\n",
              "posting_id                    0\n",
              "area_business             45849\n",
              "total_open_amount             0\n",
              "baseline_create_date          0\n",
              "cust_payment_terms            0\n",
              "invoice_id                    6\n",
              "isOpen                        0\n",
              "dtype: int64"
            ]
          },
          "metadata": {
            "tags": []
          },
          "execution_count": 682
        }
      ]
    },
    {
      "cell_type": "markdown",
      "metadata": {
        "id": "ClkSrWO2tQss"
      },
      "source": [
        "**TABLE 1**\n",
        "> **Assumption-**\n",
        "1.   Need to check for posting_date, document_create_date,  document_create_date.1, baseline_create_date as they all have almost same number of unique values. So may be duplicate columns.\n",
        "2.   Need to check for doc_id and invoice_id as they all have almost same number of unique values. So may be duplicate columns. We need to check similarity between all dates.\n",
        "3.   As invoice_id have 6 null values and 45843 unique values which symbolises that it is a kind of primary key. But we have doc_id as primary key so they may be same. By, observing few rows we can see that they both have same values. So, I'll fill the doc_id value in invoice_id where invoice_id is NULL (change is temporary) and then check if both columns are same or not.\n",
        "**Conclusion-**\n",
        "1. area_business is null feature.\n",
        "2. posting_id and isOpen are constant feature.\n",
        "3. Datatype of business_year must be changed to int.\n",
        "4. Datatype of all date columns should be changed to datetime. \n",
        "\n"
      ]
    },
    {
      "cell_type": "code",
      "metadata": {
        "colab": {
          "base_uri": "https://localhost:8080/"
        },
        "id": "kgFxzIBatF7e",
        "outputId": "51286aee-f1a4-457f-ed36-2c3421ca7c68"
      },
      "source": [
        "#TABLE 1 CONCLUSION 1 & 2- Deleting area_business, posting_id, isOpen.\n",
        "list = ['area_business', 'posting_id', 'isOpen']\n",
        "df = df.drop(list,1)\n",
        "df.shape"
      ],
      "execution_count": null,
      "outputs": [
        {
          "output_type": "execute_result",
          "data": {
            "text/plain": [
              "(45849, 16)"
            ]
          },
          "metadata": {
            "tags": []
          },
          "execution_count": 683
        }
      ]
    },
    {
      "cell_type": "code",
      "metadata": {
        "id": "VLPX9lkdtuXb"
      },
      "source": [
        "#TABLE 1 CONCLUSION 3- buisness_year datatype float ---> int.\n",
        "df['buisness_year'] = df['buisness_year'].astype('int64')"
      ],
      "execution_count": null,
      "outputs": []
    },
    {
      "cell_type": "code",
      "metadata": {
        "id": "4wM_dRQytyLO"
      },
      "source": [
        "#TABLE 1 CONCLUSION 4- Changing datatype of all data features. Easy to do operations like calculating delay in payment.\n",
        "\n",
        "df['baseline_create_date']= df['baseline_create_date'].astype('int64')\n",
        "df['due_in_date']= df['due_in_date'].astype('int64')\n",
        "df['baseline_create_date']=pd.to_datetime(df['baseline_create_date'].astype(str), format='%Y%m%d')\n",
        "df['due_in_date']=pd.to_datetime(df['due_in_date'].astype(str), format='%Y%m%d')\n",
        "df['document_create_date.1']=pd.to_datetime(df['document_create_date.1'].astype(str), format='%Y%m%d')\n",
        "df['document_create_date']=pd.to_datetime(df['document_create_date'].astype(str), format='%Y%m%d')\n",
        "df['posting_date']=pd.to_datetime(df['posting_date'])\n",
        "\n",
        "df['clear_date']=df['clear_date'].astype(str)\n",
        "df['clear_date']=df['clear_date'].str.slice(0,10)\n",
        "df['clear_date']=df['clear_date'].str.replace('-','')\n",
        "df['clear_date']=pd.to_datetime(df['clear_date'])"
      ],
      "execution_count": null,
      "outputs": []
    },
    {
      "cell_type": "code",
      "metadata": {
        "colab": {
          "base_uri": "https://localhost:8080/"
        },
        "id": "bnNTDDfjvUyf",
        "outputId": "d9b163a7-e5b7-4813-e763-7f6307957cf3"
      },
      "source": [
        "#TABLE 1 ASSUMPTION 1 - Checking by how much date columns are different.\n",
        "\n",
        "print(df.loc[df['document_create_date.1'] != df['document_create_date']].shape)\n",
        "print(df.loc[df['document_create_date.1'] != df['posting_date']].shape)\n",
        "print(df.loc[df['document_create_date.1'] != df['baseline_create_date']].shape)\n",
        "print()\n",
        "print(df.loc[df['document_create_date'] != df['posting_date']].shape)\n",
        "print(df.loc[df['document_create_date'] != df['baseline_create_date']].shape)\n",
        "print()\n",
        "print(df.loc[df['baseline_create_date'] != df['posting_date']].shape)"
      ],
      "execution_count": null,
      "outputs": [
        {
          "output_type": "stream",
          "text": [
            "(26586, 16)\n",
            "(6, 16)\n",
            "(5137, 16)\n",
            "\n",
            "(26580, 16)\n",
            "(31478, 16)\n",
            "\n",
            "(5143, 16)\n"
          ],
          "name": "stdout"
        }
      ]
    },
    {
      "cell_type": "markdown",
      "metadata": {
        "id": "OurA5BYAwAGp"
      },
      "source": [
        "**Conclusion-**  Only 6 rows are different in document_create_date.1 and posting_date (i.e 6/45849 = 0.00013). Hence we can delete any one of them and that will be posting date.\n",
        "        document_create_date can be deleted as we have it's normalized form i.e document_create_date.1\n",
        "\n"
      ]
    },
    {
      "cell_type": "code",
      "metadata": {
        "colab": {
          "base_uri": "https://localhost:8080/"
        },
        "id": "Q0PsydrmwWbz",
        "outputId": "44ee5e7d-0d1c-46ca-d141-9699930e1570"
      },
      "source": [
        "#Hence drop posting_date.\n",
        "df = df.drop('posting_date',1)\n",
        "print(df.shape)"
      ],
      "execution_count": null,
      "outputs": [
        {
          "output_type": "stream",
          "text": [
            "(45849, 15)\n"
          ],
          "name": "stdout"
        }
      ]
    },
    {
      "cell_type": "code",
      "metadata": {
        "colab": {
          "base_uri": "https://localhost:8080/"
        },
        "id": "L0639BuNt1z5",
        "outputId": "b63b0cd9-c65d-4aac-b430-6dc4c9fde498"
      },
      "source": [
        "#TABLE 1 ASSUMPTION 2 & 3 - check for invoice_id and doc_id.\n",
        "print(df['invoice_id'].fillna(df['doc_id']).equals(df['doc_id']))"
      ],
      "execution_count": null,
      "outputs": [
        {
          "output_type": "stream",
          "text": [
            "True\n"
          ],
          "name": "stdout"
        }
      ]
    },
    {
      "cell_type": "code",
      "metadata": {
        "colab": {
          "base_uri": "https://localhost:8080/"
        },
        "id": "kfMcGjkpurGA",
        "outputId": "dbd986ec-f5b3-46ef-fe83-e90928c5a274"
      },
      "source": [
        "#True,Hence drop invoice_id\n",
        "df = df.drop('invoice_id',1)\n",
        "print(df.shape)"
      ],
      "execution_count": null,
      "outputs": [
        {
          "output_type": "stream",
          "text": [
            "(45849, 14)\n"
          ],
          "name": "stdout"
        }
      ]
    },
    {
      "cell_type": "code",
      "metadata": {
        "colab": {
          "base_uri": "https://localhost:8080/"
        },
        "id": "8267B1t7usEu",
        "outputId": "e4ea60a9-f916-410a-defb-f5cd71599d17"
      },
      "source": [
        "#To view how many duplicate records.\n",
        "df.duplicated().sum()"
      ],
      "execution_count": null,
      "outputs": [
        {
          "output_type": "execute_result",
          "data": {
            "text/plain": [
              "0"
            ]
          },
          "metadata": {
            "tags": []
          },
          "execution_count": 690
        }
      ]
    },
    {
      "cell_type": "markdown",
      "metadata": {
        "id": "Z7ZNrtK9wliR"
      },
      "source": [
        "**Step 2.2- Data Sanity**\n",
        "> We'll check for-\n",
        "1.   Spelling mistakes (example- 2019 or 2o19)\n",
        "2.   range (example- amount>0)\n",
        "3.   Relationship between dates (example clear_date > document_create_date)\n",
        "\n",
        "\n",
        "\n"
      ]
    },
    {
      "cell_type": "markdown",
      "metadata": {
        "id": "R881nkhxzVgA"
      },
      "source": [
        "Analysing all kind of features we have-\n"
      ]
    },
    {
      "cell_type": "markdown",
      "metadata": {
        "id": "ZXS7P6UfzZxI"
      },
      "source": [
        "1. Continous Variable-"
      ]
    },
    {
      "cell_type": "code",
      "metadata": {
        "colab": {
          "base_uri": "https://localhost:8080/"
        },
        "id": "qckFhF8swfOl",
        "outputId": "e98a4fef-4ed2-4f8a-ba84-60c3a73f4c82"
      },
      "source": [
        "#Column- total_open_amount\n",
        "\n",
        "#Checking for amount. It must be greater than 0.\n",
        "print(df[df['total_open_amount']<0].shape)\n",
        "\n",
        "#RESULT- All ok."
      ],
      "execution_count": null,
      "outputs": [
        {
          "output_type": "stream",
          "text": [
            "(0, 14)\n"
          ],
          "name": "stdout"
        }
      ]
    },
    {
      "cell_type": "markdown",
      "metadata": {
        "id": "ZKIo5tqK2VW2"
      },
      "source": [
        "2. Discrete variable-"
      ]
    },
    {
      "cell_type": "code",
      "metadata": {
        "colab": {
          "base_uri": "https://localhost:8080/"
        },
        "id": "LTDMjPuO2Zs_",
        "outputId": "3fcbf655-a2ae-40be-a4cc-9ceb58218e97"
      },
      "source": [
        "#Checking for business years.\n",
        "df['buisness_year'].value_counts()"
      ],
      "execution_count": null,
      "outputs": [
        {
          "output_type": "execute_result",
          "data": {
            "text/plain": [
              "2019    39803\n",
              "2020     6046\n",
              "Name: buisness_year, dtype: int64"
            ]
          },
          "metadata": {
            "tags": []
          },
          "execution_count": 692
        }
      ]
    },
    {
      "cell_type": "markdown",
      "metadata": {
        "id": "6ioHLgeQzoql"
      },
      "source": [
        "3. Categorical Variable- Nominal"
      ]
    },
    {
      "cell_type": "code",
      "metadata": {
        "colab": {
          "base_uri": "https://localhost:8080/"
        },
        "id": "J6yC73HVzt4f",
        "outputId": "ffe926c2-517d-4c8a-de68-c0cfc478e7a8"
      },
      "source": [
        "#Check for cust_number- By analysing top 20 rows i get to know that all cust_number are not integer, some are in format 'CCCU20'. \n",
        "#                     - So we need to check if we have only 2 to 3 values like this or more. If very very few then we'll delete them\n",
        "#                       assuming that they are wrongly written else not.\n",
        "\n",
        "sum=0\n",
        "negative = 0\n",
        "for i in df['cust_number']:\n",
        "  try:\n",
        "    i=int(i)\n",
        "    if i<0:\n",
        "      negative = negative + 1\n",
        "  except:\n",
        "    sum = sum+1\n",
        "print('sum = ',sum)\n",
        "print('negative cust_number = ',negative)\n",
        "\n",
        "#Result - We'll keep all."
      ],
      "execution_count": null,
      "outputs": [
        {
          "output_type": "stream",
          "text": [
            "sum =  1531\n",
            "negative cust_number =  0\n"
          ],
          "name": "stdout"
        }
      ]
    },
    {
      "cell_type": "code",
      "metadata": {
        "colab": {
          "base_uri": "https://localhost:8080/"
        },
        "id": "fnDQ5Dd70N5Q",
        "outputId": "4d78eec8-a1c5-4c75-8eeb-dd1b4b57b65a"
      },
      "source": [
        "#Check for name_customer. It must not be a number.\n",
        "sum=0\n",
        "for i in df['name_customer']:\n",
        "  try:\n",
        "    i=int(i)\n",
        "    sum = sum+1\n",
        "  except:\n",
        "    i=str(i)\n",
        "print(sum)\n",
        "\n",
        "#RESULT- Nothing is wrong."
      ],
      "execution_count": null,
      "outputs": [
        {
          "output_type": "stream",
          "text": [
            "0\n"
          ],
          "name": "stdout"
        }
      ]
    },
    {
      "cell_type": "code",
      "metadata": {
        "colab": {
          "base_uri": "https://localhost:8080/"
        },
        "id": "fp5p4TfX0WVP",
        "outputId": "f8e03288-0bb6-4d86-f5ec-7a420653107b"
      },
      "source": [
        "#doc_id should always be positive\n",
        "print(df[df['doc_id']<0].shape)\n",
        "\n",
        "#RESULT- All ok."
      ],
      "execution_count": null,
      "outputs": [
        {
          "output_type": "stream",
          "text": [
            "(0, 14)\n"
          ],
          "name": "stdout"
        }
      ]
    },
    {
      "cell_type": "markdown",
      "metadata": {
        "id": "5OOUQLPr0dWC"
      },
      "source": [
        "4. Categorical Variable- Ordinal"
      ]
    },
    {
      "cell_type": "code",
      "metadata": {
        "colab": {
          "base_uri": "https://localhost:8080/"
        },
        "id": "A8vwjh-Q0Zeb",
        "outputId": "150808a7-a4e2-462a-fe85-739c1520b6ce"
      },
      "source": [
        "#Check for unique values of business_code.\n",
        "df['business_code'].value_counts()"
      ],
      "execution_count": null,
      "outputs": [
        {
          "output_type": "execute_result",
          "data": {
            "text/plain": [
              "U001    41424\n",
              "CA02     3653\n",
              "U013      604\n",
              "U002      159\n",
              "U005        6\n",
              "U007        3\n",
              "Name: business_code, dtype: int64"
            ]
          },
          "metadata": {
            "tags": []
          },
          "execution_count": 696
        }
      ]
    },
    {
      "cell_type": "code",
      "metadata": {
        "colab": {
          "base_uri": "https://localhost:8080/"
        },
        "id": "ziuZn9Nk2okH",
        "outputId": "9f1743e8-34dc-4e0c-b854-aaa115a11234"
      },
      "source": [
        "#Check for unique values of invoice_currency.\n",
        "df['invoice_currency'].value_counts() "
      ],
      "execution_count": null,
      "outputs": [
        {
          "output_type": "execute_result",
          "data": {
            "text/plain": [
              "USD    42196\n",
              "CAD     3653\n",
              "Name: invoice_currency, dtype: int64"
            ]
          },
          "metadata": {
            "tags": []
          },
          "execution_count": 697
        }
      ]
    },
    {
      "cell_type": "code",
      "metadata": {
        "colab": {
          "base_uri": "https://localhost:8080/"
        },
        "id": "wL1r90p32usu",
        "outputId": "ca146c89-b72f-4ad6-e615-91e5e0cafbb5"
      },
      "source": [
        "#Check for unique values of cust_payment_terms.\n",
        "df['cust_payment_terms'].value_counts()"
      ],
      "execution_count": null,
      "outputs": [
        {
          "output_type": "execute_result",
          "data": {
            "text/plain": [
              "NAA8    18323\n",
              "NAH4    12211\n",
              "CA10     3552\n",
              "NAC6     1468\n",
              "NAM4     1269\n",
              "        ...  \n",
              "NATM        1\n",
              "BR12        1\n",
              "NAUX        1\n",
              "NATX        1\n",
              "NANC        1\n",
              "Name: cust_payment_terms, Length: 70, dtype: int64"
            ]
          },
          "metadata": {
            "tags": []
          },
          "execution_count": 698
        }
      ]
    },
    {
      "cell_type": "code",
      "metadata": {
        "colab": {
          "base_uri": "https://localhost:8080/"
        },
        "id": "o5PL7UBR2zIu",
        "outputId": "2c6cef0c-13cd-4b1f-b0be-ee72a0ce16cf"
      },
      "source": [
        "#Check for unique values of document type.\n",
        "df['document type'].value_counts()"
      ],
      "execution_count": null,
      "outputs": [
        {
          "output_type": "execute_result",
          "data": {
            "text/plain": [
              "RV    45843\n",
              "X2        6\n",
              "Name: document type, dtype: int64"
            ]
          },
          "metadata": {
            "tags": []
          },
          "execution_count": 699
        }
      ]
    },
    {
      "cell_type": "markdown",
      "metadata": {
        "id": "6kXnRjnD3Jtm"
      },
      "source": [
        "**TABLE 2- Checking constraints for date**\n",
        "> **Specifying arrangment of different dates-** \n",
        "1.   clear_date- The day on which customer paid the money.\n",
        "2.   document_create_date- Date on which invoice document is created. \n",
        "3.   document_create_date.1- Date on which invoice document is created. (normalized date)\n",
        "4.   due_in_date- Date before or on which payment need to be completed.\n",
        "5.   baseline_create_date- The day on which invoice was created or Date from which the terms of payment apply.\n",
        "**Conclusion-**\n",
        "1.   document_create_date.1 or baseline_create_date or document_create_date < clear_date \n",
        "2.   clear_date can be before or after due_date.\n",
        "3.   document_create_date.1 or baseline_create_date or document_create_date < due_in_date\n",
        "5. document_create_date.1 and baseline_create_date are very similar."
      ]
    },
    {
      "cell_type": "code",
      "metadata": {
        "colab": {
          "base_uri": "https://localhost:8080/"
        },
        "id": "jMp1f-gk29CK",
        "outputId": "3ffbdf35-367e-4136-8cca-beb5edb77405"
      },
      "source": [
        "#Checking how many rows are not folllowing these constraints.\n",
        "\n",
        "print(df.loc[(df['clear_date']-df['baseline_create_date']).dt.days<0].shape)\n",
        "print(df.loc[(df['clear_date']-df['document_create_date.1']).dt.days<0].shape)\n",
        "print(df.loc[(df['clear_date']-df['document_create_date']).dt.days<0].shape)\n",
        "print(df.loc[(df['due_in_date']-df['baseline_create_date']).dt.days<0].shape)\n",
        "print(df.loc[(df['due_in_date']-df['document_create_date.1']).dt.days<0].shape)\n",
        "print(df.loc[(df['due_in_date']-df['document_create_date']).dt.days<0].shape)"
      ],
      "execution_count": null,
      "outputs": [
        {
          "output_type": "stream",
          "text": [
            "(1, 14)\n",
            "(0, 14)\n",
            "(1, 14)\n",
            "(0, 14)\n",
            "(132, 14)\n",
            "(173, 14)\n"
          ],
          "name": "stdout"
        }
      ]
    },
    {
      "cell_type": "code",
      "metadata": {
        "colab": {
          "base_uri": "https://localhost:8080/"
        },
        "id": "DNVCww6_3SCt",
        "outputId": "306de1d2-99e2-4977-8d1a-80b50e678d4a"
      },
      "source": [
        "print('Before eliminating wrong records ---> shape = ',df.shape)\n",
        "\n",
        "df.drop(df.loc[(df['clear_date']-df['baseline_create_date']).dt.days<0].index,inplace=True)\n",
        "df.drop(df.loc[(df['clear_date']-df['document_create_date.1']).dt.days<0].index,inplace=True)\n",
        "df.drop(df.loc[(df['clear_date']-df['document_create_date']).dt.days<0].index,inplace=True)\n",
        "df.drop(df.loc[(df['due_in_date']-df['baseline_create_date']).dt.days<0].index,inplace=True)\n",
        "df.drop(df.loc[(df['due_in_date']-df['document_create_date.1']).dt.days<0].index,inplace=True)\n",
        "df.drop(df.loc[(df['due_in_date']-df['document_create_date']).dt.days<0].index,inplace=True)\n",
        "\n",
        "print('Before eliminating wrong records ---> shape = ',df.shape)"
      ],
      "execution_count": null,
      "outputs": [
        {
          "output_type": "stream",
          "text": [
            "Before eliminating wrong records ---> shape =  (45849, 14)\n",
            "Before eliminating wrong records ---> shape =  (45675, 14)\n"
          ],
          "name": "stdout"
        }
      ]
    },
    {
      "cell_type": "markdown",
      "metadata": {
        "id": "GSJNRrbQ3sEu"
      },
      "source": [
        "# **Step 3- Creating delay column and splitting dataset into train, validation and test set.** "
      ]
    },
    {
      "cell_type": "code",
      "metadata": {
        "colab": {
          "base_uri": "https://localhost:8080/"
        },
        "id": "ArIUlj353kwf",
        "outputId": "481dd70e-d9d3-4698-8400-5d8abfd8cfbb"
      },
      "source": [
        "#Creating delay column\n",
        "\n",
        "df['delay'] = (df['clear_date']-df['due_in_date']).dt.days\n",
        "df.shape"
      ],
      "execution_count": null,
      "outputs": [
        {
          "output_type": "execute_result",
          "data": {
            "text/plain": [
              "(45675, 15)"
            ]
          },
          "metadata": {
            "tags": []
          },
          "execution_count": 702
        }
      ]
    },
    {
      "cell_type": "code",
      "metadata": {
        "colab": {
          "base_uri": "https://localhost:8080/"
        },
        "id": "ywGelFeW4ATg",
        "outputId": "019384df-efaa-45d4-cb20-ed432be3873d"
      },
      "source": [
        "#Sort dataset according to document_create_date.1\n",
        "\n",
        "df=df.sort_values(by = 'document_create_date.1')\n",
        "df.reset_index(inplace= True,drop=True)\n",
        "df.head()"
      ],
      "execution_count": null,
      "outputs": [
        {
          "output_type": "execute_result",
          "data": {
            "text/html": [
              "<div>\n",
              "<style scoped>\n",
              "    .dataframe tbody tr th:only-of-type {\n",
              "        vertical-align: middle;\n",
              "    }\n",
              "\n",
              "    .dataframe tbody tr th {\n",
              "        vertical-align: top;\n",
              "    }\n",
              "\n",
              "    .dataframe thead th {\n",
              "        text-align: right;\n",
              "    }\n",
              "</style>\n",
              "<table border=\"1\" class=\"dataframe\">\n",
              "  <thead>\n",
              "    <tr style=\"text-align: right;\">\n",
              "      <th></th>\n",
              "      <th>business_code</th>\n",
              "      <th>cust_number</th>\n",
              "      <th>name_customer</th>\n",
              "      <th>clear_date</th>\n",
              "      <th>buisness_year</th>\n",
              "      <th>doc_id</th>\n",
              "      <th>document_create_date</th>\n",
              "      <th>document_create_date.1</th>\n",
              "      <th>due_in_date</th>\n",
              "      <th>invoice_currency</th>\n",
              "      <th>document type</th>\n",
              "      <th>total_open_amount</th>\n",
              "      <th>baseline_create_date</th>\n",
              "      <th>cust_payment_terms</th>\n",
              "      <th>delay</th>\n",
              "    </tr>\n",
              "  </thead>\n",
              "  <tbody>\n",
              "    <tr>\n",
              "      <th>0</th>\n",
              "      <td>U001</td>\n",
              "      <td>0200752302</td>\n",
              "      <td>KROGER associates</td>\n",
              "      <td>2019-01-14</td>\n",
              "      <td>2019</td>\n",
              "      <td>1.928531e+09</td>\n",
              "      <td>2018-12-31</td>\n",
              "      <td>2018-12-30</td>\n",
              "      <td>2019-01-14</td>\n",
              "      <td>USD</td>\n",
              "      <td>RV</td>\n",
              "      <td>19717.15</td>\n",
              "      <td>2018-12-30</td>\n",
              "      <td>NAA8</td>\n",
              "      <td>0</td>\n",
              "    </tr>\n",
              "    <tr>\n",
              "      <th>1</th>\n",
              "      <td>U001</td>\n",
              "      <td>0200769623</td>\n",
              "      <td>WAL-MAR corp</td>\n",
              "      <td>2019-01-10</td>\n",
              "      <td>2019</td>\n",
              "      <td>1.928534e+09</td>\n",
              "      <td>2018-12-29</td>\n",
              "      <td>2018-12-30</td>\n",
              "      <td>2019-01-14</td>\n",
              "      <td>USD</td>\n",
              "      <td>RV</td>\n",
              "      <td>1448.77</td>\n",
              "      <td>2018-12-30</td>\n",
              "      <td>NAH4</td>\n",
              "      <td>-4</td>\n",
              "    </tr>\n",
              "    <tr>\n",
              "      <th>2</th>\n",
              "      <td>U001</td>\n",
              "      <td>0200769623</td>\n",
              "      <td>WAL-MAR foundation</td>\n",
              "      <td>2019-01-09</td>\n",
              "      <td>2019</td>\n",
              "      <td>1.928541e+09</td>\n",
              "      <td>2018-12-29</td>\n",
              "      <td>2018-12-30</td>\n",
              "      <td>2019-01-14</td>\n",
              "      <td>USD</td>\n",
              "      <td>RV</td>\n",
              "      <td>8286.44</td>\n",
              "      <td>2018-12-30</td>\n",
              "      <td>NAH4</td>\n",
              "      <td>-5</td>\n",
              "    </tr>\n",
              "    <tr>\n",
              "      <th>3</th>\n",
              "      <td>U001</td>\n",
              "      <td>0200769623</td>\n",
              "      <td>WAL-MAR co</td>\n",
              "      <td>2019-01-09</td>\n",
              "      <td>2019</td>\n",
              "      <td>1.928538e+09</td>\n",
              "      <td>2018-12-29</td>\n",
              "      <td>2018-12-30</td>\n",
              "      <td>2019-01-14</td>\n",
              "      <td>USD</td>\n",
              "      <td>RV</td>\n",
              "      <td>78.95</td>\n",
              "      <td>2018-12-30</td>\n",
              "      <td>NAH4</td>\n",
              "      <td>-5</td>\n",
              "    </tr>\n",
              "    <tr>\n",
              "      <th>4</th>\n",
              "      <td>U001</td>\n",
              "      <td>0200769623</td>\n",
              "      <td>WAL-MAR corporation</td>\n",
              "      <td>2019-01-11</td>\n",
              "      <td>2019</td>\n",
              "      <td>1.928540e+09</td>\n",
              "      <td>2018-12-29</td>\n",
              "      <td>2018-12-30</td>\n",
              "      <td>2019-01-14</td>\n",
              "      <td>USD</td>\n",
              "      <td>RV</td>\n",
              "      <td>22480.50</td>\n",
              "      <td>2018-12-30</td>\n",
              "      <td>NAH4</td>\n",
              "      <td>-3</td>\n",
              "    </tr>\n",
              "  </tbody>\n",
              "</table>\n",
              "</div>"
            ],
            "text/plain": [
              "  business_code cust_number  ... cust_payment_terms delay\n",
              "0          U001  0200752302  ...               NAA8     0\n",
              "1          U001  0200769623  ...               NAH4    -4\n",
              "2          U001  0200769623  ...               NAH4    -5\n",
              "3          U001  0200769623  ...               NAH4    -5\n",
              "4          U001  0200769623  ...               NAH4    -3\n",
              "\n",
              "[5 rows x 15 columns]"
            ]
          },
          "metadata": {
            "tags": []
          },
          "execution_count": 703
        }
      ]
    },
    {
      "cell_type": "code",
      "metadata": {
        "colab": {
          "base_uri": "https://localhost:8080/"
        },
        "id": "9_fbtnsb4E00",
        "outputId": "84cf581f-0f41-4852-b85e-7d34ebffdbcc"
      },
      "source": [
        "#Dividing into train, validation and test in ratio \n",
        "\n",
        "train = df.iloc[:35675,:].reset_index(drop=True)\n",
        "val = df.iloc[35675:40675,:].reset_index(drop=True)\n",
        "test = df.iloc[40675:,:].reset_index(drop=True)\n",
        "print(train.shape)\n",
        "print(val.shape)\n",
        "print(test.shape)"
      ],
      "execution_count": null,
      "outputs": [
        {
          "output_type": "stream",
          "text": [
            "(35675, 15)\n",
            "(5000, 15)\n",
            "(5000, 15)\n"
          ],
          "name": "stdout"
        }
      ]
    },
    {
      "cell_type": "markdown",
      "metadata": {
        "id": "tKvNqLDg4vRT"
      },
      "source": [
        "# **Step 4- EDA** "
      ]
    },
    {
      "cell_type": "markdown",
      "metadata": {
        "id": "e82fz2S54_ge"
      },
      "source": [
        "**Information about dataset-**\n",
        "1.   **business_code-** Company code of the account.\n",
        "2.   **cust_number-** Customer number.\n",
        "3.   **name_customer-** Name of the customer.\n",
        "4.   **clear_date-** The payment date. (Target Variable)\n",
        "5.   **buisness_year** \n",
        "6.   **doc_id-** Unique id for invoice.\n",
        "7.   **document_create_date.1-** Date on which document is created. (normalized one)\n",
        "8.   **due_in_date-** Date on which payment to be done.\n",
        "9.   **invoice_currency-** Currency.\n",
        "10.  **document type-** Type of document.\n",
        "11.  **total_open_amount-** Total amount to pay.\n",
        "12.  **baseline_create_date-** Date from which the terms of payment apply.\n",
        "13.  **cust_payment_terms-** Payment terms provide clear details about the expected payment on a sale. It specify how much time the buyer has to make payment on the purchase.\n",
        "14.  **delay-** difference between clear_date - due_in_date. \n"
      ]
    },
    {
      "cell_type": "markdown",
      "metadata": {
        "id": "Iso00J586HhS"
      },
      "source": [
        "**Step 4.1- Univariate Analysis** "
      ]
    },
    {
      "cell_type": "markdown",
      "metadata": {
        "id": "UwR1Jgjz6XDD"
      },
      "source": [
        "1. business_code"
      ]
    },
    {
      "cell_type": "code",
      "metadata": {
        "colab": {
          "base_uri": "https://localhost:8080/"
        },
        "id": "YM_WEp094QxD",
        "outputId": "f5b3bf87-f0eb-400b-df2f-25512f4f3164"
      },
      "source": [
        "train['business_code'].value_counts().plot(kind='bar')"
      ],
      "execution_count": null,
      "outputs": [
        {
          "output_type": "execute_result",
          "data": {
            "text/plain": [
              "<matplotlib.axes._subplots.AxesSubplot at 0x7f57f6bbf5f8>"
            ]
          },
          "metadata": {
            "tags": []
          },
          "execution_count": 705
        },
        {
          "output_type": "display_data",
          "data": {
            "image/png": "[encoded data removed]",
            "text/plain": [
              "<Figure size 432x288 with 1 Axes>"
            ]
          },
          "metadata": {
            "tags": [],
            "needs_background": "light"
          }
        }
      ]
    },
    {
      "cell_type": "markdown",
      "metadata": {
        "id": "V0JQn4_b_PWs"
      },
      "source": [
        "Conclusion- Only U001, CA02, U013 shows significant frequency so I'll keep them and else will be mapped to a new code 'UUUU'. So for mapping all index need to be saved."
      ]
    },
    {
      "cell_type": "code",
      "metadata": {
        "colab": {
          "base_uri": "https://localhost:8080/"
        },
        "id": "qPKNfFnR_Z9O",
        "outputId": "be66b72a-1c60-4de3-e4a9-c5461c537ab3"
      },
      "source": [
        "business_code_index = train['business_code'].value_counts()[2:].index\n",
        "print(business_code_index)"
      ],
      "execution_count": null,
      "outputs": [
        {
          "output_type": "stream",
          "text": [
            "Index(['U013', 'U002', 'U005', 'U007'], dtype='object')\n"
          ],
          "name": "stdout"
        }
      ]
    },
    {
      "cell_type": "code",
      "metadata": {
        "colab": {
          "base_uri": "https://localhost:8080/"
        },
        "id": "rGncbziY7HJS",
        "outputId": "522ad32f-bcff-4727-8423-ed25dc2a3aa1"
      },
      "source": [
        "#Mapping frequent business_code classes on train, val and test dataset.\n",
        " \n",
        "train['business_code'] = train['business_code'].replace(business_code_index , 'UUUU')\n",
        "train['business_code'].value_counts().plot(kind='bar')"
      ],
      "execution_count": null,
      "outputs": [
        {
          "output_type": "execute_result",
          "data": {
            "text/plain": [
              "<matplotlib.axes._subplots.AxesSubplot at 0x7f57d2d00f98>"
            ]
          },
          "metadata": {
            "tags": []
          },
          "execution_count": 707
        },
        {
          "output_type": "display_data",
          "data": {
            "image/png": "[encoded data removed]",
            "text/plain": [
              "<Figure size 432x288 with 1 Axes>"
            ]
          },
          "metadata": {
            "tags": [],
            "needs_background": "light"
          }
        }
      ]
    },
    {
      "cell_type": "markdown",
      "metadata": {
        "id": "GlvcPOPZ_z98"
      },
      "source": [
        "2. cust_number - We can create repeatCust as a feature representing how many time an organisation has generated invoice."
      ]
    },
    {
      "cell_type": "markdown",
      "metadata": {
        "id": "-bga5zw792aJ"
      },
      "source": [
        "3. invoice_currency"
      ]
    },
    {
      "cell_type": "code",
      "metadata": {
        "colab": {
          "base_uri": "https://localhost:8080/"
        },
        "id": "20wQXsYk8nK4",
        "outputId": "240b1d29-b253-4fa5-cddf-1a348775662d"
      },
      "source": [
        "train['invoice_currency'].value_counts().plot(kind='bar')"
      ],
      "execution_count": null,
      "outputs": [
        {
          "output_type": "execute_result",
          "data": {
            "text/plain": [
              "<matplotlib.axes._subplots.AxesSubplot at 0x7f57d12fa668>"
            ]
          },
          "metadata": {
            "tags": []
          },
          "execution_count": 708
        },
        {
          "output_type": "display_data",
          "data": {
            "image/png": "[encoded data removed]",
            "text/plain": [
              "<Figure size 432x288 with 1 Axes>"
            ]
          },
          "metadata": {
            "tags": [],
            "needs_background": "light"
          }
        }
      ]
    },
    {
      "cell_type": "markdown",
      "metadata": {
        "id": "3O-swNKC-ev1"
      },
      "source": [
        "Rows where we have invoice_currency = CAD is very low. We need to do more amalysis of it under bivariate analysis."
      ]
    },
    {
      "cell_type": "markdown",
      "metadata": {
        "id": "58nkZuOb_AFQ"
      },
      "source": [
        "4. document type"
      ]
    },
    {
      "cell_type": "code",
      "metadata": {
        "colab": {
          "base_uri": "https://localhost:8080/"
        },
        "id": "hSjlrHAD_I2o",
        "outputId": "553f79be-e341-4f85-d7e4-b2b8c6189e7d"
      },
      "source": [
        "train['document type'].value_counts().plot(kind='bar')"
      ],
      "execution_count": null,
      "outputs": [
        {
          "output_type": "execute_result",
          "data": {
            "text/plain": [
              "<matplotlib.axes._subplots.AxesSubplot at 0x7f57d127e0b8>"
            ]
          },
          "metadata": {
            "tags": []
          },
          "execution_count": 709
        },
        {
          "output_type": "display_data",
          "data": {
            "image/png": "[encoded data removed]",
            "text/plain": [
              "<Figure size 432x288 with 1 Axes>"
            ]
          },
          "metadata": {
            "tags": [],
            "needs_background": "light"
          }
        }
      ]
    },
    {
      "cell_type": "code",
      "metadata": {
        "colab": {
          "base_uri": "https://localhost:8080/"
        },
        "id": "ko7ONrQfBjwr",
        "outputId": "d6dfdd22-65a7-4b7c-c008-cce2de5a5e3a"
      },
      "source": [
        "train['document type'].value_counts()"
      ],
      "execution_count": null,
      "outputs": [
        {
          "output_type": "execute_result",
          "data": {
            "text/plain": [
              "RV    35674\n",
              "X2        1\n",
              "Name: document type, dtype: int64"
            ]
          },
          "metadata": {
            "tags": []
          },
          "execution_count": 710
        }
      ]
    },
    {
      "cell_type": "markdown",
      "metadata": {
        "id": "5ua4RWdiB-nr"
      },
      "source": [
        "Conclusion- No analysis can be done on this column so better to remove."
      ]
    },
    {
      "cell_type": "code",
      "metadata": {
        "id": "L7MbFs4XBmVZ"
      },
      "source": [
        "#dropping document type\n",
        "train = train.drop('document type',1)"
      ],
      "execution_count": null,
      "outputs": []
    },
    {
      "cell_type": "code",
      "metadata": {
        "colab": {
          "base_uri": "https://localhost:8080/"
        },
        "id": "rG7z2uBcC2IN",
        "outputId": "807a688a-d261-421f-8066-f49d4d8cd6fc"
      },
      "source": [
        "train.head()"
      ],
      "execution_count": null,
      "outputs": [
        {
          "output_type": "execute_result",
          "data": {
            "text/html": [
              "<div>\n",
              "<style scoped>\n",
              "    .dataframe tbody tr th:only-of-type {\n",
              "        vertical-align: middle;\n",
              "    }\n",
              "\n",
              "    .dataframe tbody tr th {\n",
              "        vertical-align: top;\n",
              "    }\n",
              "\n",
              "    .dataframe thead th {\n",
              "        text-align: right;\n",
              "    }\n",
              "</style>\n",
              "<table border=\"1\" class=\"dataframe\">\n",
              "  <thead>\n",
              "    <tr style=\"text-align: right;\">\n",
              "      <th></th>\n",
              "      <th>business_code</th>\n",
              "      <th>cust_number</th>\n",
              "      <th>name_customer</th>\n",
              "      <th>clear_date</th>\n",
              "      <th>buisness_year</th>\n",
              "      <th>doc_id</th>\n",
              "      <th>document_create_date</th>\n",
              "      <th>document_create_date.1</th>\n",
              "      <th>due_in_date</th>\n",
              "      <th>invoice_currency</th>\n",
              "      <th>total_open_amount</th>\n",
              "      <th>baseline_create_date</th>\n",
              "      <th>cust_payment_terms</th>\n",
              "      <th>delay</th>\n",
              "    </tr>\n",
              "  </thead>\n",
              "  <tbody>\n",
              "    <tr>\n",
              "      <th>0</th>\n",
              "      <td>U001</td>\n",
              "      <td>0200752302</td>\n",
              "      <td>KROGER associates</td>\n",
              "      <td>2019-01-14</td>\n",
              "      <td>2019</td>\n",
              "      <td>1.928531e+09</td>\n",
              "      <td>2018-12-31</td>\n",
              "      <td>2018-12-30</td>\n",
              "      <td>2019-01-14</td>\n",
              "      <td>USD</td>\n",
              "      <td>19717.15</td>\n",
              "      <td>2018-12-30</td>\n",
              "      <td>NAA8</td>\n",
              "      <td>0</td>\n",
              "    </tr>\n",
              "    <tr>\n",
              "      <th>1</th>\n",
              "      <td>U001</td>\n",
              "      <td>0200769623</td>\n",
              "      <td>WAL-MAR corp</td>\n",
              "      <td>2019-01-10</td>\n",
              "      <td>2019</td>\n",
              "      <td>1.928534e+09</td>\n",
              "      <td>2018-12-29</td>\n",
              "      <td>2018-12-30</td>\n",
              "      <td>2019-01-14</td>\n",
              "      <td>USD</td>\n",
              "      <td>1448.77</td>\n",
              "      <td>2018-12-30</td>\n",
              "      <td>NAH4</td>\n",
              "      <td>-4</td>\n",
              "    </tr>\n",
              "    <tr>\n",
              "      <th>2</th>\n",
              "      <td>U001</td>\n",
              "      <td>0200769623</td>\n",
              "      <td>WAL-MAR foundation</td>\n",
              "      <td>2019-01-09</td>\n",
              "      <td>2019</td>\n",
              "      <td>1.928541e+09</td>\n",
              "      <td>2018-12-29</td>\n",
              "      <td>2018-12-30</td>\n",
              "      <td>2019-01-14</td>\n",
              "      <td>USD</td>\n",
              "      <td>8286.44</td>\n",
              "      <td>2018-12-30</td>\n",
              "      <td>NAH4</td>\n",
              "      <td>-5</td>\n",
              "    </tr>\n",
              "    <tr>\n",
              "      <th>3</th>\n",
              "      <td>U001</td>\n",
              "      <td>0200769623</td>\n",
              "      <td>WAL-MAR co</td>\n",
              "      <td>2019-01-09</td>\n",
              "      <td>2019</td>\n",
              "      <td>1.928538e+09</td>\n",
              "      <td>2018-12-29</td>\n",
              "      <td>2018-12-30</td>\n",
              "      <td>2019-01-14</td>\n",
              "      <td>USD</td>\n",
              "      <td>78.95</td>\n",
              "      <td>2018-12-30</td>\n",
              "      <td>NAH4</td>\n",
              "      <td>-5</td>\n",
              "    </tr>\n",
              "    <tr>\n",
              "      <th>4</th>\n",
              "      <td>U001</td>\n",
              "      <td>0200769623</td>\n",
              "      <td>WAL-MAR corporation</td>\n",
              "      <td>2019-01-11</td>\n",
              "      <td>2019</td>\n",
              "      <td>1.928540e+09</td>\n",
              "      <td>2018-12-29</td>\n",
              "      <td>2018-12-30</td>\n",
              "      <td>2019-01-14</td>\n",
              "      <td>USD</td>\n",
              "      <td>22480.50</td>\n",
              "      <td>2018-12-30</td>\n",
              "      <td>NAH4</td>\n",
              "      <td>-3</td>\n",
              "    </tr>\n",
              "  </tbody>\n",
              "</table>\n",
              "</div>"
            ],
            "text/plain": [
              "  business_code cust_number  ... cust_payment_terms delay\n",
              "0          U001  0200752302  ...               NAA8     0\n",
              "1          U001  0200769623  ...               NAH4    -4\n",
              "2          U001  0200769623  ...               NAH4    -5\n",
              "3          U001  0200769623  ...               NAH4    -5\n",
              "4          U001  0200769623  ...               NAH4    -3\n",
              "\n",
              "[5 rows x 14 columns]"
            ]
          },
          "metadata": {
            "tags": []
          },
          "execution_count": 712
        }
      ]
    },
    {
      "cell_type": "markdown",
      "metadata": {
        "id": "WKAZYIbzHU_h"
      },
      "source": [
        "5. total_open_amount"
      ]
    },
    {
      "cell_type": "code",
      "metadata": {
        "colab": {
          "base_uri": "https://localhost:8080/"
        },
        "id": "6I99ipeIBmOs",
        "outputId": "466823aa-c1b9-49c9-8ca1-59b2963ff665"
      },
      "source": [
        "plt.scatter(train.index,train['total_open_amount'])"
      ],
      "execution_count": null,
      "outputs": [
        {
          "output_type": "execute_result",
          "data": {
            "text/plain": [
              "<matplotlib.collections.PathCollection at 0x7f57d14c9940>"
            ]
          },
          "metadata": {
            "tags": []
          },
          "execution_count": 713
        },
        {
          "output_type": "display_data",
          "data": {
            "image/png": "[encoded data removed]",
            "text/plain": [
              "<Figure size 432x288 with 1 Axes>"
            ]
          },
          "metadata": {
            "tags": [],
            "needs_background": "light"
          }
        }
      ]
    },
    {
      "cell_type": "markdown",
      "metadata": {
        "id": "LX2IFgQCLCGX"
      },
      "source": [
        "**For total_open_amount**\n",
        "> Here normal scatter plot may give wrong result because we are considering amount in 2 different currencies. So we are analysing them differently i.e with different colours."
      ]
    },
    {
      "cell_type": "code",
      "metadata": {
        "colab": {
          "base_uri": "https://localhost:8080/"
        },
        "id": "hyMds5ocBmK4",
        "outputId": "31ada88b-1cea-49c4-8aa9-5f42e1c74905"
      },
      "source": [
        "sns.scatterplot(train.index,train['total_open_amount'],hue=train['invoice_currency'])"
      ],
      "execution_count": null,
      "outputs": [
        {
          "output_type": "stream",
          "text": [
            "/usr/local/lib/python3.6/dist-packages/seaborn/_decorators.py:43: FutureWarning: Pass the following variables as keyword args: x, y. From version 0.12, the only valid positional argument will be `data`, and passing other arguments without an explicit keyword will result in an error or misinterpretation.\n",
            "  FutureWarning\n"
          ],
          "name": "stderr"
        },
        {
          "output_type": "execute_result",
          "data": {
            "text/plain": [
              "<matplotlib.axes._subplots.AxesSubplot at 0x7f57d1489c50>"
            ]
          },
          "metadata": {
            "tags": []
          },
          "execution_count": 714
        },
        {
          "output_type": "display_data",
          "data": {
            "image/png": "[encoded data removed]",
            "text/plain": [
              "<Figure size 432x288 with 1 Axes>"
            ]
          },
          "metadata": {
            "tags": [],
            "needs_background": "light"
          }
        }
      ]
    },
    {
      "cell_type": "markdown",
      "metadata": {
        "id": "j4Nuug8kLZAz"
      },
      "source": [
        "CONCLUSION- Except these 2 recods where amount > 500000 graph is uniform in nature. Considering these 2 points as outliers. "
      ]
    },
    {
      "cell_type": "code",
      "metadata": {
        "id": "Wy7DmLdzBmIZ"
      },
      "source": [
        "#Removing outliers\n",
        "train = train[train['total_open_amount']<500000]"
      ],
      "execution_count": null,
      "outputs": []
    },
    {
      "cell_type": "markdown",
      "metadata": {
        "id": "uFjjMJQFLzfZ"
      },
      "source": [
        "6. cust_payment_terms"
      ]
    },
    {
      "cell_type": "code",
      "metadata": {
        "colab": {
          "base_uri": "https://localhost:8080/"
        },
        "id": "O_MwIRJ8BmEn",
        "outputId": "39d01753-2212-4a2a-d194-b419869cf131"
      },
      "source": [
        "train['cust_payment_terms'].value_counts()[:15].plot(kind='bar')"
      ],
      "execution_count": null,
      "outputs": [
        {
          "output_type": "execute_result",
          "data": {
            "text/plain": [
              "<matplotlib.axes._subplots.AxesSubplot at 0x7f57d12abb70>"
            ]
          },
          "metadata": {
            "tags": []
          },
          "execution_count": 716
        },
        {
          "output_type": "display_data",
          "data": {
            "image/png": "[encoded data removed]",
            "text/plain": [
              "<Figure size 432x288 with 1 Axes>"
            ]
          },
          "metadata": {
            "tags": [],
            "needs_background": "light"
          }
        }
      ]
    },
    {
      "cell_type": "code",
      "metadata": {
        "colab": {
          "base_uri": "https://localhost:8080/"
        },
        "id": "oderWWWjBmBv",
        "outputId": "f31d51a7-5eb4-4716-d1ae-529689e019fa"
      },
      "source": [
        "train['cust_payment_terms'].value_counts()[10:20].plot(kind='bar')"
      ],
      "execution_count": null,
      "outputs": [
        {
          "output_type": "execute_result",
          "data": {
            "text/plain": [
              "<matplotlib.axes._subplots.AxesSubplot at 0x7f57d144dac8>"
            ]
          },
          "metadata": {
            "tags": []
          },
          "execution_count": 717
        },
        {
          "output_type": "display_data",
          "data": {
            "image/png": "[encoded data removed]",
            "text/plain": [
              "<Figure size 432x288 with 1 Axes>"
            ]
          },
          "metadata": {
            "tags": [],
            "needs_background": "light"
          }
        }
      ]
    },
    {
      "cell_type": "markdown",
      "metadata": {
        "id": "bHeJXyfdOyC8"
      },
      "source": [
        "Conclusion- After analysing these two i decided threshold as 350 i.e approx 0.01. So, i'll keep till index 11. Only these 11 mill be mapped individually. Rest are to be mapped under one label 'NNNN'."
      ]
    },
    {
      "cell_type": "code",
      "metadata": {
        "colab": {
          "base_uri": "https://localhost:8080/"
        },
        "id": "UiPoZs0RNCWf",
        "outputId": "97f6b740-10b7-414e-efa8-5e82c27333e8"
      },
      "source": [
        "#Storing non-frequent categories\n",
        "cust_payment_terms_index = train['cust_payment_terms'].value_counts()[12:].index\n",
        "print(cust_payment_terms_index)"
      ],
      "execution_count": null,
      "outputs": [
        {
          "output_type": "stream",
          "text": [
            "Index(['NAM2', 'NA10', 'NAD5', 'NAVE', 'NAVF', 'NAAW', 'NAM1', 'NAWU', 'NAWN',\n",
            "       'NAVR', 'NAVQ', 'NAUZ', 'NAWP', 'NA3B', 'NAVM', 'NACB', 'NA38', 'NABG',\n",
            "       'CA30', 'NAD4', 'NAB1', 'NA9X', 'C106', 'NAVL', 'BR56', 'NA3F', 'NA25',\n",
            "       'NAVD', 'NA84', 'NA8Q', 'NA31', 'NAUP', 'NATL', 'NAVC', 'NAV2', 'NAUI',\n",
            "       'NATU', 'NATH', 'NATK', 'NATW', 'CA60', 'CAB1', 'NAV9', 'NAD8', 'B112',\n",
            "       'CAX2', 'NATM', 'NATV', 'B052', 'NAWM', 'NATX', 'C129', 'BR12', 'NANC',\n",
            "       'NAUX', 'NAM3'],\n",
            "      dtype='object')\n"
          ],
          "name": "stdout"
        }
      ]
    },
    {
      "cell_type": "code",
      "metadata": {
        "colab": {
          "base_uri": "https://localhost:8080/"
        },
        "id": "rlU3bis0RIdi",
        "outputId": "5b6668f4-6132-4ba7-904d-14f0c1ad4095"
      },
      "source": [
        "#Replacing with 'NNNN' in train\n",
        "train['cust_payment_terms'] = train['cust_payment_terms'].replace(cust_payment_terms_index , 'NNNN')\n",
        "train['cust_payment_terms'].value_counts()"
      ],
      "execution_count": null,
      "outputs": [
        {
          "output_type": "execute_result",
          "data": {
            "text/plain": [
              "NAA8    14338\n",
              "NAH4     9335\n",
              "CA10     2796\n",
              "NNNN     2600\n",
              "NAC6     1143\n",
              "NAM4      920\n",
              "NAAX      800\n",
              "NAG2      707\n",
              "NAU5      702\n",
              "NAD1      683\n",
              "NA32      576\n",
              "NAGD      573\n",
              "NAX2      500\n",
              "Name: cust_payment_terms, dtype: int64"
            ]
          },
          "metadata": {
            "tags": []
          },
          "execution_count": 719
        }
      ]
    },
    {
      "cell_type": "markdown",
      "metadata": {
        "id": "_qPl_0eCR4Sz"
      },
      "source": [
        "7. delay"
      ]
    },
    {
      "cell_type": "code",
      "metadata": {
        "colab": {
          "base_uri": "https://localhost:8080/"
        },
        "id": "D9V5b-YrR3uz",
        "outputId": "e31278c9-9f2b-4cfe-cf9b-7232ce4cddbf"
      },
      "source": [
        "plt.scatter(train.index,train['delay'])"
      ],
      "execution_count": null,
      "outputs": [
        {
          "output_type": "execute_result",
          "data": {
            "text/plain": [
              "<matplotlib.collections.PathCollection at 0x7f57d1fded30>"
            ]
          },
          "metadata": {
            "tags": []
          },
          "execution_count": 720
        },
        {
          "output_type": "display_data",
          "data": {
            "image/png": "[encoded data removed]",
            "text/plain": [
              "<Figure size 432x288 with 1 Axes>"
            ]
          },
          "metadata": {
            "tags": [],
            "needs_background": "light"
          }
        }
      ]
    },
    {
      "cell_type": "markdown",
      "metadata": {
        "id": "aHi0AXCrSZ2z"
      },
      "source": [
        "Conclusion- yes, we can see some outliers but i wanted to assign upper and lower value instead of deleting it.\n"
      ]
    },
    {
      "cell_type": "code",
      "metadata": {
        "colab": {
          "base_uri": "https://localhost:8080/"
        },
        "id": "Xt0OKaXYRxzu",
        "outputId": "7acc5c73-f168-46ae-923b-5eb07417dbc7"
      },
      "source": [
        "#Taking extreme boundaries with n = 3\n",
        "\n",
        "IQR = train['delay'].quantile(0.75)-train['delay'].quantile(0.25)\n",
        "lower = train['delay'].quantile(0.25)- 3*IQR\n",
        "upper = train['delay'].quantile(0.75)+ 3*IQR\n",
        "print(lower)\n",
        "print(upper)"
      ],
      "execution_count": null,
      "outputs": [
        {
          "output_type": "stream",
          "text": [
            "-18.0\n",
            "17.0\n"
          ],
          "name": "stdout"
        }
      ]
    },
    {
      "cell_type": "markdown",
      "metadata": {
        "id": "3iA4Z42PMgTR"
      },
      "source": [
        "But these values are very small. So i decided to delete the outliers."
      ]
    },
    {
      "cell_type": "code",
      "metadata": {
        "id": "pGbedCwBS6Ki"
      },
      "source": [
        "train=train[(train['delay']<100) & (train['delay']>-50)]"
      ],
      "execution_count": null,
      "outputs": []
    },
    {
      "cell_type": "markdown",
      "metadata": {
        "id": "ggoOKCQPTMtm"
      },
      "source": [
        "**Step 4.2- Multivariate analysis** "
      ]
    },
    {
      "cell_type": "markdown",
      "metadata": {
        "id": "NhSzVKClMgIm"
      },
      "source": [
        "1. business_code vs delay"
      ]
    },
    {
      "cell_type": "code",
      "metadata": {
        "colab": {
          "base_uri": "https://localhost:8080/"
        },
        "id": "Foa9EVa_Bl6y",
        "outputId": "6ccab251-e50c-4420-e83c-8b356e068271"
      },
      "source": [
        "sns.barplot(x ='business_code', y ='delay', data = train, estimator = np.mean) "
      ],
      "execution_count": null,
      "outputs": [
        {
          "output_type": "execute_result",
          "data": {
            "text/plain": [
              "<matplotlib.axes._subplots.AxesSubplot at 0x7f57d1f02f28>"
            ]
          },
          "metadata": {
            "tags": []
          },
          "execution_count": 723
        },
        {
          "output_type": "display_data",
          "data": {
            "image/png": "[encoded data removed]",
            "text/plain": [
              "<Figure size 432x288 with 1 Axes>"
            ]
          },
          "metadata": {
            "tags": [],
            "needs_background": "light"
          }
        }
      ]
    },
    {
      "cell_type": "markdown",
      "metadata": {
        "id": "4YNlWVrVEHkh"
      },
      "source": [
        "Here we can see that delay for U001 is lowest and highest for UUUU. This can be one-one feature but as we'll do one hot encoding so these features will automatically get generated."
      ]
    },
    {
      "cell_type": "markdown",
      "metadata": {
        "id": "B8fPBWVbzK7K"
      },
      "source": [
        "**Conclusion-** I made this delay column for better analysis. In sns bar graph we have one parameter 'hue' and i when i write hue = train['delay'] will help me analysing +ve and -ve delay seperately."
      ]
    },
    {
      "cell_type": "markdown",
      "metadata": {
        "id": "YR6l3OC90I-R"
      },
      "source": [
        "2.  invoice_currency"
      ]
    },
    {
      "cell_type": "code",
      "metadata": {
        "colab": {
          "base_uri": "https://localhost:8080/"
        },
        "id": "p_iGA3aW0K25",
        "outputId": "20e9be1f-9538-4aa6-cdb2-1f876f306792"
      },
      "source": [
        "sns.barplot(x ='invoice_currency', y ='delay', data = train, estimator = np.mean) "
      ],
      "execution_count": null,
      "outputs": [
        {
          "output_type": "execute_result",
          "data": {
            "text/plain": [
              "<matplotlib.axes._subplots.AxesSubplot at 0x7f57d1ee4c50>"
            ]
          },
          "metadata": {
            "tags": []
          },
          "execution_count": 724
        },
        {
          "output_type": "display_data",
          "data": {
            "image/png": "[encoded data removed]",
            "text/plain": [
              "<Figure size 432x288 with 1 Axes>"
            ]
          },
          "metadata": {
            "tags": [],
            "needs_background": "light"
          }
        }
      ]
    },
    {
      "cell_type": "markdown",
      "metadata": {
        "id": "2QJB9oaa0TAG"
      },
      "source": [
        "3. total_open_amount"
      ]
    },
    {
      "cell_type": "code",
      "metadata": {
        "colab": {
          "base_uri": "https://localhost:8080/"
        },
        "id": "S4ZjJqBF0WJ-",
        "outputId": "d4ab3178-e398-4b59-95f7-692298ba4c46"
      },
      "source": [
        "plt.scatter(train['delay'],train['total_open_amount'])"
      ],
      "execution_count": null,
      "outputs": [
        {
          "output_type": "execute_result",
          "data": {
            "text/plain": [
              "<matplotlib.collections.PathCollection at 0x7f57d1e65710>"
            ]
          },
          "metadata": {
            "tags": []
          },
          "execution_count": 725
        },
        {
          "output_type": "display_data",
          "data": {
            "image/png": "[encoded data removed]",
            "text/plain": [
              "<Figure size 432x288 with 1 Axes>"
            ]
          },
          "metadata": {
            "tags": [],
            "needs_background": "light"
          }
        }
      ]
    },
    {
      "cell_type": "markdown",
      "metadata": {
        "id": "g66q1jbf0cGF"
      },
      "source": [
        "Here we can see that amount > 150000 shows very less delay. So this can be one feature."
      ]
    },
    {
      "cell_type": "markdown",
      "metadata": {
        "id": "NeeaLnDT5r6q"
      },
      "source": [
        "4. cust_payment_terms"
      ]
    },
    {
      "cell_type": "code",
      "metadata": {
        "colab": {
          "base_uri": "https://localhost:8080/"
        },
        "id": "OQ8WRbaT4cF5",
        "outputId": "bec2c294-5beb-4170-e8dd-eac78700f70b"
      },
      "source": [
        "plt.figure(figsize=(16,8))\n",
        "sns.barplot(x =train['cust_payment_terms'], y =train['delay'])"
      ],
      "execution_count": null,
      "outputs": [
        {
          "output_type": "execute_result",
          "data": {
            "text/plain": [
              "<matplotlib.axes._subplots.AxesSubplot at 0x7f57d1e251d0>"
            ]
          },
          "metadata": {
            "tags": []
          },
          "execution_count": 726
        },
        {
          "output_type": "display_data",
          "data": {
            "image/png": "[encoded data removed]",
            "text/plain": [
              "<Figure size 1152x576 with 1 Axes>"
            ]
          },
          "metadata": {
            "tags": [],
            "needs_background": "light"
          }
        }
      ]
    },
    {
      "cell_type": "code",
      "metadata": {
        "id": "QVnuy59GBl2s"
      },
      "source": [
        "train['Late'] = train['delay'].apply(lambda x: 1 if x >0 else 0)"
      ],
      "execution_count": null,
      "outputs": []
    },
    {
      "cell_type": "markdown",
      "metadata": {
        "id": "5vcO2tbMJg0Z"
      },
      "source": [
        "**For every date column i'm going to analyse-** \n",
        "> 1. date.month vs delay (+ve/-ve seperatly)\n",
        "2. date.month vs delay \n",
        "3. date.quarter vs delay (+ve/-ve seperatly)\n",
        "4. date.quarter vs delay \n",
        "5. date.dayofweek vs delay (+ve/-ve seperatly)\n",
        "6. date.dayofweek vs delay \n",
        "7. per 7-7 days in month vs delay (+ve/-ve seperatly)\n",
        "8. per 7-7 days in month vs delay \n",
        "9. date.day vs delay\n",
        "\n",
        "\n",
        "\n",
        "\n"
      ]
    },
    {
      "cell_type": "markdown",
      "metadata": {
        "id": "81I5nXNOLEee"
      },
      "source": [
        "5. document_create_date"
      ]
    },
    {
      "cell_type": "markdown",
      "metadata": {
        "id": "Vo6Y-1dmLJuY"
      },
      "source": [
        "5.1 document_create_date.month vs delay (+ve/-ve seperatly)"
      ]
    },
    {
      "cell_type": "code",
      "metadata": {
        "colab": {
          "base_uri": "https://localhost:8080/"
        },
        "id": "qPY2nPL1K8UL",
        "outputId": "fd2b3b4e-10c6-467d-ba50-6a8b14b15972"
      },
      "source": [
        "sns.barplot(x=train['document_create_date'].dt.month,y=train['delay'],hue=train['Late'])"
      ],
      "execution_count": null,
      "outputs": [
        {
          "output_type": "execute_result",
          "data": {
            "text/plain": [
              "<matplotlib.axes._subplots.AxesSubplot at 0x7f57d1e250b8>"
            ]
          },
          "metadata": {
            "tags": []
          },
          "execution_count": 728
        },
        {
          "output_type": "display_data",
          "data": {
            "image/png": "[encoded data removed]",
            "text/plain": [
              "<Figure size 432x288 with 1 Axes>"
            ]
          },
          "metadata": {
            "tags": [],
            "needs_background": "light"
          }
        }
      ]
    },
    {
      "cell_type": "markdown",
      "metadata": {
        "id": "84rRA7YGN5rp"
      },
      "source": [
        "In dec +ve delay is very high. I'll make column where 1 represent month = 12 & delay is postive and 0 for rest records."
      ]
    },
    {
      "cell_type": "markdown",
      "metadata": {
        "id": "_8KEU0E0OZCi"
      },
      "source": [
        "5.2 document_create_date.month vs delay"
      ]
    },
    {
      "cell_type": "code",
      "metadata": {
        "colab": {
          "base_uri": "https://localhost:8080/"
        },
        "id": "2fRhR36YOmgK",
        "outputId": "ff0df8c1-454d-4a55-a30d-b7452ca4ca08"
      },
      "source": [
        "sns.barplot(x=train['document_create_date'].dt.month,y=train['delay'])"
      ],
      "execution_count": null,
      "outputs": [
        {
          "output_type": "execute_result",
          "data": {
            "text/plain": [
              "<matplotlib.axes._subplots.AxesSubplot at 0x7f57d1c254a8>"
            ]
          },
          "metadata": {
            "tags": []
          },
          "execution_count": 729
        },
        {
          "output_type": "display_data",
          "data": {
            "image/png": "[encoded data removed]",
            "text/plain": [
              "<Figure size 432x288 with 1 Axes>"
            ]
          },
          "metadata": {
            "tags": [],
            "needs_background": "light"
          }
        }
      ]
    },
    {
      "cell_type": "markdown",
      "metadata": {
        "id": "Y7eazzCjOov3"
      },
      "source": [
        "In jan and dec - Highset delay and In nov - Lowest delay."
      ]
    },
    {
      "cell_type": "markdown",
      "metadata": {
        "id": "2zGWw_r7Pzcs"
      },
      "source": [
        "5.3 date.quarter vs delay (+ve/-ve seperatly)"
      ]
    },
    {
      "cell_type": "code",
      "metadata": {
        "colab": {
          "base_uri": "https://localhost:8080/"
        },
        "id": "SalUeP99PvqR",
        "outputId": "adfe8ee2-6bbd-4ab2-ff38-d22325e21d26"
      },
      "source": [
        "sns.barplot(x=train['document_create_date'].dt.quarter,y=train['delay'],hue=train['Late'])"
      ],
      "execution_count": null,
      "outputs": [
        {
          "output_type": "execute_result",
          "data": {
            "text/plain": [
              "<matplotlib.axes._subplots.AxesSubplot at 0x7f57d13fc128>"
            ]
          },
          "metadata": {
            "tags": []
          },
          "execution_count": 730
        },
        {
          "output_type": "display_data",
          "data": {
            "image/png": "[encoded data removed]",
            "text/plain": [
              "<Figure size 432x288 with 1 Axes>"
            ]
          },
          "metadata": {
            "tags": [],
            "needs_background": "light"
          }
        }
      ]
    },
    {
      "cell_type": "markdown",
      "metadata": {
        "id": "n6KXkr-oP7W5"
      },
      "source": [
        "Here we can see that there is uniform decreasing trend. So i'll add one quarter column."
      ]
    },
    {
      "cell_type": "markdown",
      "metadata": {
        "id": "oWmcaN5zQgzh"
      },
      "source": [
        "5.4 date.quarter vs delay "
      ]
    },
    {
      "cell_type": "code",
      "metadata": {
        "colab": {
          "base_uri": "https://localhost:8080/"
        },
        "id": "o4nzMdJJQxKg",
        "outputId": "63590ea7-2681-479e-8a0a-9b9ad51f1b75"
      },
      "source": [
        "sns.barplot(x=train['document_create_date'].dt.quarter,y=train['delay'])"
      ],
      "execution_count": null,
      "outputs": [
        {
          "output_type": "execute_result",
          "data": {
            "text/plain": [
              "<matplotlib.axes._subplots.AxesSubplot at 0x7f57d11ccb00>"
            ]
          },
          "metadata": {
            "tags": []
          },
          "execution_count": 731
        },
        {
          "output_type": "display_data",
          "data": {
            "image/png": "[encoded data removed]",
            "text/plain": [
              "<Figure size 432x288 with 1 Axes>"
            ]
          },
          "metadata": {
            "tags": [],
            "needs_background": "light"
          }
        }
      ]
    },
    {
      "cell_type": "markdown",
      "metadata": {
        "id": "o4ujXKycQ4qX"
      },
      "source": [
        "5.5 date.dayofweek vs delay (+ve/-ve seperatly)"
      ]
    },
    {
      "cell_type": "code",
      "metadata": {
        "colab": {
          "base_uri": "https://localhost:8080/"
        },
        "id": "kHbsWSAwQnez",
        "outputId": "17b90b5a-a3e8-4eed-aedf-61477a77d8ac"
      },
      "source": [
        "sns.barplot(x=train['document_create_date'].dt.dayofweek,y=train['delay'],hue=train['Late'])"
      ],
      "execution_count": null,
      "outputs": [
        {
          "output_type": "execute_result",
          "data": {
            "text/plain": [
              "<matplotlib.axes._subplots.AxesSubplot at 0x7f57d11b1c88>"
            ]
          },
          "metadata": {
            "tags": []
          },
          "execution_count": 732
        },
        {
          "output_type": "display_data",
          "data": {
            "image/png": "[encoded data removed]",
            "text/plain": [
              "<Figure size 432x288 with 1 Axes>"
            ]
          },
          "metadata": {
            "tags": [],
            "needs_background": "light"
          }
        }
      ]
    },
    {
      "cell_type": "markdown",
      "metadata": {
        "id": "YP7oYwaMRiF5"
      },
      "source": [
        "Conclusion-\n",
        "1.   At 0 positive delay is high\n",
        "2.   At 5 positive delay is low\n",
        "3.   At 4 negative delay is high\n",
        "\n",
        "\n",
        "\n",
        "\n"
      ]
    },
    {
      "cell_type": "markdown",
      "metadata": {
        "id": "ymJPaeE_SCcC"
      },
      "source": [
        "5.6 date.dayofweek vs delay"
      ]
    },
    {
      "cell_type": "code",
      "metadata": {
        "colab": {
          "base_uri": "https://localhost:8080/"
        },
        "id": "pqbKeHKFSI-i",
        "outputId": "2c440119-6f3f-46cd-81d1-3476c8653648"
      },
      "source": [
        "sns.barplot(x=train['document_create_date'].dt.dayofweek,y=train['delay'])"
      ],
      "execution_count": null,
      "outputs": [
        {
          "output_type": "execute_result",
          "data": {
            "text/plain": [
              "<matplotlib.axes._subplots.AxesSubplot at 0x7f57d10ee5c0>"
            ]
          },
          "metadata": {
            "tags": []
          },
          "execution_count": 733
        },
        {
          "output_type": "display_data",
          "data": {
            "image/png": "[encoded data removed]",
            "text/plain": [
              "<Figure size 432x288 with 1 Axes>"
            ]
          },
          "metadata": {
            "tags": [],
            "needs_background": "light"
          }
        }
      ]
    },
    {
      "cell_type": "markdown",
      "metadata": {
        "id": "cfJi643dSTyU"
      },
      "source": [
        "There is a uniform trend between dayofweek of dcd and delay. Day 5&6 is very important as delay is very low. So I'll create 2 features-\n",
        "1.   Which day i.e 0 to 6\n",
        "2.   special feature for day = 5 and 6.\n",
        "3.   special feature for day = 0.\n",
        "\n"
      ]
    },
    {
      "cell_type": "code",
      "metadata": {
        "id": "5KqG5bxsTmHA"
      },
      "source": [
        "#Function to divide month into 7-7 days for both =ve and -ve.\n",
        "\n",
        "def week_of_month(k):\n",
        "  day_p=[]\n",
        "  day_n=[]\n",
        "  for i in range(5):\n",
        "    t=0\n",
        "    if i==4:\n",
        "      t=t+1\n",
        "    day_p.append(train.loc[(train[k].dt.day.between(1+7*i,7+7*i+t,inclusive = True)) & (train['delay']>=0)]['delay'].mean())\n",
        "    day_n.append(train.loc[(train[k].dt.day.between(1+7*i,7+7*i+t,inclusive = True)) & (train['delay']<0)]['delay'].mean())\n",
        "  return day_p,day_n"
      ],
      "execution_count": null,
      "outputs": []
    },
    {
      "cell_type": "markdown",
      "metadata": {
        "id": "_NRRjkeCThx-"
      },
      "source": [
        "5.7 per 7-7 days in month vs delay (+ve/-ve seperatly)"
      ]
    },
    {
      "cell_type": "code",
      "metadata": {
        "colab": {
          "base_uri": "https://localhost:8080/"
        },
        "id": "aoZD-b6ISRPw",
        "outputId": "47930b96-9dc8-46da-9942-20c90956967c"
      },
      "source": [
        "bins=[1,2,3,4,5]\n",
        "plt.figure(figsize = (7, 6))\n",
        "day_p,day_n = week_of_month('document_create_date')\n",
        "plt.bar(bins,day_p,label='+ve delay')\n",
        "plt.bar(bins, day_n,label='-ve delay')\n",
        "plt.xlabel(\"7-7 days\") \n",
        "plt.ylabel(\"delay\") \n",
        "plt.legend()\n",
        "plt.show() "
      ],
      "execution_count": null,
      "outputs": [
        {
          "output_type": "display_data",
          "data": {
            "image/png": "[encoded data removed]",
            "text/plain": [
              "<Figure size 504x432 with 1 Axes>"
            ]
          },
          "metadata": {
            "tags": [],
            "needs_background": "light"
          }
        }
      ]
    },
    {
      "cell_type": "markdown",
      "metadata": {
        "id": "zyUeNoHDUEyy"
      },
      "source": [
        "Almost no variation. "
      ]
    },
    {
      "cell_type": "code",
      "metadata": {
        "id": "ibOuIBhxUO1L"
      },
      "source": [
        "#Function to divide month into 7-7 days for both =ve and -ve.\n",
        "\n",
        "def week_of_month_all(k):\n",
        "  week=[]\n",
        "  for i in range(5):\n",
        "    t=0\n",
        "    if i==4:\n",
        "      t=t+1\n",
        "    week.append(train.loc[train[k].dt.day.between(1+7*i,7+7*i+t,inclusive = True)]['delay'].mean())\n",
        "  return week"
      ],
      "execution_count": null,
      "outputs": []
    },
    {
      "cell_type": "markdown",
      "metadata": {
        "id": "6WRYeie5UceF"
      },
      "source": [
        "5.8 per 7-7 days in month vs delay "
      ]
    },
    {
      "cell_type": "code",
      "metadata": {
        "colab": {
          "base_uri": "https://localhost:8080/"
        },
        "id": "zui2FijcUadz",
        "outputId": "81db2249-b827-4b65-8902-bb0c3bef2973"
      },
      "source": [
        "bins=[1,2,3,4,5]\n",
        "plt.figure(figsize = (7, 6))\n",
        "week = week_of_month_all('document_create_date')\n",
        "plt.bar(bins,week)\n",
        "plt.xlabel(\"7-7 days\") \n",
        "plt.ylabel(\"delay\")\n",
        "plt.show() "
      ],
      "execution_count": null,
      "outputs": [
        {
          "output_type": "display_data",
          "data": {
            "image/png": "[encoded data removed]",
            "text/plain": [
              "<Figure size 504x432 with 1 Axes>"
            ]
          },
          "metadata": {
            "tags": [],
            "needs_background": "light"
          }
        }
      ]
    },
    {
      "cell_type": "markdown",
      "metadata": {
        "id": "a1Fk-srJY_OD"
      },
      "source": [
        "In 3rd week delay is lowest and in 1st week delay is highest."
      ]
    },
    {
      "cell_type": "markdown",
      "metadata": {
        "id": "kPQP-1DeUONH"
      },
      "source": [
        "5.9 date.day vs delay"
      ]
    },
    {
      "cell_type": "code",
      "metadata": {
        "colab": {
          "base_uri": "https://localhost:8080/"
        },
        "id": "pfUUph0SVQ7C",
        "outputId": "e47d1a05-a842-4a9c-c593-c72d5dd34c1a"
      },
      "source": [
        "plt.figure(figsize = (15, 12))\n",
        "sns.barplot(x=train['document_create_date'].dt.day,y=train['delay'])"
      ],
      "execution_count": null,
      "outputs": [
        {
          "output_type": "execute_result",
          "data": {
            "text/plain": [
              "<matplotlib.axes._subplots.AxesSubplot at 0x7f57d0f1ff28>"
            ]
          },
          "metadata": {
            "tags": []
          },
          "execution_count": 738
        },
        {
          "output_type": "display_data",
          "data": {
            "image/png": "[encoded data removed]",
            "text/plain": [
              "<Figure size 1080x864 with 1 Axes>"
            ]
          },
          "metadata": {
            "tags": [],
            "needs_background": "light"
          }
        }
      ]
    },
    {
      "cell_type": "markdown",
      "metadata": {
        "id": "PahIs_jfZO8q"
      },
      "source": [
        "On day 3 & 17 delay is highest and on day 21 delay is lowest."
      ]
    },
    {
      "cell_type": "markdown",
      "metadata": {
        "id": "ahm-e1woWHnl"
      },
      "source": [
        "6. document_create_date.1"
      ]
    },
    {
      "cell_type": "markdown",
      "metadata": {
        "id": "HcXMPw8nWMoa"
      },
      "source": [
        "6.1 date.month vs delay (+ve/-ve seperatly)"
      ]
    },
    {
      "cell_type": "code",
      "metadata": {
        "colab": {
          "base_uri": "https://localhost:8080/"
        },
        "id": "C_O40Gp1WVGV",
        "outputId": "f09b1aa3-0f2c-487b-bdd9-4f6338f228e3"
      },
      "source": [
        "sns.barplot(x=train['document_create_date.1'].dt.month,y=train['delay'],hue=train['Late'])"
      ],
      "execution_count": null,
      "outputs": [
        {
          "output_type": "execute_result",
          "data": {
            "text/plain": [
              "<matplotlib.axes._subplots.AxesSubplot at 0x7f57d0f1fda0>"
            ]
          },
          "metadata": {
            "tags": []
          },
          "execution_count": 739
        },
        {
          "output_type": "display_data",
          "data": {
            "image/png": "[encoded data removed]",
            "text/plain": [
              "<Figure size 432x288 with 1 Axes>"
            ]
          },
          "metadata": {
            "tags": [],
            "needs_background": "light"
          }
        }
      ]
    },
    {
      "cell_type": "markdown",
      "metadata": {
        "id": "K2MiW7qRX8OT"
      },
      "source": [
        "6.2 date.month vs delay "
      ]
    },
    {
      "cell_type": "code",
      "metadata": {
        "colab": {
          "base_uri": "https://localhost:8080/"
        },
        "id": "bkSK7TwiX6tb",
        "outputId": "ce3048b8-ae3e-41dc-d376-ded97d7f10cd"
      },
      "source": [
        "sns.barplot(x=train['document_create_date.1'].dt.month,y=train['delay'])"
      ],
      "execution_count": null,
      "outputs": [
        {
          "output_type": "execute_result",
          "data": {
            "text/plain": [
              "<matplotlib.axes._subplots.AxesSubplot at 0x7f57d0dc7b00>"
            ]
          },
          "metadata": {
            "tags": []
          },
          "execution_count": 740
        },
        {
          "output_type": "display_data",
          "data": {
            "image/png": "[encoded data removed]",
            "text/plain": [
              "<Figure size 432x288 with 1 Axes>"
            ]
          },
          "metadata": {
            "tags": [],
            "needs_background": "light"
          }
        }
      ]
    },
    {
      "cell_type": "markdown",
      "metadata": {
        "id": "f0r345EyZiem"
      },
      "source": [
        "mean dalay is very less for month = 11 & 12 and high for 1 & 6."
      ]
    },
    {
      "cell_type": "markdown",
      "metadata": {
        "id": "FAMndF83aKP2"
      },
      "source": [
        "6.3 date.quarter vs delay (+ve/-ve seperatly)"
      ]
    },
    {
      "cell_type": "code",
      "metadata": {
        "colab": {
          "base_uri": "https://localhost:8080/"
        },
        "id": "etndeNteZh4g",
        "outputId": "9317e38f-38ad-477c-e4c4-78299b059bf2"
      },
      "source": [
        "sns.barplot(x=train['document_create_date.1'].dt.quarter,y=train['delay'],hue=train['Late'])"
      ],
      "execution_count": null,
      "outputs": [
        {
          "output_type": "execute_result",
          "data": {
            "text/plain": [
              "<matplotlib.axes._subplots.AxesSubplot at 0x7f57d0ff15c0>"
            ]
          },
          "metadata": {
            "tags": []
          },
          "execution_count": 741
        },
        {
          "output_type": "display_data",
          "data": {
            "image/png": "[encoded data removed]",
            "text/plain": [
              "<Figure size 432x288 with 1 Axes>"
            ]
          },
          "metadata": {
            "tags": [],
            "needs_background": "light"
          }
        }
      ]
    },
    {
      "cell_type": "markdown",
      "metadata": {
        "id": "ATF7EpUZafsY"
      },
      "source": [
        "6.4 date.quarter vs delay"
      ]
    },
    {
      "cell_type": "code",
      "metadata": {
        "colab": {
          "base_uri": "https://localhost:8080/"
        },
        "id": "RAenjfDwahpk",
        "outputId": "ba376ecc-71d4-466c-8d88-2ee1a755c9b6"
      },
      "source": [
        "sns.barplot(x=train['document_create_date.1'].dt.quarter,y=train['delay'])"
      ],
      "execution_count": null,
      "outputs": [
        {
          "output_type": "execute_result",
          "data": {
            "text/plain": [
              "<matplotlib.axes._subplots.AxesSubplot at 0x7f57d0b8c278>"
            ]
          },
          "metadata": {
            "tags": []
          },
          "execution_count": 742
        },
        {
          "output_type": "display_data",
          "data": {
            "image/png": "[encoded data removed]",
            "text/plain": [
              "<Figure size 432x288 with 1 Axes>"
            ]
          },
          "metadata": {
            "tags": [],
            "needs_background": "light"
          }
        }
      ]
    },
    {
      "cell_type": "markdown",
      "metadata": {
        "id": "m3RBNaBcaYNc"
      },
      "source": [
        "Both 6.3 and 6.4 are same as document_create_date."
      ]
    },
    {
      "cell_type": "markdown",
      "metadata": {
        "id": "KBX1QChzasj2"
      },
      "source": [
        "6.5 date.dayofweek vs delay (+ve/-ve seperatly)"
      ]
    },
    {
      "cell_type": "code",
      "metadata": {
        "colab": {
          "base_uri": "https://localhost:8080/"
        },
        "id": "Ds44zAAoa4yD",
        "outputId": "7c9454b7-c019-4dc4-9e3b-20a299d47388"
      },
      "source": [
        "sns.barplot(x=train['document_create_date.1'].dt.dayofweek,y=train['delay'],hue=train['Late'])"
      ],
      "execution_count": null,
      "outputs": [
        {
          "output_type": "execute_result",
          "data": {
            "text/plain": [
              "<matplotlib.axes._subplots.AxesSubplot at 0x7f57d0c0bcf8>"
            ]
          },
          "metadata": {
            "tags": []
          },
          "execution_count": 743
        },
        {
          "output_type": "display_data",
          "data": {
            "image/png": "[encoded data removed]",
            "text/plain": [
              "<Figure size 432x288 with 1 Axes>"
            ]
          },
          "metadata": {
            "tags": [],
            "needs_background": "light"
          }
        }
      ]
    },
    {
      "cell_type": "markdown",
      "metadata": {
        "id": "v-a0kbX5bBlt"
      },
      "source": [
        "6.6 date.dayofweek vs delay"
      ]
    },
    {
      "cell_type": "code",
      "metadata": {
        "colab": {
          "base_uri": "https://localhost:8080/"
        },
        "id": "gKd_rM0AbAQw",
        "outputId": "92c01eb4-df66-495a-a0c1-5359abd141fc"
      },
      "source": [
        "sns.barplot(x=train['document_create_date.1'].dt.dayofweek,y=train['delay'])"
      ],
      "execution_count": null,
      "outputs": [
        {
          "output_type": "execute_result",
          "data": {
            "text/plain": [
              "<matplotlib.axes._subplots.AxesSubplot at 0x7f57d0a9f550>"
            ]
          },
          "metadata": {
            "tags": []
          },
          "execution_count": 744
        },
        {
          "output_type": "display_data",
          "data": {
            "image/png": "[encoded data removed]",
            "text/plain": [
              "<Figure size 432x288 with 1 Axes>"
            ]
          },
          "metadata": {
            "tags": [],
            "needs_background": "light"
          }
        }
      ]
    },
    {
      "cell_type": "markdown",
      "metadata": {
        "id": "zvlpionvbbI4"
      },
      "source": [
        "Delay is high on day = 2 and 4."
      ]
    },
    {
      "cell_type": "markdown",
      "metadata": {
        "id": "OdMBQY81bnjR"
      },
      "source": [
        "6.7 per 7-7 days in month vs delay (+ve/-ve seperatly)"
      ]
    },
    {
      "cell_type": "code",
      "metadata": {
        "colab": {
          "base_uri": "https://localhost:8080/"
        },
        "id": "UdzlrCwUa7AV",
        "outputId": "b3ac2af4-aaa0-407b-a9bd-ee5e046e47d7"
      },
      "source": [
        "bins=[1,2,3,4,5]\n",
        "plt.figure(figsize = (7, 6))\n",
        "day_p,day_n = week_of_month('document_create_date.1')\n",
        "plt.bar(bins,day_p,label='+ve delay')\n",
        "plt.bar(bins, day_n,label='-ve delay')\n",
        "plt.xlabel(\"7-7 days\") \n",
        "plt.ylabel(\"delay\") \n",
        "plt.legend()\n",
        "plt.show() "
      ],
      "execution_count": null,
      "outputs": [
        {
          "output_type": "display_data",
          "data": {
            "image/png": "[encoded data removed]",
            "text/plain": [
              "<Figure size 504x432 with 1 Axes>"
            ]
          },
          "metadata": {
            "tags": [],
            "needs_background": "light"
          }
        }
      ]
    },
    {
      "cell_type": "markdown",
      "metadata": {
        "id": "xIUaEFC5b6kh"
      },
      "source": [
        "6.8 per 7-7 days in month vs delay"
      ]
    },
    {
      "cell_type": "code",
      "metadata": {
        "colab": {
          "base_uri": "https://localhost:8080/"
        },
        "id": "lB-6loAea69C",
        "outputId": "9400f013-f198-4235-a001-92340c5c48d4"
      },
      "source": [
        "bins=[1,2,3,4,5]\n",
        "plt.figure(figsize = (7, 6))\n",
        "week = week_of_month_all('document_create_date.1')\n",
        "plt.bar(bins,week)\n",
        "plt.xlabel(\"months\") \n",
        "plt.ylabel(\"delay\") \n",
        "plt.show() "
      ],
      "execution_count": null,
      "outputs": [
        {
          "output_type": "display_data",
          "data": {
            "image/png": "[encoded data removed]",
            "text/plain": [
              "<Figure size 504x432 with 1 Axes>"
            ]
          },
          "metadata": {
            "tags": [],
            "needs_background": "light"
          }
        }
      ]
    },
    {
      "cell_type": "markdown",
      "metadata": {
        "id": "8HH3t7XXb2pp"
      },
      "source": [
        "Same as document_create_date.1"
      ]
    },
    {
      "cell_type": "markdown",
      "metadata": {
        "id": "kV-aFlR5cJxm"
      },
      "source": [
        "6.9 date.day vs delay"
      ]
    },
    {
      "cell_type": "code",
      "metadata": {
        "colab": {
          "base_uri": "https://localhost:8080/"
        },
        "id": "JMGAsiD9a63c",
        "outputId": "944748ef-5534-4bb6-82de-41dd0c9ebf06"
      },
      "source": [
        "plt.figure(figsize=(15,12))\n",
        "sns.barplot(x=train['document_create_date.1'].dt.day,y=train['delay'])"
      ],
      "execution_count": null,
      "outputs": [
        {
          "output_type": "execute_result",
          "data": {
            "text/plain": [
              "<matplotlib.axes._subplots.AxesSubplot at 0x7f57d0eefa58>"
            ]
          },
          "metadata": {
            "tags": []
          },
          "execution_count": 747
        },
        {
          "output_type": "display_data",
          "data": {
            "image/png": "[encoded data removed]",
            "text/plain": [
              "<Figure size 1080x864 with 1 Axes>"
            ]
          },
          "metadata": {
            "tags": [],
            "needs_background": "light"
          }
        }
      ]
    },
    {
      "cell_type": "markdown",
      "metadata": {
        "id": "8Q3q5TXFfi9D"
      },
      "source": [
        "On date=2,3,9,14 delay is high and on date 20,21,27,30 it is low."
      ]
    },
    {
      "cell_type": "markdown",
      "metadata": {
        "id": "8vPE07MFddZr"
      },
      "source": [
        "7. due_in_date"
      ]
    },
    {
      "cell_type": "markdown",
      "metadata": {
        "id": "r77VbXl4dtP9"
      },
      "source": [
        "7.1 date.month vs delay (+ve/-ve seperatly)"
      ]
    },
    {
      "cell_type": "code",
      "metadata": {
        "colab": {
          "base_uri": "https://localhost:8080/"
        },
        "id": "e3rU8Evmd702",
        "outputId": "5dd7de69-50ed-4290-84ae-73b4373f5046"
      },
      "source": [
        "sns.barplot(x=train['due_in_date'].dt.month,y=train['delay'],hue=train['Late'])"
      ],
      "execution_count": null,
      "outputs": [
        {
          "output_type": "execute_result",
          "data": {
            "text/plain": [
              "<matplotlib.axes._subplots.AxesSubplot at 0x7f57d07d0828>"
            ]
          },
          "metadata": {
            "tags": []
          },
          "execution_count": 748
        },
        {
          "output_type": "display_data",
          "data": {
            "image/png": "[encoded data removed]",
            "text/plain": [
              "<Figure size 432x288 with 1 Axes>"
            ]
          },
          "metadata": {
            "tags": [],
            "needs_background": "light"
          }
        }
      ]
    },
    {
      "cell_type": "markdown",
      "metadata": {
        "id": "ik8wYVqFgzbo"
      },
      "source": [
        "Negative Delay is very high in month = 12."
      ]
    },
    {
      "cell_type": "markdown",
      "metadata": {
        "id": "XLfdinMQfDLq"
      },
      "source": [
        "7.2 date.month vs delay "
      ]
    },
    {
      "cell_type": "code",
      "metadata": {
        "colab": {
          "base_uri": "https://localhost:8080/"
        },
        "id": "-J1qiHZ5emHQ",
        "outputId": "ed50ef83-19bf-445f-8228-2d80a59058df"
      },
      "source": [
        "sns.barplot(x=train['due_in_date'].dt.month,y=train['delay'])"
      ],
      "execution_count": null,
      "outputs": [
        {
          "output_type": "execute_result",
          "data": {
            "text/plain": [
              "<matplotlib.axes._subplots.AxesSubplot at 0x7f57d07a3c88>"
            ]
          },
          "metadata": {
            "tags": []
          },
          "execution_count": 749
        },
        {
          "output_type": "display_data",
          "data": {
            "image/png": "[encoded data removed]",
            "text/plain": [
              "<Figure size 432x288 with 1 Axes>"
            ]
          },
          "metadata": {
            "tags": [],
            "needs_background": "light"
          }
        }
      ]
    },
    {
      "cell_type": "markdown",
      "metadata": {
        "id": "s63Vb7Kgds2l"
      },
      "source": [
        "Negative Delay is very high in month = 12  (same as above). Positive delay is very low in month = 11."
      ]
    },
    {
      "cell_type": "markdown",
      "metadata": {
        "id": "7MHjmC1xhYLr"
      },
      "source": [
        "7.3 date.quarter vs delay (+ve/-ve seperatly)"
      ]
    },
    {
      "cell_type": "code",
      "metadata": {
        "colab": {
          "base_uri": "https://localhost:8080/"
        },
        "id": "48j4UbBya6xD",
        "outputId": "8e8e928b-8732-4181-9481-7f9775b6715e"
      },
      "source": [
        "sns.barplot(x=train['due_in_date'].dt.quarter, y=train['delay'],hue=train['Late'])"
      ],
      "execution_count": null,
      "outputs": [
        {
          "output_type": "execute_result",
          "data": {
            "text/plain": [
              "<matplotlib.axes._subplots.AxesSubplot at 0x7f57d06c6a90>"
            ]
          },
          "metadata": {
            "tags": []
          },
          "execution_count": 750
        },
        {
          "output_type": "display_data",
          "data": {
            "image/png": "[encoded data removed]",
            "text/plain": [
              "<Figure size 432x288 with 1 Axes>"
            ]
          },
          "metadata": {
            "tags": [],
            "needs_background": "light"
          }
        }
      ]
    },
    {
      "cell_type": "markdown",
      "metadata": {
        "id": "XH5SSC7Dhn0L"
      },
      "source": [
        "Same as both document_create_date and document_create_date.1"
      ]
    },
    {
      "cell_type": "markdown",
      "metadata": {
        "id": "r7Am7Z4ehw7r"
      },
      "source": [
        "7.4 date.quarter vs delay"
      ]
    },
    {
      "cell_type": "code",
      "metadata": {
        "colab": {
          "base_uri": "https://localhost:8080/"
        },
        "id": "15kfX6HDa6da",
        "outputId": "cd2bba30-868b-4059-8b8c-f3808de83e8f"
      },
      "source": [
        "sns.barplot(x=train['due_in_date'].dt.quarter, y=train['delay'])"
      ],
      "execution_count": null,
      "outputs": [
        {
          "output_type": "execute_result",
          "data": {
            "text/plain": [
              "<matplotlib.axes._subplots.AxesSubplot at 0x7f57d05e6828>"
            ]
          },
          "metadata": {
            "tags": []
          },
          "execution_count": 751
        },
        {
          "output_type": "display_data",
          "data": {
            "image/png": "[encoded data removed]",
            "text/plain": [
              "<Figure size 432x288 with 1 Axes>"
            ]
          },
          "metadata": {
            "tags": [],
            "needs_background": "light"
          }
        }
      ]
    },
    {
      "cell_type": "markdown",
      "metadata": {
        "id": "7HN7VlaMiffG"
      },
      "source": [
        "In quarter 1 delay is highest and in quarter 4 delay is lowest."
      ]
    },
    {
      "cell_type": "markdown",
      "metadata": {
        "id": "-AiXGzIZirGZ"
      },
      "source": [
        "7.5 date.dayofweek vs delay (+ve/-ve seperatly)"
      ]
    },
    {
      "cell_type": "code",
      "metadata": {
        "colab": {
          "base_uri": "https://localhost:8080/"
        },
        "id": "aYvp5fSPh_CM",
        "outputId": "72039d27-68bd-432d-9072-0446f4c42fa9"
      },
      "source": [
        "sns.barplot(x=train['due_in_date'].dt.dayofweek, y=train['delay'],hue=train['Late'])"
      ],
      "execution_count": null,
      "outputs": [
        {
          "output_type": "execute_result",
          "data": {
            "text/plain": [
              "<matplotlib.axes._subplots.AxesSubplot at 0x7f57d05d4ac8>"
            ]
          },
          "metadata": {
            "tags": []
          },
          "execution_count": 752
        },
        {
          "output_type": "display_data",
          "data": {
            "image/png": "[encoded data removed]",
            "text/plain": [
              "<Figure size 432x288 with 1 Axes>"
            ]
          },
          "metadata": {
            "tags": [],
            "needs_background": "light"
          }
        }
      ]
    },
    {
      "cell_type": "markdown",
      "metadata": {
        "id": "5fnoj7uekSko"
      },
      "source": [
        "At 4 positive delay is very high and at 1,3,4, negative delay is very low. "
      ]
    },
    {
      "cell_type": "markdown",
      "metadata": {
        "id": "5ntHl3aBlzYt"
      },
      "source": [
        "7.6 date.dayofweek vs delay "
      ]
    },
    {
      "cell_type": "code",
      "metadata": {
        "colab": {
          "base_uri": "https://localhost:8080/"
        },
        "id": "SAvNIapXjvVV",
        "outputId": "5bf79f3c-d988-470b-b359-34403858965c"
      },
      "source": [
        "sns.barplot(x=train['due_in_date'].dt.dayofweek, y=train['delay'])"
      ],
      "execution_count": null,
      "outputs": [
        {
          "output_type": "execute_result",
          "data": {
            "text/plain": [
              "<matplotlib.axes._subplots.AxesSubplot at 0x7f57d0496940>"
            ]
          },
          "metadata": {
            "tags": []
          },
          "execution_count": 753
        },
        {
          "output_type": "display_data",
          "data": {
            "image/png": "[encoded data removed]",
            "text/plain": [
              "<Figure size 432x288 with 1 Axes>"
            ]
          },
          "metadata": {
            "tags": [],
            "needs_background": "light"
          }
        }
      ]
    },
    {
      "cell_type": "markdown",
      "metadata": {
        "id": "kS8gcWf8l7E8"
      },
      "source": [
        "Delay is lowest on day = 2 and highest on day = 5 and 4. "
      ]
    },
    {
      "cell_type": "markdown",
      "metadata": {
        "id": "qHx5gtxsmW42"
      },
      "source": [
        "7.7 per 7-7 days in month vs delay (+ve/-ve seperatly)"
      ]
    },
    {
      "cell_type": "code",
      "metadata": {
        "colab": {
          "base_uri": "https://localhost:8080/"
        },
        "id": "IwLor31cmiB0",
        "outputId": "72597fde-f852-46f9-82d5-0a4b099569e4"
      },
      "source": [
        "bins=[1,2,3,4,5]\n",
        "plt.figure(figsize = (7, 6))\n",
        "day_p,day_n = week_of_month('due_in_date')\n",
        "plt.bar(bins,day_p,label='+ve delay')\n",
        "plt.bar(bins, day_n,label='-ve delay')\n",
        "plt.xlabel(\"7-7 days\") \n",
        "plt.ylabel(\"delay\") \n",
        "plt.legend()\n",
        "plt.show()"
      ],
      "execution_count": null,
      "outputs": [
        {
          "output_type": "display_data",
          "data": {
            "image/png": "[encoded data removed]",
            "text/plain": [
              "<Figure size 504x432 with 1 Axes>"
            ]
          },
          "metadata": {
            "tags": [],
            "needs_background": "light"
          }
        }
      ]
    },
    {
      "cell_type": "markdown",
      "metadata": {
        "id": "qsDaKQsMmshf"
      },
      "source": [
        "7.8 per 7-7 days in month vs delay"
      ]
    },
    {
      "cell_type": "code",
      "metadata": {
        "colab": {
          "base_uri": "https://localhost:8080/"
        },
        "id": "VdTLxFpZmukK",
        "outputId": "19165bc3-7654-4b42-8f8d-58f0d4c6ba90"
      },
      "source": [
        "bins=[1,2,3,4,5]\n",
        "plt.figure(figsize = (7, 6))\n",
        "week = week_of_month_all('due_in_date')\n",
        "plt.bar(bins,week)\n",
        "plt.xlabel(\"7-7 days\") \n",
        "plt.ylabel(\"delay\") \n",
        "plt.show() "
      ],
      "execution_count": null,
      "outputs": [
        {
          "output_type": "display_data",
          "data": {
            "image/png": "[encoded data removed]",
            "text/plain": [
              "<Figure size 504x432 with 1 Axes>"
            ]
          },
          "metadata": {
            "tags": [],
            "needs_background": "light"
          }
        }
      ]
    },
    {
      "cell_type": "markdown",
      "metadata": {
        "id": "1IqCZy5tmr8g"
      },
      "source": [
        "delay highest in week 1 and low in both 4 and 5."
      ]
    },
    {
      "cell_type": "markdown",
      "metadata": {
        "id": "lzl9-MJxmrpj"
      },
      "source": [
        "7.9 date.day vs delay"
      ]
    },
    {
      "cell_type": "code",
      "metadata": {
        "colab": {
          "base_uri": "https://localhost:8080/"
        },
        "id": "5TqPicJEnjek",
        "outputId": "b8a3c7f8-7cbd-4f8a-b5ee-b282d3bbff16"
      },
      "source": [
        "plt.figure(figsize=(15,12))\n",
        "sns.barplot(x=train['due_in_date'].dt.day,y=train['delay'])"
      ],
      "execution_count": null,
      "outputs": [
        {
          "output_type": "execute_result",
          "data": {
            "text/plain": [
              "<matplotlib.axes._subplots.AxesSubplot at 0x7f57d07d0518>"
            ]
          },
          "metadata": {
            "tags": []
          },
          "execution_count": 756
        },
        {
          "output_type": "display_data",
          "data": {
            "image/png": "[encoded data removed]",
            "text/plain": [
              "<Figure size 1080x864 with 1 Axes>"
            ]
          },
          "metadata": {
            "tags": [],
            "needs_background": "light"
          }
        }
      ]
    },
    {
      "cell_type": "markdown",
      "metadata": {
        "id": "A0yLOuXTnmQ8"
      },
      "source": [
        "Conclusion-\n",
        "\n",
        ">1.   High delay- On day 6,12,17\n",
        "2.   Low  delay- On day 8,9,31\n",
        "3.  Lowest delay- On day 24\n",
        "\n",
        "\n",
        "\n"
      ]
    },
    {
      "cell_type": "markdown",
      "metadata": {
        "id": "8Otju1rjpINT"
      },
      "source": [
        "8. baseline create date"
      ]
    },
    {
      "cell_type": "markdown",
      "metadata": {
        "id": "dVaphsLBpP-L"
      },
      "source": [
        "8.1 date.month vs delay (+ve/-ve seperatly)"
      ]
    },
    {
      "cell_type": "code",
      "metadata": {
        "colab": {
          "base_uri": "https://localhost:8080/"
        },
        "id": "sJ6FABsWpPed",
        "outputId": "bd7ed6b3-676e-42d1-bda4-4711ac595407"
      },
      "source": [
        "sns.barplot(x=train['baseline_create_date'].dt.month,y=train['delay'],hue=train['Late'])"
      ],
      "execution_count": null,
      "outputs": [
        {
          "output_type": "execute_result",
          "data": {
            "text/plain": [
              "<matplotlib.axes._subplots.AxesSubplot at 0x7f57d0238198>"
            ]
          },
          "metadata": {
            "tags": []
          },
          "execution_count": 757
        },
        {
          "output_type": "display_data",
          "data": {
            "image/png": "[encoded data removed]",
            "text/plain": [
              "<Figure size 432x288 with 1 Axes>"
            ]
          },
          "metadata": {
            "tags": [],
            "needs_background": "light"
          }
        }
      ]
    },
    {
      "cell_type": "markdown",
      "metadata": {
        "id": "62Iqennspfri"
      },
      "source": [
        "8.2  date.month vs delay "
      ]
    },
    {
      "cell_type": "code",
      "metadata": {
        "colab": {
          "base_uri": "https://localhost:8080/"
        },
        "id": "WXetC_eLpPYh",
        "outputId": "f3417b67-66fb-4c34-a4ae-896c3b0e775f"
      },
      "source": [
        "sns.barplot(x=train['baseline_create_date'].dt.month,y=train['delay'])"
      ],
      "execution_count": null,
      "outputs": [
        {
          "output_type": "execute_result",
          "data": {
            "text/plain": [
              "<matplotlib.axes._subplots.AxesSubplot at 0x7f57d0238898>"
            ]
          },
          "metadata": {
            "tags": []
          },
          "execution_count": 758
        },
        {
          "output_type": "display_data",
          "data": {
            "image/png": "[encoded data removed]",
            "text/plain": [
              "<Figure size 432x288 with 1 Axes>"
            ]
          },
          "metadata": {
            "tags": [],
            "needs_background": "light"
          }
        }
      ]
    },
    {
      "cell_type": "markdown",
      "metadata": {
        "id": "-RKXoUCzqOMk"
      },
      "source": [
        "In month 1 & 6 delay is high and in 11 & 12 delay is low."
      ]
    },
    {
      "cell_type": "markdown",
      "metadata": {
        "id": "8Xn_PDbiqaFV"
      },
      "source": [
        "8.3 date.quarter vs delay (+ve/-ve seperatly)"
      ]
    },
    {
      "cell_type": "code",
      "metadata": {
        "colab": {
          "base_uri": "https://localhost:8080/"
        },
        "id": "QfUN9LnWpPPr",
        "outputId": "585a37ee-6488-46fc-997e-4835e1c417ac"
      },
      "source": [
        "sns.barplot(x=train['baseline_create_date'].dt.quarter, y=train['delay'],hue=train['Late'])"
      ],
      "execution_count": null,
      "outputs": [
        {
          "output_type": "execute_result",
          "data": {
            "text/plain": [
              "<matplotlib.axes._subplots.AxesSubplot at 0x7f57d006e9b0>"
            ]
          },
          "metadata": {
            "tags": []
          },
          "execution_count": 759
        },
        {
          "output_type": "display_data",
          "data": {
            "image/png": "[encoded data removed]",
            "text/plain": [
              "<Figure size 432x288 with 1 Axes>"
            ]
          },
          "metadata": {
            "tags": [],
            "needs_background": "light"
          }
        }
      ]
    },
    {
      "cell_type": "markdown",
      "metadata": {
        "id": "vp_1xdC9qoEK"
      },
      "source": [
        "8.4 date.quarter vs delay"
      ]
    },
    {
      "cell_type": "code",
      "metadata": {
        "colab": {
          "base_uri": "https://localhost:8080/"
        },
        "id": "HXv_3h4Bqm_a",
        "outputId": "a853ff81-723a-448f-b127-93a9159df607"
      },
      "source": [
        "sns.barplot(x=train['baseline_create_date'].dt.quarter, y=train['delay'])"
      ],
      "execution_count": null,
      "outputs": [
        {
          "output_type": "execute_result",
          "data": {
            "text/plain": [
              "<matplotlib.axes._subplots.AxesSubplot at 0x7f57cfffcba8>"
            ]
          },
          "metadata": {
            "tags": []
          },
          "execution_count": 760
        },
        {
          "output_type": "display_data",
          "data": {
            "image/png": "[encoded data removed]",
            "text/plain": [
              "<Figure size 432x288 with 1 Axes>"
            ]
          },
          "metadata": {
            "tags": [],
            "needs_background": "light"
          }
        }
      ]
    },
    {
      "cell_type": "markdown",
      "metadata": {
        "id": "LnbLyBLvqs5Q"
      },
      "source": [
        "Above both graphs are similar to graphs of document_create_date.1"
      ]
    },
    {
      "cell_type": "markdown",
      "metadata": {
        "id": "ez0Vd6fQq6cZ"
      },
      "source": [
        "8.5 date.dayofweek vs delay (+ve/-ve seperatly)"
      ]
    },
    {
      "cell_type": "code",
      "metadata": {
        "colab": {
          "base_uri": "https://localhost:8080/"
        },
        "id": "RA5s2nTarDSG",
        "outputId": "824270b9-6893-4cbe-b376-4bc6db498801"
      },
      "source": [
        "sns.barplot(x=train['baseline_create_date'].dt.dayofweek, y=train['delay'],hue=train['Late'])"
      ],
      "execution_count": null,
      "outputs": [
        {
          "output_type": "execute_result",
          "data": {
            "text/plain": [
              "<matplotlib.axes._subplots.AxesSubplot at 0x7f57cff51f28>"
            ]
          },
          "metadata": {
            "tags": []
          },
          "execution_count": 761
        },
        {
          "output_type": "display_data",
          "data": {
            "image/png": "[encoded data removed]",
            "text/plain": [
              "<Figure size 432x288 with 1 Axes>"
            ]
          },
          "metadata": {
            "tags": [],
            "needs_background": "light"
          }
        }
      ]
    },
    {
      "cell_type": "markdown",
      "metadata": {
        "id": "KooSt-WqrMdY"
      },
      "source": [
        "8.6 date.dayofweek vs delay "
      ]
    },
    {
      "cell_type": "code",
      "metadata": {
        "colab": {
          "base_uri": "https://localhost:8080/"
        },
        "id": "LWqEniy4rLZk",
        "outputId": "bc7a6ec7-8dab-4edf-f5b4-9ebd124029b8"
      },
      "source": [
        "sns.barplot(x=train['due_in_date'].dt.dayofweek, y=train['delay'])"
      ],
      "execution_count": null,
      "outputs": [
        {
          "output_type": "execute_result",
          "data": {
            "text/plain": [
              "<matplotlib.axes._subplots.AxesSubplot at 0x7f57cff04f60>"
            ]
          },
          "metadata": {
            "tags": []
          },
          "execution_count": 762
        },
        {
          "output_type": "display_data",
          "data": {
            "image/png": "[encoded data removed]",
            "text/plain": [
              "<Figure size 432x288 with 1 Axes>"
            ]
          },
          "metadata": {
            "tags": [],
            "needs_background": "light"
          }
        }
      ]
    },
    {
      "cell_type": "markdown",
      "metadata": {
        "id": "-SDmVPnorc18"
      },
      "source": [
        "Above graph same as of due_in_date."
      ]
    },
    {
      "cell_type": "markdown",
      "metadata": {
        "id": "F67vDh_EroKH"
      },
      "source": [
        "8.7 per 7-7 days in month vs delay (+ve/-ve seperatly)"
      ]
    },
    {
      "cell_type": "code",
      "metadata": {
        "colab": {
          "base_uri": "https://localhost:8080/"
        },
        "id": "0LhQwYfSrsZC",
        "outputId": "f9f4f081-f418-42d8-8641-aaf0dd31faee"
      },
      "source": [
        "bins=[1,2,3,4,5]\n",
        "plt.figure(figsize = (7, 6))\n",
        "day_p,day_n = week_of_month('baseline_create_date')\n",
        "plt.bar(bins,day_p,label='+ve delay')\n",
        "plt.bar(bins, day_n,label='-ve delay')\n",
        "plt.xlabel(\"7-7 days\") \n",
        "plt.ylabel(\"delay\") \n",
        "plt.legend()\n",
        "plt.show() "
      ],
      "execution_count": null,
      "outputs": [
        {
          "output_type": "display_data",
          "data": {
            "image/png": "[encoded data removed]",
            "text/plain": [
              "<Figure size 504x432 with 1 Axes>"
            ]
          },
          "metadata": {
            "tags": [],
            "needs_background": "light"
          }
        }
      ]
    },
    {
      "cell_type": "markdown",
      "metadata": {
        "id": "LSClntBjr9nB"
      },
      "source": [
        "8.8 per 7-7 days in month vs delay "
      ]
    },
    {
      "cell_type": "code",
      "metadata": {
        "colab": {
          "base_uri": "https://localhost:8080/"
        },
        "id": "NGrWyMUsr9PR",
        "outputId": "887219c7-e79c-42a8-c022-eea4b88cd146"
      },
      "source": [
        "bins=[1,2,3,4,5]\n",
        "plt.figure(figsize = (7, 6))\n",
        "week = week_of_month_all('baseline_create_date')\n",
        "plt.bar(bins,week)\n",
        "plt.xlabel(\"7-7 days\") \n",
        "plt.ylabel(\"delay\") \n",
        "plt.show() "
      ],
      "execution_count": null,
      "outputs": [
        {
          "output_type": "display_data",
          "data": {
            "image/png": "[encoded data removed]",
            "text/plain": [
              "<Figure size 504x432 with 1 Axes>"
            ]
          },
          "metadata": {
            "tags": [],
            "needs_background": "light"
          }
        }
      ]
    },
    {
      "cell_type": "markdown",
      "metadata": {
        "id": "CXGwcZcHsZm2"
      },
      "source": [
        "Conclusion- In second week delay is high and low in 3 & 5."
      ]
    },
    {
      "cell_type": "markdown",
      "metadata": {
        "id": "W1lA-C5ctNZ1"
      },
      "source": [
        "8.9 date.day vs delay"
      ]
    },
    {
      "cell_type": "code",
      "metadata": {
        "colab": {
          "base_uri": "https://localhost:8080/"
        },
        "id": "wUzQuQpctVnL",
        "outputId": "bacee1a3-3f6c-4f7b-aea2-74033c2b9815"
      },
      "source": [
        "plt.figure(figsize=(15,12))\n",
        "sns.barplot(x=train['baseline_create_date'].dt.day,y=train['delay'])"
      ],
      "execution_count": null,
      "outputs": [
        {
          "output_type": "execute_result",
          "data": {
            "text/plain": [
              "<matplotlib.axes._subplots.AxesSubplot at 0x7f57cfd066d8>"
            ]
          },
          "metadata": {
            "tags": []
          },
          "execution_count": 765
        },
        {
          "output_type": "display_data",
          "data": {
            "image/png": "[encoded data removed]",
            "text/plain": [
              "<Figure size 1080x864 with 1 Axes>"
            ]
          },
          "metadata": {
            "tags": [],
            "needs_background": "light"
          }
        }
      ]
    },
    {
      "cell_type": "markdown",
      "metadata": {
        "id": "5EO1necktqMM"
      },
      "source": [
        "Delay low on day 1,16 and high on 2,3,6,7,9."
      ]
    },
    {
      "cell_type": "markdown",
      "metadata": {
        "id": "HylR54sBuYPL"
      },
      "source": [
        "9. document_create_date - document_create_date.1"
      ]
    },
    {
      "cell_type": "code",
      "metadata": {
        "colab": {
          "base_uri": "https://localhost:8080/"
        },
        "id": "QrED4LE0ulUq",
        "outputId": "5dd09d31-c86f-4093-f572-5659bb7a189e"
      },
      "source": [
        "train['dcd-dcd.1'] = (train['document_create_date']- train['document_create_date.1']).dt.days\n",
        "plt.figure(figsize=(16,8))\n",
        "sns.barplot(x =train['dcd-dcd.1'], y=train['delay'])"
      ],
      "execution_count": null,
      "outputs": [
        {
          "output_type": "execute_result",
          "data": {
            "text/plain": [
              "<matplotlib.axes._subplots.AxesSubplot at 0x7f57cfc21a20>"
            ]
          },
          "metadata": {
            "tags": []
          },
          "execution_count": 766
        },
        {
          "output_type": "display_data",
          "data": {
            "image/png": "[encoded data removed]",
            "text/plain": [
              "<Figure size 1152x576 with 1 Axes>"
            ]
          },
          "metadata": {
            "tags": [],
            "needs_background": "light"
          }
        }
      ]
    },
    {
      "cell_type": "markdown",
      "metadata": {
        "id": "7pYaUyeA24vL"
      },
      "source": [
        "High- [0,10,12,18] and low - [-11,-8,-7,-6,-5,-3,-2,-1,0,1,2,3,4,5,6,8,9] "
      ]
    },
    {
      "cell_type": "markdown",
      "metadata": {
        "id": "uWrQ1Ngi3Uh_"
      },
      "source": [
        "10. due_in_date - document_create_date.1"
      ]
    },
    {
      "cell_type": "code",
      "metadata": {
        "colab": {
          "base_uri": "https://localhost:8080/"
        },
        "id": "Kd_NdKV73coi",
        "outputId": "64f7409f-394d-490e-ee57-a95f7499b97d"
      },
      "source": [
        "train['did-dcd.1'] = (train['due_in_date']-train['document_create_date.1']).dt.days\n",
        "plt.figure(figsize=(30,8))\n",
        "sns.barplot(x =train['did-dcd.1'], y =train['delay'])"
      ],
      "execution_count": null,
      "outputs": [
        {
          "output_type": "execute_result",
          "data": {
            "text/plain": [
              "<matplotlib.axes._subplots.AxesSubplot at 0x7f57d3829b70>"
            ]
          },
          "metadata": {
            "tags": []
          },
          "execution_count": 767
        },
        {
          "output_type": "display_data",
          "data": {
            "image/png": "[encoded data removed]",
            "text/plain": [
              "<Figure size 2160x576 with 1 Axes>"
            ]
          },
          "metadata": {
            "tags": [],
            "needs_background": "light"
          }
        }
      ]
    },
    {
      "cell_type": "code",
      "metadata": {
        "colab": {
          "base_uri": "https://localhost:8080/"
        },
        "id": "U5bixDmX4DjC",
        "outputId": "e0bc78c5-628b-49c1-d987-58f149e683d0"
      },
      "source": [
        "train[train['did-dcd.1']==61].shape"
      ],
      "execution_count": null,
      "outputs": [
        {
          "output_type": "execute_result",
          "data": {
            "text/plain": [
              "(1, 17)"
            ]
          },
          "metadata": {
            "tags": []
          },
          "execution_count": 768
        }
      ]
    },
    {
      "cell_type": "code",
      "metadata": {
        "colab": {
          "base_uri": "https://localhost:8080/"
        },
        "id": "E8_ECmDL4hzu",
        "outputId": "a573a738-2c56-495e-b212-d70988313c62"
      },
      "source": [
        "train[train['did-dcd.1']==0].shape"
      ],
      "execution_count": null,
      "outputs": [
        {
          "output_type": "execute_result",
          "data": {
            "text/plain": [
              "(558, 17)"
            ]
          },
          "metadata": {
            "tags": []
          },
          "execution_count": 769
        }
      ]
    },
    {
      "cell_type": "markdown",
      "metadata": {
        "id": "gCDC0mSS3_7T"
      },
      "source": [
        "Delay is very high when did-dcd.1 =0 but I'm not considering 61 because it's just one value."
      ]
    },
    {
      "cell_type": "markdown",
      "metadata": {
        "id": "OxzTxKFR6jrY"
      },
      "source": [
        "11. due_in_date - baseline_create_date vs delay"
      ]
    },
    {
      "cell_type": "code",
      "metadata": {
        "colab": {
          "base_uri": "https://localhost:8080/"
        },
        "id": "HxMBX8vLnFZw",
        "outputId": "826edb4b-aa8f-4201-a267-6d8cfac286a5"
      },
      "source": [
        "train['did-bcd'] = (train['due_in_date']-train['baseline_create_date']).dt.days\n",
        "plt.figure(figsize=(30,8))\n",
        "sns.barplot(x =train['did-bcd'], y =train['delay'])"
      ],
      "execution_count": null,
      "outputs": [
        {
          "output_type": "execute_result",
          "data": {
            "text/plain": [
              "<matplotlib.axes._subplots.AxesSubplot at 0x7f57d1db0160>"
            ]
          },
          "metadata": {
            "tags": []
          },
          "execution_count": 770
        },
        {
          "output_type": "display_data",
          "data": {
            "image/png": "[encoded data removed]",
            "text/plain": [
              "<Figure size 2160x576 with 1 Axes>"
            ]
          },
          "metadata": {
            "tags": [],
            "needs_background": "light"
          }
        }
      ]
    },
    {
      "cell_type": "code",
      "metadata": {
        "colab": {
          "base_uri": "https://localhost:8080/"
        },
        "id": "x6Ejnewi3-1w",
        "outputId": "907ba83c-17c4-469c-b390-6f2e56e24058"
      },
      "source": [
        "train[train['did-dcd.1']==0].shape"
      ],
      "execution_count": null,
      "outputs": [
        {
          "output_type": "execute_result",
          "data": {
            "text/plain": [
              "(558, 18)"
            ]
          },
          "metadata": {
            "tags": []
          },
          "execution_count": 771
        }
      ]
    },
    {
      "cell_type": "markdown",
      "metadata": {
        "id": "ELczaSdl6xCA"
      },
      "source": [
        "Delay is very high when did-dcd.1 =0 but I'm not considering 61 because it's just one value."
      ]
    },
    {
      "cell_type": "markdown",
      "metadata": {
        "id": "sunx-9yj0xvS"
      },
      "source": [
        "# **Step 5- Feature Engineering** "
      ]
    },
    {
      "cell_type": "code",
      "metadata": {
        "colab": {
          "base_uri": "https://localhost:8080/"
        },
        "id": "eHzXxSaXpKuo",
        "outputId": "c09ba7c9-5049-45e9-e692-22d200adc35f"
      },
      "source": [
        "train.shape"
      ],
      "execution_count": null,
      "outputs": [
        {
          "output_type": "execute_result",
          "data": {
            "text/plain": [
              "(35511, 18)"
            ]
          },
          "metadata": {
            "tags": []
          },
          "execution_count": 772
        }
      ]
    },
    {
      "cell_type": "markdown",
      "metadata": {
        "id": "RgHG-A6T1a9x"
      },
      "source": [
        "1. business_code- One hot encoding"
      ]
    },
    {
      "cell_type": "code",
      "metadata": {
        "id": "0Ca1CEo51fP2"
      },
      "source": [
        "#One hot encoding\n",
        "from sklearn.preprocessing import OneHotEncoder\n",
        "one_hot_encoder = OneHotEncoder()\n",
        "temp = one_hot_encoder.fit_transform(train[['business_code']]).astype('int')\n",
        "temp= pd.DataFrame(temp.toarray(), columns=one_hot_encoder.categories_)"
      ],
      "execution_count": null,
      "outputs": []
    },
    {
      "cell_type": "code",
      "metadata": {
        "colab": {
          "base_uri": "https://localhost:8080/"
        },
        "id": "eGmtZVvGDOu7",
        "outputId": "c5d7fc42-5eab-412e-a619-328a56a01d1e"
      },
      "source": [
        "train = train.join(temp)\n",
        "train.shape"
      ],
      "execution_count": null,
      "outputs": [
        {
          "output_type": "execute_result",
          "data": {
            "text/plain": [
              "(35511, 21)"
            ]
          },
          "metadata": {
            "tags": []
          },
          "execution_count": 774
        }
      ]
    },
    {
      "cell_type": "markdown",
      "metadata": {
        "id": "ovcpCCl3D4w7"
      },
      "source": [
        "2. invoice_currency- One hot encoding"
      ]
    },
    {
      "cell_type": "code",
      "metadata": {
        "colab": {
          "base_uri": "https://localhost:8080/"
        },
        "id": "42i34f3LEHOS",
        "outputId": "974de7fe-f1ca-47e3-8e48-345ef5c6f22a"
      },
      "source": [
        "temp = one_hot_encoder.fit_transform(train[['invoice_currency']]).astype('int')\n",
        "temp= pd.DataFrame(temp.toarray(), columns=one_hot_encoder.categories_)\n",
        "train = train.join(temp)\n",
        "train.shape"
      ],
      "execution_count": null,
      "outputs": [
        {
          "output_type": "execute_result",
          "data": {
            "text/plain": [
              "(35511, 23)"
            ]
          },
          "metadata": {
            "tags": []
          },
          "execution_count": 775
        }
      ]
    },
    {
      "cell_type": "markdown",
      "metadata": {
        "id": "kvy3yw-QFAnV"
      },
      "source": [
        "3. Amount > 150000"
      ]
    },
    {
      "cell_type": "code",
      "metadata": {
        "id": "a-zuCe480ayf"
      },
      "source": [
        "#delay for most of the records where amount greater or equal to 150000 is between [mean()-3*std(),mean()+3*std()] i.e [-25.30,36.69]\n",
        "train['amount_g&e_to_150000']=train['total_open_amount'].apply(lambda x: 1 if x>=150000 else 0)"
      ],
      "execution_count": null,
      "outputs": []
    },
    {
      "cell_type": "markdown",
      "metadata": {
        "id": "_Qgyp8ML4cf2"
      },
      "source": [
        "4. cust_payment_terms- One hot encoding"
      ]
    },
    {
      "cell_type": "code",
      "metadata": {
        "id": "CY9AnslZ5OJm"
      },
      "source": [
        "temp = one_hot_encoder.fit_transform(train[[\"cust_payment_terms\"]])\n",
        "temp= pd.DataFrame(temp.toarray(), columns=one_hot_encoder.categories_)\n",
        "train = train.join(temp)"
      ],
      "execution_count": null,
      "outputs": []
    },
    {
      "cell_type": "markdown",
      "metadata": {
        "id": "ylb-2YdtLZCa"
      },
      "source": [
        "5. document_create_date"
      ]
    },
    {
      "cell_type": "code",
      "metadata": {
        "id": "uPf6utHmI1OS"
      },
      "source": [
        "#FROM 5.1\n",
        "train['dcd_month=+12'] = train['document_create_date'].apply(lambda x: 1 if x.month == 12 else 0)"
      ],
      "execution_count": null,
      "outputs": []
    },
    {
      "cell_type": "code",
      "metadata": {
        "id": "lFHYtoonI1LH"
      },
      "source": [
        "#From 5.2\n",
        "train['dcd_month=11&12'] = train['document_create_date'].apply(lambda x: 1 if x.month == 11 or x.month == 12 else 0).astype('int')\n",
        "train['dcd_month=1'] = train['document_create_date'].apply(lambda x: 1 if x.month == 11 else 0).astype('int')"
      ],
      "execution_count": null,
      "outputs": []
    },
    {
      "cell_type": "code",
      "metadata": {
        "id": "7Svnu5zpQYmY"
      },
      "source": [
        "#From 5.3\n",
        "train['dcd_Quarter']= train['document_create_date'].dt.quarter"
      ],
      "execution_count": null,
      "outputs": []
    },
    {
      "cell_type": "code",
      "metadata": {
        "id": "N0BLxln7RDHx"
      },
      "source": [
        "#From 5.5\n",
        "train['dcd_day=+0'] = train['document_create_date'].apply(lambda x: 1 if x.dayofweek == 0 else 0)\n",
        "train['dcd_day=+5'] = train['document_create_date'].apply(lambda x: 1 if x.dayofweek == 5 else 0)\n",
        "train['dcd_day=-4'] = train['document_create_date'].apply(lambda x: 1 if x.dayofweek == 4 else 0)\n",
        "train['dcd_day=-4'] = train['dcd_day=-4'].fillna(0).astype('int')"
      ],
      "execution_count": null,
      "outputs": []
    },
    {
      "cell_type": "code",
      "metadata": {
        "id": "Y-FjvdQsTC-B"
      },
      "source": [
        "#From 5.6\n",
        "train['dcd_day'] = train['document_create_date'].dt.dayofweek\n",
        "train['dcd_day=0'] = train['document_create_date'].apply(lambda x: 1 if x.day == 1 else 0).astype('int')\n",
        "train['dcd_day=5&6'] = train['document_create_date'].apply(lambda x: 1 if x.day == 5 or x.day == 6 else 0).astype('int')"
      ],
      "execution_count": null,
      "outputs": []
    },
    {
      "cell_type": "code",
      "metadata": {
        "id": "k_UziuYFUvvr"
      },
      "source": [
        "#From 5.8\n",
        "train['dcd_weekofmonth=3'] = train['document_create_date'].apply(lambda x: 1 if x.day in [15,16,17,18,19,20,21] else 0)\n",
        "train['dcd_weekofmonth=1'] = train['document_create_date'].apply(lambda x: 1 if x.day in [1,2,3,4,5,6,7] else 0)"
      ],
      "execution_count": null,
      "outputs": []
    },
    {
      "cell_type": "code",
      "metadata": {
        "id": "wo2bKcS6Vdi8"
      },
      "source": [
        "#From 5.9\n",
        "train['dcd_date=3or17'] = train['document_create_date'].apply(lambda x: 1 if x.day==3 or x.day==17 else 0)\n",
        "train['dcd_date=21'] = train['document_create_date'].apply(lambda x: 1 if x.day==21 else 0)"
      ],
      "execution_count": null,
      "outputs": []
    },
    {
      "cell_type": "markdown",
      "metadata": {
        "id": "Bcrheq4UXtJ2"
      },
      "source": [
        "6. document_create_date.1"
      ]
    },
    {
      "cell_type": "code",
      "metadata": {
        "id": "YIoqvkCyWlgY"
      },
      "source": [
        "#FRom 6.1 \n",
        "train['dcd.1_month=+11'] = train['document_create_date'].apply(lambda x: 1 if x.month == 11 else 0)\n",
        "train['dcd.1_month=-5'] = train['document_create_date'].apply(lambda x: 1 if x.month == 11 else 0)"
      ],
      "execution_count": null,
      "outputs": []
    },
    {
      "cell_type": "code",
      "metadata": {
        "id": "Q9qA03IHVAwp"
      },
      "source": [
        "#From 6.2\n",
        "train['dcd.1_month=11or12']= train['document_create_date.1'].apply(lambda x: 1 if x.month==11 or x.month==12 else 0).astype('int')\n",
        "train['dcd.1_month=1or6']= train['document_create_date.1'].apply(lambda x: 1 if x.month==1 or x.month== 6 else 0).astype('int')"
      ],
      "execution_count": null,
      "outputs": []
    },
    {
      "cell_type": "code",
      "metadata": {
        "id": "WKvqCLAKVApp"
      },
      "source": [
        "#From 6.6\n",
        "train['dcd.1_dayofweek=2or4'] = train['document_create_date.1'].apply(lambda x: 1 if x.dayofweek==2 or x.dayofweek==4 else 0).astype('int')"
      ],
      "execution_count": null,
      "outputs": []
    },
    {
      "cell_type": "code",
      "metadata": {
        "id": "E_rspQgAVAi1"
      },
      "source": [
        "#From 6.9 \n",
        "train['dcd.1_day=20,21,27,30'] = train['document_create_date.1'].apply(lambda x: 1 if x.day in [20,21,27,30] else 0).astype('int')\n",
        "train['dcd.1_day=2,3,9,14'] = train['document_create_date.1'].apply(lambda x: 1 if x.day in [2,3,9,14] else 0).astype('int')"
      ],
      "execution_count": null,
      "outputs": []
    },
    {
      "cell_type": "markdown",
      "metadata": {
        "id": "IuTz9xAueENS"
      },
      "source": [
        "7. due_in_date"
      ]
    },
    {
      "cell_type": "code",
      "metadata": {
        "id": "Y60J_D04VAeq"
      },
      "source": [
        "#From 7.1\n",
        "train['did_month=-12'] = train['due_in_date'].apply(lambda x: 1 if x.month==12 else 0)"
      ],
      "execution_count": null,
      "outputs": []
    },
    {
      "cell_type": "code",
      "metadata": {
        "id": "FxN5leiCfOCd"
      },
      "source": [
        "#From 7.2\n",
        "train['did_month=11'] = train['due_in_date'].apply(lambda x: 1 if x.month==11 else 0)\n",
        "train['did_month=12'] = train['due_in_date'].apply(lambda x: 1 if x.month==12 else 0)"
      ],
      "execution_count": null,
      "outputs": []
    },
    {
      "cell_type": "code",
      "metadata": {
        "id": "drsrOPIGiE_p"
      },
      "source": [
        "#From 7.4\n",
        "train['did_quarter=1'] = train['due_in_date'].apply(lambda x: 1 if x.quarter==1 else 0)\n",
        "train['did_quarter=4'] = train['due_in_date'].apply(lambda x: 1 if x.quarter==4 else 0)"
      ],
      "execution_count": null,
      "outputs": []
    },
    {
      "cell_type": "code",
      "metadata": {
        "id": "cbjAFfmGkr1h"
      },
      "source": [
        "#From 7.5\n",
        "train['din_dayofweek=+4'] = train['due_in_date'].apply(lambda x: 1 if x.dayofweek ==4 else 0)\n",
        "train['did_dayofweek=-1,-3,-4'] = train['due_in_date'].apply(lambda x: 1 if x.dayofweek in [1,3,4] else 0)"
      ],
      "execution_count": null,
      "outputs": []
    },
    {
      "cell_type": "code",
      "metadata": {
        "id": "VEYVC4jJkKQs"
      },
      "source": [
        "#From 7.6\n",
        "train['did_day=2'] = train['due_in_date'].apply(lambda x: 1 if x.dayofweek==2 else 0) \n",
        "train['did_day=4&5'] = train['due_in_date'].apply(lambda x: 1 if x.dayofweek==4 or x.dayofweek==5 else 0) "
      ],
      "execution_count": null,
      "outputs": []
    },
    {
      "cell_type": "code",
      "metadata": {
        "id": "Ic9LZpXym6s-"
      },
      "source": [
        "#From 7.8\n",
        "train['did_week_of_month=4or5'] = train['due_in_date'].apply(lambda x: 1 if x.day in [22,23,24,25,26,27,28,29,30,31] else 0)\n",
        "train['did_week_of_month=1'] = train['due_in_date'].apply(lambda x: 1 if x.day in [1,2,3,4,5,6,7] else 0)"
      ],
      "execution_count": null,
      "outputs": []
    },
    {
      "cell_type": "code",
      "metadata": {
        "id": "uXw3M7nenrY-"
      },
      "source": [
        "#From 7.9\n",
        "train['did_day=6,12,17'] = train['due_in_date'].apply(lambda x: 1 if x.day in [6,12,17] else 0).astype('int')\n",
        "train['did_day=8,9,31'] = train['due_in_date'].apply(lambda x: 1 if x.day in [8,9,31] else 0).astype('int')\n",
        "train['did_day=24'] = train['due_in_date'].apply(lambda x: 1 if x.day==24 else 0).astype('int')"
      ],
      "execution_count": null,
      "outputs": []
    },
    {
      "cell_type": "markdown",
      "metadata": {
        "id": "sKkBCI-AqGYc"
      },
      "source": [
        "8. baseline_create_date"
      ]
    },
    {
      "cell_type": "code",
      "metadata": {
        "id": "8pYyT1_YpPUk"
      },
      "source": [
        "#From 8.2\n",
        "train['bcd_month=11&12'] = train['baseline_create_date'].apply(lambda x: 1 if x.month==11 or x.month==12 else 0)\n",
        "train['bcd_month=1&6'] = train['baseline_create_date'].apply(lambda x: 1 if x.month==1 or x.month==6 else 0)"
      ],
      "execution_count": null,
      "outputs": []
    },
    {
      "cell_type": "code",
      "metadata": {
        "id": "39qc9zUCsaGc"
      },
      "source": [
        "#From 8.8 \n",
        "train['bcd_weekofmonth=2'] = train['baseline_create_date'].apply(lambda x: 1 if x.day in [8,9,10,11,12,13,14] else 0)\n",
        "train['bcd_weekofmonth=3&5'] = train['baseline_create_date'].apply(lambda x: 1 if x.day in [15,16,17,18,19,20,21,29,30,31] else 0)"
      ],
      "execution_count": null,
      "outputs": []
    },
    {
      "cell_type": "code",
      "metadata": {
        "id": "OrA5ZyFqtc3V"
      },
      "source": [
        "#From 8.9 \n",
        "train['bcd_day=1or16'] = train['baseline_create_date'].apply(lambda x: 1 if x.day==1 or x.day==16 else 0)\n",
        "train['bcd_day=2,3,6,7,9'] = train['baseline_create_date'].apply(lambda x: 1 if x.day in [2,3,6,7,9]  else 0)"
      ],
      "execution_count": null,
      "outputs": []
    },
    {
      "cell_type": "markdown",
      "metadata": {
        "id": "fN9025dAvO2N"
      },
      "source": [
        "9. document_create_date - document_create_date.1 vs delay"
      ]
    },
    {
      "cell_type": "code",
      "metadata": {
        "id": "fb1EjTVwu4-H"
      },
      "source": [
        "train['dcd-dcd.1=10,12,18'] = train['dcd-dcd.1'].apply(lambda x: 1 if x in [0,10,12,18]  else 0)\n",
        "train['dcd-dcd.1=-11,-8to-5,-3to6,8,9'] = train['dcd-dcd.1'].apply(lambda x: 1 if x in [-11,-8,-7,-6,-5,-3,-2,-1,0,1,2,3,4,5,6,8,9]  else 0)"
      ],
      "execution_count": null,
      "outputs": []
    },
    {
      "cell_type": "markdown",
      "metadata": {
        "id": "73qFI37J3OyE"
      },
      "source": [
        "10. due_in_date - document_create_date.1 vs delay"
      ]
    },
    {
      "cell_type": "code",
      "metadata": {
        "colab": {
          "base_uri": "https://localhost:8080/"
        },
        "id": "MnFzjPgi3xQy",
        "outputId": "acaad33d-414f-4003-afc2-a94d5f5ac8a2"
      },
      "source": [
        "train['did-dcd.1=0'] = train['did-dcd.1'].apply(lambda x: 1 if x ==0 else 0)\n",
        "train['did-dcd.1=0'].value_counts()"
      ],
      "execution_count": null,
      "outputs": [
        {
          "output_type": "execute_result",
          "data": {
            "text/plain": [
              "0    34953\n",
              "1      558\n",
              "Name: did-dcd.1=0, dtype: int64"
            ]
          },
          "metadata": {
            "tags": []
          },
          "execution_count": 800
        }
      ]
    },
    {
      "cell_type": "markdown",
      "metadata": {
        "id": "RMP2_3Bv5t-_"
      },
      "source": [
        "11. due_in_date - baseline_create_date vs delay"
      ]
    },
    {
      "cell_type": "code",
      "metadata": {
        "colab": {
          "base_uri": "https://localhost:8080/"
        },
        "id": "QEZxKGbCnFTi",
        "outputId": "2df7c01f-75fd-4ccd-bd02-6b412f75f09f"
      },
      "source": [
        "train['did-bcd=0'] = train['did-bcd'].apply(lambda x: 1 if x ==0 else 0)\n",
        "train['did-bcd=0'].value_counts()"
      ],
      "execution_count": null,
      "outputs": [
        {
          "output_type": "execute_result",
          "data": {
            "text/plain": [
              "0    34974\n",
              "1      537\n",
              "Name: did-bcd=0, dtype: int64"
            ]
          },
          "metadata": {
            "tags": []
          },
          "execution_count": 801
        }
      ]
    },
    {
      "cell_type": "markdown",
      "metadata": {
        "id": "PPVd61GV2moW"
      },
      "source": [
        "12 Generating repeatCust and Cust_Mean_Delay column.\n",
        "\n",
        "> 1.   repeatCust- How many times a single customer has generated the invoice.\n",
        "2.   Cust_Mean_Delay column- And what is his mean delay.\n",
        "\n",
        "\n",
        "\n",
        "\n"
      ]
    },
    {
      "cell_type": "code",
      "metadata": {
        "id": "orrQmCWW2tfw"
      },
      "source": [
        "#Generating repeatCust \n",
        "\n",
        "df1 = train[train['delay']>0].copy()\n",
        "df2 = pd.DataFrame(df1.groupby(['cust_number'], axis=0, as_index=False)['delay'].count())\n",
        "df2.columns = (['cust_number','repeatCust'])\n",
        "df3 = pd.merge(train, df2, how='left', on='cust_number')\n",
        "df3['repeatCust'].fillna(0, inplace=True)\n",
        "train = df3"
      ],
      "execution_count": null,
      "outputs": []
    },
    {
      "cell_type": "code",
      "metadata": {
        "colab": {
          "base_uri": "https://localhost:8080/"
        },
        "id": "C4OFOTg3YaJ0",
        "outputId": "413fbd62-f3f1-41e5-ee44-b17f22666a5d"
      },
      "source": [
        "df2"
      ],
      "execution_count": null,
      "outputs": [
        {
          "output_type": "execute_result",
          "data": {
            "text/html": [
              "<div>\n",
              "<style scoped>\n",
              "    .dataframe tbody tr th:only-of-type {\n",
              "        vertical-align: middle;\n",
              "    }\n",
              "\n",
              "    .dataframe tbody tr th {\n",
              "        vertical-align: top;\n",
              "    }\n",
              "\n",
              "    .dataframe thead th {\n",
              "        text-align: right;\n",
              "    }\n",
              "</style>\n",
              "<table border=\"1\" class=\"dataframe\">\n",
              "  <thead>\n",
              "    <tr style=\"text-align: right;\">\n",
              "      <th></th>\n",
              "      <th>cust_number</th>\n",
              "      <th>repeatCust</th>\n",
              "    </tr>\n",
              "  </thead>\n",
              "  <tbody>\n",
              "    <tr>\n",
              "      <th>0</th>\n",
              "      <td>0100000051</td>\n",
              "      <td>1</td>\n",
              "    </tr>\n",
              "    <tr>\n",
              "      <th>1</th>\n",
              "      <td>0100000158</td>\n",
              "      <td>4</td>\n",
              "    </tr>\n",
              "    <tr>\n",
              "      <th>2</th>\n",
              "      <td>0100000161</td>\n",
              "      <td>3</td>\n",
              "    </tr>\n",
              "    <tr>\n",
              "      <th>3</th>\n",
              "      <td>0100000222</td>\n",
              "      <td>5</td>\n",
              "    </tr>\n",
              "    <tr>\n",
              "      <th>4</th>\n",
              "      <td>0100000272</td>\n",
              "      <td>1</td>\n",
              "    </tr>\n",
              "    <tr>\n",
              "      <th>...</th>\n",
              "      <td>...</td>\n",
              "      <td>...</td>\n",
              "    </tr>\n",
              "    <tr>\n",
              "      <th>914</th>\n",
              "      <td>CC7455</td>\n",
              "      <td>11</td>\n",
              "    </tr>\n",
              "    <tr>\n",
              "      <th>915</th>\n",
              "      <td>CCCA02</td>\n",
              "      <td>327</td>\n",
              "    </tr>\n",
              "    <tr>\n",
              "      <th>916</th>\n",
              "      <td>CCU001</td>\n",
              "      <td>39</td>\n",
              "    </tr>\n",
              "    <tr>\n",
              "      <th>917</th>\n",
              "      <td>CCU002</td>\n",
              "      <td>98</td>\n",
              "    </tr>\n",
              "    <tr>\n",
              "      <th>918</th>\n",
              "      <td>CCU013</td>\n",
              "      <td>487</td>\n",
              "    </tr>\n",
              "  </tbody>\n",
              "</table>\n",
              "<p>919 rows × 2 columns</p>\n",
              "</div>"
            ],
            "text/plain": [
              "    cust_number  repeatCust\n",
              "0    0100000051           1\n",
              "1    0100000158           4\n",
              "2    0100000161           3\n",
              "3    0100000222           5\n",
              "4    0100000272           1\n",
              "..          ...         ...\n",
              "914      CC7455          11\n",
              "915      CCCA02         327\n",
              "916      CCU001          39\n",
              "917      CCU002          98\n",
              "918      CCU013         487\n",
              "\n",
              "[919 rows x 2 columns]"
            ]
          },
          "metadata": {
            "tags": []
          },
          "execution_count": 803
        }
      ]
    },
    {
      "cell_type": "code",
      "metadata": {
        "colab": {
          "base_uri": "https://localhost:8080/"
        },
        "id": "z-olwmNj20wn",
        "outputId": "0605fd8f-1af6-45cc-892f-611fa554c45d"
      },
      "source": [
        "#Average delay\n",
        "\n",
        "map_cust = train.groupby('name_customer')['delay'].mean().to_dict()\n",
        "train['Cust_Mean_Delay']=train['name_customer'].map(map_cust)\n",
        "train.head()"
      ],
      "execution_count": null,
      "outputs": [
        {
          "output_type": "execute_result",
          "data": {
            "text/html": [
              "<div>\n",
              "<style scoped>\n",
              "    .dataframe tbody tr th:only-of-type {\n",
              "        vertical-align: middle;\n",
              "    }\n",
              "\n",
              "    .dataframe tbody tr th {\n",
              "        vertical-align: top;\n",
              "    }\n",
              "\n",
              "    .dataframe thead th {\n",
              "        text-align: right;\n",
              "    }\n",
              "</style>\n",
              "<table border=\"1\" class=\"dataframe\">\n",
              "  <thead>\n",
              "    <tr style=\"text-align: right;\">\n",
              "      <th></th>\n",
              "      <th>business_code</th>\n",
              "      <th>cust_number</th>\n",
              "      <th>name_customer</th>\n",
              "      <th>clear_date</th>\n",
              "      <th>buisness_year</th>\n",
              "      <th>doc_id</th>\n",
              "      <th>document_create_date</th>\n",
              "      <th>document_create_date.1</th>\n",
              "      <th>due_in_date</th>\n",
              "      <th>invoice_currency</th>\n",
              "      <th>total_open_amount</th>\n",
              "      <th>baseline_create_date</th>\n",
              "      <th>cust_payment_terms</th>\n",
              "      <th>delay</th>\n",
              "      <th>Late</th>\n",
              "      <th>dcd-dcd.1</th>\n",
              "      <th>did-dcd.1</th>\n",
              "      <th>did-bcd</th>\n",
              "      <th>(CA02,)</th>\n",
              "      <th>(U001,)</th>\n",
              "      <th>(UUUU,)</th>\n",
              "      <th>(CAD,)</th>\n",
              "      <th>(USD,)</th>\n",
              "      <th>amount_g&amp;e_to_150000</th>\n",
              "      <th>(CA10,)</th>\n",
              "      <th>(NA32,)</th>\n",
              "      <th>(NAA8,)</th>\n",
              "      <th>(NAAX,)</th>\n",
              "      <th>(NAC6,)</th>\n",
              "      <th>(NAD1,)</th>\n",
              "      <th>(NAG2,)</th>\n",
              "      <th>(NAGD,)</th>\n",
              "      <th>(NAH4,)</th>\n",
              "      <th>(NAM4,)</th>\n",
              "      <th>(NAU5,)</th>\n",
              "      <th>(NAX2,)</th>\n",
              "      <th>(NNNN,)</th>\n",
              "      <th>dcd_month=+12</th>\n",
              "      <th>dcd_month=11&amp;12</th>\n",
              "      <th>dcd_month=1</th>\n",
              "      <th>...</th>\n",
              "      <th>dcd_day</th>\n",
              "      <th>dcd_day=0</th>\n",
              "      <th>dcd_day=5&amp;6</th>\n",
              "      <th>dcd_weekofmonth=3</th>\n",
              "      <th>dcd_weekofmonth=1</th>\n",
              "      <th>dcd_date=3or17</th>\n",
              "      <th>dcd_date=21</th>\n",
              "      <th>dcd.1_month=+11</th>\n",
              "      <th>dcd.1_month=-5</th>\n",
              "      <th>dcd.1_month=11or12</th>\n",
              "      <th>dcd.1_month=1or6</th>\n",
              "      <th>dcd.1_dayofweek=2or4</th>\n",
              "      <th>dcd.1_day=20,21,27,30</th>\n",
              "      <th>dcd.1_day=2,3,9,14</th>\n",
              "      <th>did_month=-12</th>\n",
              "      <th>did_month=11</th>\n",
              "      <th>did_month=12</th>\n",
              "      <th>did_quarter=1</th>\n",
              "      <th>did_quarter=4</th>\n",
              "      <th>din_dayofweek=+4</th>\n",
              "      <th>did_dayofweek=-1,-3,-4</th>\n",
              "      <th>did_day=2</th>\n",
              "      <th>did_day=4&amp;5</th>\n",
              "      <th>did_week_of_month=4or5</th>\n",
              "      <th>did_week_of_month=1</th>\n",
              "      <th>did_day=6,12,17</th>\n",
              "      <th>did_day=8,9,31</th>\n",
              "      <th>did_day=24</th>\n",
              "      <th>bcd_month=11&amp;12</th>\n",
              "      <th>bcd_month=1&amp;6</th>\n",
              "      <th>bcd_weekofmonth=2</th>\n",
              "      <th>bcd_weekofmonth=3&amp;5</th>\n",
              "      <th>bcd_day=1or16</th>\n",
              "      <th>bcd_day=2,3,6,7,9</th>\n",
              "      <th>dcd-dcd.1=10,12,18</th>\n",
              "      <th>dcd-dcd.1=-11,-8to-5,-3to6,8,9</th>\n",
              "      <th>did-dcd.1=0</th>\n",
              "      <th>did-bcd=0</th>\n",
              "      <th>repeatCust</th>\n",
              "      <th>Cust_Mean_Delay</th>\n",
              "    </tr>\n",
              "  </thead>\n",
              "  <tbody>\n",
              "    <tr>\n",
              "      <th>0</th>\n",
              "      <td>U001</td>\n",
              "      <td>0200752302</td>\n",
              "      <td>KROGER associates</td>\n",
              "      <td>2019-01-14</td>\n",
              "      <td>2019</td>\n",
              "      <td>1.928531e+09</td>\n",
              "      <td>2018-12-31</td>\n",
              "      <td>2018-12-30</td>\n",
              "      <td>2019-01-14</td>\n",
              "      <td>USD</td>\n",
              "      <td>19717.15</td>\n",
              "      <td>2018-12-30</td>\n",
              "      <td>NAA8</td>\n",
              "      <td>0</td>\n",
              "      <td>0</td>\n",
              "      <td>1</td>\n",
              "      <td>15</td>\n",
              "      <td>15</td>\n",
              "      <td>0.0</td>\n",
              "      <td>1.0</td>\n",
              "      <td>0.0</td>\n",
              "      <td>0.0</td>\n",
              "      <td>1.0</td>\n",
              "      <td>0</td>\n",
              "      <td>0.0</td>\n",
              "      <td>0.0</td>\n",
              "      <td>1.0</td>\n",
              "      <td>0.0</td>\n",
              "      <td>0.0</td>\n",
              "      <td>0.0</td>\n",
              "      <td>0.0</td>\n",
              "      <td>0.0</td>\n",
              "      <td>0.0</td>\n",
              "      <td>0.0</td>\n",
              "      <td>0.0</td>\n",
              "      <td>0.0</td>\n",
              "      <td>0.0</td>\n",
              "      <td>1</td>\n",
              "      <td>1</td>\n",
              "      <td>0</td>\n",
              "      <td>...</td>\n",
              "      <td>0</td>\n",
              "      <td>0</td>\n",
              "      <td>0</td>\n",
              "      <td>0</td>\n",
              "      <td>0</td>\n",
              "      <td>0</td>\n",
              "      <td>0</td>\n",
              "      <td>0</td>\n",
              "      <td>0</td>\n",
              "      <td>1</td>\n",
              "      <td>0</td>\n",
              "      <td>0</td>\n",
              "      <td>1</td>\n",
              "      <td>0</td>\n",
              "      <td>0</td>\n",
              "      <td>0</td>\n",
              "      <td>0</td>\n",
              "      <td>1</td>\n",
              "      <td>0</td>\n",
              "      <td>0</td>\n",
              "      <td>0</td>\n",
              "      <td>0</td>\n",
              "      <td>0</td>\n",
              "      <td>0</td>\n",
              "      <td>0</td>\n",
              "      <td>0</td>\n",
              "      <td>0</td>\n",
              "      <td>0</td>\n",
              "      <td>1</td>\n",
              "      <td>0</td>\n",
              "      <td>0</td>\n",
              "      <td>1</td>\n",
              "      <td>0</td>\n",
              "      <td>0</td>\n",
              "      <td>0</td>\n",
              "      <td>1</td>\n",
              "      <td>0</td>\n",
              "      <td>0</td>\n",
              "      <td>34.0</td>\n",
              "      <td>0.449275</td>\n",
              "    </tr>\n",
              "    <tr>\n",
              "      <th>1</th>\n",
              "      <td>U001</td>\n",
              "      <td>0200769623</td>\n",
              "      <td>WAL-MAR corp</td>\n",
              "      <td>2019-01-10</td>\n",
              "      <td>2019</td>\n",
              "      <td>1.928534e+09</td>\n",
              "      <td>2018-12-29</td>\n",
              "      <td>2018-12-30</td>\n",
              "      <td>2019-01-14</td>\n",
              "      <td>USD</td>\n",
              "      <td>1448.77</td>\n",
              "      <td>2018-12-30</td>\n",
              "      <td>NAH4</td>\n",
              "      <td>-4</td>\n",
              "      <td>0</td>\n",
              "      <td>-1</td>\n",
              "      <td>15</td>\n",
              "      <td>15</td>\n",
              "      <td>0.0</td>\n",
              "      <td>1.0</td>\n",
              "      <td>0.0</td>\n",
              "      <td>0.0</td>\n",
              "      <td>1.0</td>\n",
              "      <td>0</td>\n",
              "      <td>0.0</td>\n",
              "      <td>0.0</td>\n",
              "      <td>0.0</td>\n",
              "      <td>0.0</td>\n",
              "      <td>0.0</td>\n",
              "      <td>0.0</td>\n",
              "      <td>0.0</td>\n",
              "      <td>0.0</td>\n",
              "      <td>1.0</td>\n",
              "      <td>0.0</td>\n",
              "      <td>0.0</td>\n",
              "      <td>0.0</td>\n",
              "      <td>0.0</td>\n",
              "      <td>1</td>\n",
              "      <td>1</td>\n",
              "      <td>0</td>\n",
              "      <td>...</td>\n",
              "      <td>5</td>\n",
              "      <td>0</td>\n",
              "      <td>0</td>\n",
              "      <td>0</td>\n",
              "      <td>0</td>\n",
              "      <td>0</td>\n",
              "      <td>0</td>\n",
              "      <td>0</td>\n",
              "      <td>0</td>\n",
              "      <td>1</td>\n",
              "      <td>0</td>\n",
              "      <td>0</td>\n",
              "      <td>1</td>\n",
              "      <td>0</td>\n",
              "      <td>0</td>\n",
              "      <td>0</td>\n",
              "      <td>0</td>\n",
              "      <td>1</td>\n",
              "      <td>0</td>\n",
              "      <td>0</td>\n",
              "      <td>0</td>\n",
              "      <td>0</td>\n",
              "      <td>0</td>\n",
              "      <td>0</td>\n",
              "      <td>0</td>\n",
              "      <td>0</td>\n",
              "      <td>0</td>\n",
              "      <td>0</td>\n",
              "      <td>1</td>\n",
              "      <td>0</td>\n",
              "      <td>0</td>\n",
              "      <td>1</td>\n",
              "      <td>0</td>\n",
              "      <td>0</td>\n",
              "      <td>0</td>\n",
              "      <td>1</td>\n",
              "      <td>0</td>\n",
              "      <td>0</td>\n",
              "      <td>1537.0</td>\n",
              "      <td>-2.040712</td>\n",
              "    </tr>\n",
              "    <tr>\n",
              "      <th>2</th>\n",
              "      <td>U001</td>\n",
              "      <td>0200769623</td>\n",
              "      <td>WAL-MAR foundation</td>\n",
              "      <td>2019-01-09</td>\n",
              "      <td>2019</td>\n",
              "      <td>1.928541e+09</td>\n",
              "      <td>2018-12-29</td>\n",
              "      <td>2018-12-30</td>\n",
              "      <td>2019-01-14</td>\n",
              "      <td>USD</td>\n",
              "      <td>8286.44</td>\n",
              "      <td>2018-12-30</td>\n",
              "      <td>NAH4</td>\n",
              "      <td>-5</td>\n",
              "      <td>0</td>\n",
              "      <td>-1</td>\n",
              "      <td>15</td>\n",
              "      <td>15</td>\n",
              "      <td>0.0</td>\n",
              "      <td>1.0</td>\n",
              "      <td>0.0</td>\n",
              "      <td>0.0</td>\n",
              "      <td>1.0</td>\n",
              "      <td>0</td>\n",
              "      <td>0.0</td>\n",
              "      <td>0.0</td>\n",
              "      <td>0.0</td>\n",
              "      <td>0.0</td>\n",
              "      <td>0.0</td>\n",
              "      <td>0.0</td>\n",
              "      <td>0.0</td>\n",
              "      <td>0.0</td>\n",
              "      <td>1.0</td>\n",
              "      <td>0.0</td>\n",
              "      <td>0.0</td>\n",
              "      <td>0.0</td>\n",
              "      <td>0.0</td>\n",
              "      <td>1</td>\n",
              "      <td>1</td>\n",
              "      <td>0</td>\n",
              "      <td>...</td>\n",
              "      <td>5</td>\n",
              "      <td>0</td>\n",
              "      <td>0</td>\n",
              "      <td>0</td>\n",
              "      <td>0</td>\n",
              "      <td>0</td>\n",
              "      <td>0</td>\n",
              "      <td>0</td>\n",
              "      <td>0</td>\n",
              "      <td>1</td>\n",
              "      <td>0</td>\n",
              "      <td>0</td>\n",
              "      <td>1</td>\n",
              "      <td>0</td>\n",
              "      <td>0</td>\n",
              "      <td>0</td>\n",
              "      <td>0</td>\n",
              "      <td>1</td>\n",
              "      <td>0</td>\n",
              "      <td>0</td>\n",
              "      <td>0</td>\n",
              "      <td>0</td>\n",
              "      <td>0</td>\n",
              "      <td>0</td>\n",
              "      <td>0</td>\n",
              "      <td>0</td>\n",
              "      <td>0</td>\n",
              "      <td>0</td>\n",
              "      <td>1</td>\n",
              "      <td>0</td>\n",
              "      <td>0</td>\n",
              "      <td>1</td>\n",
              "      <td>0</td>\n",
              "      <td>0</td>\n",
              "      <td>0</td>\n",
              "      <td>1</td>\n",
              "      <td>0</td>\n",
              "      <td>0</td>\n",
              "      <td>1537.0</td>\n",
              "      <td>-2.175727</td>\n",
              "    </tr>\n",
              "    <tr>\n",
              "      <th>3</th>\n",
              "      <td>U001</td>\n",
              "      <td>0200769623</td>\n",
              "      <td>WAL-MAR co</td>\n",
              "      <td>2019-01-09</td>\n",
              "      <td>2019</td>\n",
              "      <td>1.928538e+09</td>\n",
              "      <td>2018-12-29</td>\n",
              "      <td>2018-12-30</td>\n",
              "      <td>2019-01-14</td>\n",
              "      <td>USD</td>\n",
              "      <td>78.95</td>\n",
              "      <td>2018-12-30</td>\n",
              "      <td>NAH4</td>\n",
              "      <td>-5</td>\n",
              "      <td>0</td>\n",
              "      <td>-1</td>\n",
              "      <td>15</td>\n",
              "      <td>15</td>\n",
              "      <td>0.0</td>\n",
              "      <td>1.0</td>\n",
              "      <td>0.0</td>\n",
              "      <td>0.0</td>\n",
              "      <td>1.0</td>\n",
              "      <td>0</td>\n",
              "      <td>0.0</td>\n",
              "      <td>0.0</td>\n",
              "      <td>0.0</td>\n",
              "      <td>0.0</td>\n",
              "      <td>0.0</td>\n",
              "      <td>0.0</td>\n",
              "      <td>0.0</td>\n",
              "      <td>0.0</td>\n",
              "      <td>1.0</td>\n",
              "      <td>0.0</td>\n",
              "      <td>0.0</td>\n",
              "      <td>0.0</td>\n",
              "      <td>0.0</td>\n",
              "      <td>1</td>\n",
              "      <td>1</td>\n",
              "      <td>0</td>\n",
              "      <td>...</td>\n",
              "      <td>5</td>\n",
              "      <td>0</td>\n",
              "      <td>0</td>\n",
              "      <td>0</td>\n",
              "      <td>0</td>\n",
              "      <td>0</td>\n",
              "      <td>0</td>\n",
              "      <td>0</td>\n",
              "      <td>0</td>\n",
              "      <td>1</td>\n",
              "      <td>0</td>\n",
              "      <td>0</td>\n",
              "      <td>1</td>\n",
              "      <td>0</td>\n",
              "      <td>0</td>\n",
              "      <td>0</td>\n",
              "      <td>0</td>\n",
              "      <td>1</td>\n",
              "      <td>0</td>\n",
              "      <td>0</td>\n",
              "      <td>0</td>\n",
              "      <td>0</td>\n",
              "      <td>0</td>\n",
              "      <td>0</td>\n",
              "      <td>0</td>\n",
              "      <td>0</td>\n",
              "      <td>0</td>\n",
              "      <td>0</td>\n",
              "      <td>1</td>\n",
              "      <td>0</td>\n",
              "      <td>0</td>\n",
              "      <td>1</td>\n",
              "      <td>0</td>\n",
              "      <td>0</td>\n",
              "      <td>0</td>\n",
              "      <td>1</td>\n",
              "      <td>0</td>\n",
              "      <td>0</td>\n",
              "      <td>1537.0</td>\n",
              "      <td>-2.043956</td>\n",
              "    </tr>\n",
              "    <tr>\n",
              "      <th>4</th>\n",
              "      <td>U001</td>\n",
              "      <td>0200769623</td>\n",
              "      <td>WAL-MAR corporation</td>\n",
              "      <td>2019-01-11</td>\n",
              "      <td>2019</td>\n",
              "      <td>1.928540e+09</td>\n",
              "      <td>2018-12-29</td>\n",
              "      <td>2018-12-30</td>\n",
              "      <td>2019-01-14</td>\n",
              "      <td>USD</td>\n",
              "      <td>22480.50</td>\n",
              "      <td>2018-12-30</td>\n",
              "      <td>NAH4</td>\n",
              "      <td>-3</td>\n",
              "      <td>0</td>\n",
              "      <td>-1</td>\n",
              "      <td>15</td>\n",
              "      <td>15</td>\n",
              "      <td>0.0</td>\n",
              "      <td>1.0</td>\n",
              "      <td>0.0</td>\n",
              "      <td>0.0</td>\n",
              "      <td>1.0</td>\n",
              "      <td>0</td>\n",
              "      <td>0.0</td>\n",
              "      <td>0.0</td>\n",
              "      <td>0.0</td>\n",
              "      <td>0.0</td>\n",
              "      <td>0.0</td>\n",
              "      <td>0.0</td>\n",
              "      <td>0.0</td>\n",
              "      <td>0.0</td>\n",
              "      <td>1.0</td>\n",
              "      <td>0.0</td>\n",
              "      <td>0.0</td>\n",
              "      <td>0.0</td>\n",
              "      <td>0.0</td>\n",
              "      <td>1</td>\n",
              "      <td>1</td>\n",
              "      <td>0</td>\n",
              "      <td>...</td>\n",
              "      <td>5</td>\n",
              "      <td>0</td>\n",
              "      <td>0</td>\n",
              "      <td>0</td>\n",
              "      <td>0</td>\n",
              "      <td>0</td>\n",
              "      <td>0</td>\n",
              "      <td>0</td>\n",
              "      <td>0</td>\n",
              "      <td>1</td>\n",
              "      <td>0</td>\n",
              "      <td>0</td>\n",
              "      <td>1</td>\n",
              "      <td>0</td>\n",
              "      <td>0</td>\n",
              "      <td>0</td>\n",
              "      <td>0</td>\n",
              "      <td>1</td>\n",
              "      <td>0</td>\n",
              "      <td>0</td>\n",
              "      <td>0</td>\n",
              "      <td>0</td>\n",
              "      <td>0</td>\n",
              "      <td>0</td>\n",
              "      <td>0</td>\n",
              "      <td>0</td>\n",
              "      <td>0</td>\n",
              "      <td>0</td>\n",
              "      <td>1</td>\n",
              "      <td>0</td>\n",
              "      <td>0</td>\n",
              "      <td>1</td>\n",
              "      <td>0</td>\n",
              "      <td>0</td>\n",
              "      <td>0</td>\n",
              "      <td>1</td>\n",
              "      <td>0</td>\n",
              "      <td>0</td>\n",
              "      <td>1537.0</td>\n",
              "      <td>-2.098250</td>\n",
              "    </tr>\n",
              "  </tbody>\n",
              "</table>\n",
              "<p>5 rows × 84 columns</p>\n",
              "</div>"
            ],
            "text/plain": [
              "  business_code cust_number  ... repeatCust Cust_Mean_Delay\n",
              "0          U001  0200752302  ...       34.0        0.449275\n",
              "1          U001  0200769623  ...     1537.0       -2.040712\n",
              "2          U001  0200769623  ...     1537.0       -2.175727\n",
              "3          U001  0200769623  ...     1537.0       -2.043956\n",
              "4          U001  0200769623  ...     1537.0       -2.098250\n",
              "\n",
              "[5 rows x 84 columns]"
            ]
          },
          "metadata": {
            "tags": []
          },
          "execution_count": 804
        }
      ]
    },
    {
      "cell_type": "code",
      "metadata": {
        "id": "b0rg9idy92_U"
      },
      "source": [
        "train = train.fillna(0)"
      ],
      "execution_count": null,
      "outputs": []
    },
    {
      "cell_type": "markdown",
      "metadata": {
        "id": "MY0pASAsDlqK"
      },
      "source": [
        "#**Step 6- Scaling and Fearture Selection** "
      ]
    },
    {
      "cell_type": "code",
      "metadata": {
        "colab": {
          "base_uri": "https://localhost:8080/"
        },
        "id": "DB9kZht6yPkC",
        "outputId": "b1fc9a35-d4f5-4b87-ad49-f261e2f06292"
      },
      "source": [
        "To_drop = ['business_code','cust_number','Late','name_customer','clear_date','buisness_year','doc_id','doc_id','document_create_date','document_create_date.1','due_in_date','invoice_currency','baseline_create_date','cust_payment_terms']\n",
        "train = train.drop(To_drop,1)\n",
        "train.shape"
      ],
      "execution_count": null,
      "outputs": [
        {
          "output_type": "execute_result",
          "data": {
            "text/plain": [
              "(35511, 71)"
            ]
          },
          "metadata": {
            "tags": []
          },
          "execution_count": 806
        }
      ]
    },
    {
      "cell_type": "code",
      "metadata": {
        "colab": {
          "base_uri": "https://localhost:8080/"
        },
        "id": "LeikAHkbyZMU",
        "outputId": "c97073d7-6b12-4c29-8c22-19a0fd7cc90c"
      },
      "source": [
        "from sklearn.feature_selection import VarianceThreshold\n",
        "qconstant_filter = VarianceThreshold(threshold=0.01)\n",
        "qconstant_filter.fit(train)\n",
        "qconstant_columns = [column for column in train.columns\n",
        "                    if column not in train.columns[qconstant_filter.get_support()]]\n",
        "print(len(qconstant_columns))\n",
        "for column in qconstant_columns:\n",
        "    print(column)"
      ],
      "execution_count": null,
      "outputs": [
        {
          "output_type": "stream",
          "text": [
            "3\n",
            "dcd_month=+12\n",
            "did_month=-12\n",
            "did_month=12\n"
          ],
          "name": "stdout"
        }
      ]
    },
    {
      "cell_type": "code",
      "metadata": {
        "colab": {
          "base_uri": "https://localhost:8080/"
        },
        "id": "ri2f-m7Uyct_",
        "outputId": "7fafff84-ec48-403f-80c5-d18c71a61de2"
      },
      "source": [
        "train = train.drop(qconstant_columns,1)\n",
        "train.shape"
      ],
      "execution_count": null,
      "outputs": [
        {
          "output_type": "execute_result",
          "data": {
            "text/plain": [
              "(35511, 68)"
            ]
          },
          "metadata": {
            "tags": []
          },
          "execution_count": 808
        }
      ]
    },
    {
      "cell_type": "code",
      "metadata": {
        "id": "qxTRoWQrydfH"
      },
      "source": [
        "Y_train = train['delay']\n",
        "X_train = train.drop('delay',1)"
      ],
      "execution_count": null,
      "outputs": []
    },
    {
      "cell_type": "code",
      "metadata": {
        "id": "RuJxP1YPm5Lh"
      },
      "source": [
        "max1 = X_train['total_open_amount'].max()\n",
        "min1 = X_train['total_open_amount'].min()\n",
        "max2 = X_train['repeatCust'].max()\n",
        "min2 = X_train['repeatCust'].min()\n",
        "max3 = X_train['did-dcd.1'].max()\n",
        "min3 = X_train['did-dcd.1'].min()\n",
        "max4 = X_train['did-bcd'].max()\n",
        "min4 = X_train['did-bcd'].min()"
      ],
      "execution_count": null,
      "outputs": []
    },
    {
      "cell_type": "code",
      "metadata": {
        "id": "jYYvdsHFDtBj"
      },
      "source": [
        "X_train['total_open_amount_std'] = X_train['total_open_amount'].apply(lambda x: (x-min1)/(max1-min1))"
      ],
      "execution_count": null,
      "outputs": []
    },
    {
      "cell_type": "code",
      "metadata": {
        "id": "dPObh2ouEvx6"
      },
      "source": [
        "X_train['repeatCust_std'] = X_train['repeatCust'].apply(lambda x: (x-min2)/(max2-min2))"
      ],
      "execution_count": null,
      "outputs": []
    },
    {
      "cell_type": "code",
      "metadata": {
        "id": "swY0B9dJhDE-"
      },
      "source": [
        "X_train['did-dcd.1_std'] = X_train['did-dcd.1'].apply(lambda x: (x-min3)/(max3-min3))"
      ],
      "execution_count": null,
      "outputs": []
    },
    {
      "cell_type": "code",
      "metadata": {
        "id": "_unZ2EGgz2Yu"
      },
      "source": [
        "X_train['did-bcd_std'] = X_train['did-bcd'].apply(lambda x: (x-min4)/(max4-min4))"
      ],
      "execution_count": null,
      "outputs": []
    },
    {
      "cell_type": "code",
      "metadata": {
        "id": "BFo5Ln-nM3A8"
      },
      "source": [
        "X_train = X_train.drop(['total_open_amount','repeatCust','did-dcd.1','did-bcd'],1)"
      ],
      "execution_count": null,
      "outputs": []
    },
    {
      "cell_type": "code",
      "metadata": {
        "colab": {
          "base_uri": "https://localhost:8080/"
        },
        "id": "CG0w6uXFyu-C",
        "outputId": "65aa4254-e3f7-4f49-d81f-db6ada631a9c"
      },
      "source": [
        "from mlxtend.feature_selection import SequentialFeatureSelector as SFS\n",
        "from sklearn.linear_model import LinearRegression\n",
        "sfs = SFS(LinearRegression(),\n",
        "          k_features=15,\n",
        "          forward=True,\n",
        "          floating=False,\n",
        "          scoring = 'r2',\n",
        "          cv = 0)\n",
        "sfs.fit(X_train, Y_train)"
      ],
      "execution_count": null,
      "outputs": [
        {
          "output_type": "execute_result",
          "data": {
            "text/plain": [
              "SequentialFeatureSelector(clone_estimator=True, cv=0,\n",
              "                          estimator=LinearRegression(copy_X=True,\n",
              "                                                     fit_intercept=True,\n",
              "                                                     n_jobs=None,\n",
              "                                                     normalize=False),\n",
              "                          floating=False, forward=True, k_features=15, n_jobs=1,\n",
              "                          pre_dispatch='2*n_jobs', scoring='r2', verbose=0)"
            ]
          },
          "metadata": {
            "tags": []
          },
          "execution_count": 816
        }
      ]
    },
    {
      "cell_type": "code",
      "metadata": {
        "id": "L10VxEq_0LDJ"
      },
      "source": [
        "del list"
      ],
      "execution_count": null,
      "outputs": []
    },
    {
      "cell_type": "code",
      "metadata": {
        "colab": {
          "base_uri": "https://localhost:8080/"
        },
        "id": "R2_GM0ePyyjB",
        "outputId": "0356ed18-25a0-4f43-efc7-03efd534b1ff"
      },
      "source": [
        "features = list(sfs.k_feature_names_)\n",
        "features"
      ],
      "execution_count": null,
      "outputs": [
        {
          "output_type": "execute_result",
          "data": {
            "text/plain": [
              "['dcd-dcd.1',\n",
              " 'din_dayofweek=+4',\n",
              " 'did_day=4&5',\n",
              " 'did_week_of_month=4or5',\n",
              " 'did_day=24',\n",
              " 'bcd_month=1&6',\n",
              " 'bcd_weekofmonth=2',\n",
              " 'bcd_day=2,3,6,7,9',\n",
              " 'did-dcd.1=0',\n",
              " 'did-bcd=0',\n",
              " 'Cust_Mean_Delay',\n",
              " 'total_open_amount_std',\n",
              " 'repeatCust_std',\n",
              " 'did-dcd.1_std',\n",
              " 'did-bcd_std']"
            ]
          },
          "metadata": {
            "tags": []
          },
          "execution_count": 818
        }
      ]
    },
    {
      "cell_type": "code",
      "metadata": {
        "id": "89_yFpwt0cK2"
      },
      "source": [
        "X_train = X_train[['dcd-dcd.1',\n",
        " 'din_dayofweek=+4',\n",
        " 'did_day=4&5',\n",
        " 'did_week_of_month=4or5',\n",
        " 'did_day=24',\n",
        " 'bcd_month=1&6',\n",
        " 'bcd_weekofmonth=2',\n",
        " 'bcd_day=2,3,6,7,9',\n",
        " 'did-dcd.1=0',\n",
        " 'did-bcd=0',\n",
        " 'Cust_Mean_Delay',\n",
        " 'total_open_amount_std',\n",
        " 'repeatCust_std',\n",
        " 'did-dcd.1_std',\n",
        " 'did-bcd_std']\n",
        "]\n",
        "Y_train = train['delay']"
      ],
      "execution_count": null,
      "outputs": []
    },
    {
      "cell_type": "code",
      "metadata": {
        "id": "vrDHCdi2rDmz"
      },
      "source": [
        "mean = np.mean(Y_train)"
      ],
      "execution_count": null,
      "outputs": []
    },
    {
      "cell_type": "code",
      "metadata": {
        "id": "Vr39UgZIrNvM"
      },
      "source": [
        "std = np.std(Y_train)"
      ],
      "execution_count": null,
      "outputs": []
    },
    {
      "cell_type": "code",
      "metadata": {
        "id": "q8fegPeoQ9vF"
      },
      "source": [
        "Y_train = Y_train.apply(lambda x: (x - mean)/std)"
      ],
      "execution_count": null,
      "outputs": []
    },
    {
      "cell_type": "markdown",
      "metadata": {
        "id": "VYW1fWCtDJlV"
      },
      "source": [
        "#**Model Selection** "
      ]
    },
    {
      "cell_type": "code",
      "metadata": {
        "id": "R2KPtV7S9FIV"
      },
      "source": [
        "from sklearn.model_selection import cross_val_score\n",
        "from sklearn.model_selection import RandomizedSearchCV\n",
        "from sklearn.metrics import mean_squared_error\n",
        "\n",
        "from sklearn.linear_model import LinearRegression\n",
        "from sklearn.tree import DecisionTreeRegressor\n",
        "from sklearn.neighbors import KNeighborsRegressor\n",
        "from sklearn.svm import SVR\n",
        "from sklearn.ensemble import RandomForestRegressor\n",
        "import xgboost as xgb"
      ],
      "execution_count": null,
      "outputs": []
    },
    {
      "cell_type": "code",
      "metadata": {
        "colab": {
          "base_uri": "https://localhost:8080/"
        },
        "id": "wutqSOD99FEt",
        "outputId": "b63a7580-7587-4ab9-cecf-1f5c2403c25c"
      },
      "source": [
        "models = []\n",
        "models.append(('Lin', LinearRegression()))\n",
        "models.append(('KNN', KNeighborsRegressor()))\n",
        "models.append(('RFR', RandomForestRegressor()))\n",
        "models.append(('SVM', SVR(gamma='auto')))\n",
        "\n",
        "mse_results = []\n",
        "names = []\n",
        "for name, model in models:\n",
        "    cv_results = cross_val_score(model, X_train, Y_train, cv=12, scoring='neg_mean_squared_error', n_jobs=-1)\n",
        "    mse_results.append(name)\n",
        "    print('%s: Kfold mean:%f Kfold std:(%f)' % (name, cv_results.mean(), cv_results.std()))"
      ],
      "execution_count": null,
      "outputs": [
        {
          "output_type": "stream",
          "text": [
            "Lin: Kfold mean:-0.433251 Kfold std:(0.133531)\n",
            "KNN: Kfold mean:-0.500389 Kfold std:(0.134078)\n",
            "RFR: Kfold mean:-0.435485 Kfold std:(0.141371)\n",
            "SVM: Kfold mean:-0.444445 Kfold std:(0.139082)\n"
          ],
          "name": "stdout"
        }
      ]
    },
    {
      "cell_type": "markdown",
      "metadata": {
        "id": "0A5-noVeS3vC"
      },
      "source": [
        "Training Model"
      ]
    },
    {
      "cell_type": "code",
      "metadata": {
        "colab": {
          "base_uri": "https://localhost:8080/"
        },
        "id": "uFU7o8F8TGnZ",
        "outputId": "0b3c6654-14f1-49a5-82f1-255129a049df"
      },
      "source": [
        "random_model = RandomForestRegressor(n_estimators=1000)\n",
        "random_model.fit(X_train, Y_train)"
      ],
      "execution_count": null,
      "outputs": [
        {
          "output_type": "execute_result",
          "data": {
            "text/plain": [
              "RandomForestRegressor(bootstrap=True, ccp_alpha=0.0, criterion='mse',\n",
              "                      max_depth=None, max_features='auto', max_leaf_nodes=None,\n",
              "                      max_samples=None, min_impurity_decrease=0.0,\n",
              "                      min_impurity_split=None, min_samples_leaf=1,\n",
              "                      min_samples_split=2, min_weight_fraction_leaf=0.0,\n",
              "                      n_estimators=1000, n_jobs=None, oob_score=False,\n",
              "                      random_state=None, verbose=0, warm_start=False)"
            ]
          },
          "metadata": {
            "tags": []
          },
          "execution_count": 825
        }
      ]
    },
    {
      "cell_type": "markdown",
      "metadata": {
        "id": "IqWGeW2t9DuS"
      },
      "source": [
        "# **Prepare val and test set** "
      ]
    },
    {
      "cell_type": "code",
      "metadata": {
        "id": "AKpm_HDuHDzV"
      },
      "source": [
        "def modify(temp_df, map_cust,df2,max1,max2,max3,max4,min1,min2,min3,min4):\n",
        "  temp_df['dcd-dcd.1'] = (temp_df['document_create_date']- temp_df['document_create_date.1']).dt.days\n",
        "  temp_df['din_dayofweek=+4'] = temp_df['due_in_date'].apply(lambda x: 1 if x.dayofweek ==4 else 0)\n",
        "  temp_df['did_day=4&5'] = temp_df['due_in_date'].apply(lambda x: 1 if x.dayofweek==4 or x.dayofweek==5 else 0)\n",
        "  temp_df['did_week_of_month=4or5'] = temp_df['due_in_date'].apply(lambda x: 1 if x.day in [22,23,24,25,26,27,28,29,30,31] else 0)\n",
        "  temp_df['did_day=24'] = temp_df['due_in_date'].apply(lambda x: 1 if x.day==24 else 0).astype('int')\n",
        "  temp_df['bcd_month=1&6'] = temp_df['baseline_create_date'].apply(lambda x: 1 if x.month==1 or x.month==6 else 0)\n",
        "  temp_df['bcd_weekofmonth=2'] = temp_df['baseline_create_date'].apply(lambda x: 1 if x.day in [8,9,10,11,12,13,14] else 0)\n",
        "  temp_df['bcd_day=2,3,6,7,9'] = temp_df['baseline_create_date'].apply(lambda x: 1 if x.day in [2,3,6,7,9]  else 0)\n",
        "  temp_df['did-dcd.1'] = (temp_df['due_in_date']-temp_df['document_create_date.1']).dt.days\n",
        "  temp_df['did-dcd.1=0'] = temp_df['did-dcd.1'].apply(lambda x: 1 if x ==0 else 0)\n",
        "  temp_df['did-bcd'] = (temp_df['due_in_date']-temp_df['baseline_create_date']).dt.days\n",
        "  temp_df['did-bcd=0'] = temp_df['did-bcd'].apply(lambda x: 1 if x ==0 else 0)\n",
        "  temp_df['Cust_Mean_Delay'] = temp_df['name_customer'].map(map_cust)\n",
        "  temp_df['Cust_Mean_Delay'] = temp_df['Cust_Mean_Delay'].fillna(0)\n",
        "  temp_df['total_open_amount_std'] = temp_df['total_open_amount'].apply(lambda x: (x-min1)/(max1-min1))\n",
        "  df3 = pd.merge(temp_df, df2, how='left', on='cust_number')\n",
        "  df3['repeatCust'].fillna(0, inplace=True)\n",
        "  temp_df = df3\n",
        "  temp_df['repeatCust_std'] = temp_df['repeatCust'].apply(lambda x: (x-min2)/(max2-min2))\n",
        "  temp_df['did-dcd.1'] = (temp_df['due_in_date']-temp_df['document_create_date.1']).dt.days\n",
        "  temp_df['did-dcd.1_std'] = temp_df['did-dcd.1'].apply(lambda x: (x-min3)/(max3-min3))\n",
        "  temp_df['did-bcd'] = (temp_df['due_in_date']-temp_df['baseline_create_date']).dt.days\n",
        "  temp_df['did-bcd_std'] = temp_df['did-bcd'].apply(lambda x: (x-min4)/(max4-min4))\n",
        "  list = ['dcd-dcd.1',\n",
        " 'din_dayofweek=+4',\n",
        " 'did_day=4&5',\n",
        " 'did_week_of_month=4or5',\n",
        " 'did_day=24',\n",
        " 'bcd_month=1&6',\n",
        " 'bcd_weekofmonth=2',\n",
        " 'bcd_day=2,3,6,7,9',\n",
        " 'did-dcd.1=0',\n",
        " 'did-bcd=0',\n",
        " 'Cust_Mean_Delay',\n",
        " 'total_open_amount_std',\n",
        " 'repeatCust_std',\n",
        " 'did-dcd.1_std',\n",
        " 'did-bcd_std']\n",
        "  return temp_df[list],temp_df['delay']\n"
      ],
      "execution_count": null,
      "outputs": []
    },
    {
      "cell_type": "code",
      "metadata": {
        "id": "Y90mZ48VZ7s1"
      },
      "source": [
        "X_val, Y_val = modify(val, map_cust,df2,max1, max2,max3,max4, min1,min2, min3,min4)"
      ],
      "execution_count": null,
      "outputs": []
    },
    {
      "cell_type": "code",
      "metadata": {
        "id": "QQCihtA_hQdS"
      },
      "source": [
        "X_test, Y_test = modify(test, map_cust,df2,max1, max2,max3, max4, min1,min2,min3,min4)"
      ],
      "execution_count": null,
      "outputs": []
    },
    {
      "cell_type": "markdown",
      "metadata": {
        "id": "vajSGsBfjaE3"
      },
      "source": [
        "# **Predict for val and test** "
      ]
    },
    {
      "cell_type": "markdown",
      "metadata": {
        "id": "GNg4YleIjuvD"
      },
      "source": [
        "For val"
      ]
    },
    {
      "cell_type": "code",
      "metadata": {
        "id": "Tkj8rrjbjmBf"
      },
      "source": [
        "from sklearn import metrics\n",
        "from sklearn.metrics import mean_squared_error"
      ],
      "execution_count": null,
      "outputs": []
    },
    {
      "cell_type": "code",
      "metadata": {
        "id": "XxfdxpHTcbxo"
      },
      "source": [
        "y_pred_val = random_model.predict(X_val)\n",
        "y_pred_test = random_model.predict(X_test)"
      ],
      "execution_count": null,
      "outputs": []
    },
    {
      "cell_type": "code",
      "metadata": {
        "id": "G0TAVC4Owp4s"
      },
      "source": [
        "Y_val_temp = Y_val.apply(lambda x: (x - mean)/std)\n",
        "Y_test_temp = Y_test.apply(lambda x: (x - mean)/std)"
      ],
      "execution_count": null,
      "outputs": []
    },
    {
      "cell_type": "code",
      "metadata": {
        "colab": {
          "base_uri": "https://localhost:8080/"
        },
        "id": "MN5bvGySd__N",
        "outputId": "fa2df4a7-33f5-4a73-fb4c-5e9a389cb825"
      },
      "source": [
        "print('Root Mean Squared Error:', np.sqrt(metrics.mean_squared_error(Y_val_temp, y_pred_val)))"
      ],
      "execution_count": null,
      "outputs": [
        {
          "output_type": "stream",
          "text": [
            "Root Mean Squared Error: 0.5254834198124338\n"
          ],
          "name": "stdout"
        }
      ]
    },
    {
      "cell_type": "code",
      "metadata": {
        "colab": {
          "base_uri": "https://localhost:8080/"
        },
        "id": "PfswmRdLciIz",
        "outputId": "3557188d-3f93-4661-e093-a99fd45fa217"
      },
      "source": [
        "print('Root Mean Squared Error:', np.sqrt(metrics.mean_squared_error(Y_test_temp, y_pred_test)))"
      ],
      "execution_count": null,
      "outputs": [
        {
          "output_type": "stream",
          "text": [
            "Root Mean Squared Error: 0.814617343803562\n"
          ],
          "name": "stdout"
        }
      ]
    },
    {
      "cell_type": "markdown",
      "metadata": {
        "id": "bzrdTddux_rV"
      },
      "source": [
        "# **Result** "
      ]
    },
    {
      "cell_type": "code",
      "metadata": {
        "id": "X9V0mFRnyv-p"
      },
      "source": [
        "y_pred_val = np.ceil(y_pred_val*std+mean)\n",
        "y_pred_val = pd.DataFrame(y_pred_val)"
      ],
      "execution_count": null,
      "outputs": []
    },
    {
      "cell_type": "code",
      "metadata": {
        "id": "agikq0x908OZ"
      },
      "source": [
        "y_pred_test = np.ceil(y_pred_test*std+mean)\n",
        "y_pred_test = pd.DataFrame(y_pred_test)"
      ],
      "execution_count": null,
      "outputs": []
    },
    {
      "cell_type": "code",
      "metadata": {
        "id": "DjELda_tsl9L"
      },
      "source": [
        "def bucket (x):\n",
        "    if x <16: return \"0-15 days\"\n",
        "    elif x < 31: return \"16-30 days\"\n",
        "    elif x < 46: return \"31-45 days\"\n",
        "    elif x < 60: return \"46-60 days\"\n",
        "    else: return \"greater than 60\""
      ],
      "execution_count": null,
      "outputs": []
    },
    {
      "cell_type": "code",
      "metadata": {
        "id": "gTx1PzyFrlnr"
      },
      "source": [
        "y_pred_val['bucket'] = y_pred_val[0].apply(bucket)"
      ],
      "execution_count": null,
      "outputs": []
    },
    {
      "cell_type": "code",
      "metadata": {
        "colab": {
          "base_uri": "https://localhost:8080/"
        },
        "id": "ciIfbzKY4y-C",
        "outputId": "96cf5f68-6589-4cc4-8f80-836fa3793c79"
      },
      "source": [
        "y_pred_val['bucket'].value_counts()"
      ],
      "execution_count": null,
      "outputs": [
        {
          "output_type": "execute_result",
          "data": {
            "text/plain": [
              "0-15 days          4910\n",
              "16-30 days           36\n",
              "31-45 days           29\n",
              "46-60 days           21\n",
              "greater than 60       4\n",
              "Name: bucket, dtype: int64"
            ]
          },
          "metadata": {
            "tags": []
          },
          "execution_count": 857
        }
      ]
    },
    {
      "cell_type": "code",
      "metadata": {
        "id": "Wdks1Wmr463i"
      },
      "source": [
        "y_pred_test['bucket'] = y_pred_test[0].apply(bucket)"
      ],
      "execution_count": null,
      "outputs": []
    },
    {
      "cell_type": "code",
      "metadata": {
        "colab": {
          "base_uri": "https://localhost:8080/"
        },
        "id": "3BHWlucO4-F0",
        "outputId": "8ff3d0d0-5b31-4b31-8829-fe657f26f4f4"
      },
      "source": [
        "y_pred_test['bucket'].value_counts()"
      ],
      "execution_count": null,
      "outputs": [
        {
          "output_type": "execute_result",
          "data": {
            "text/plain": [
              "0-15 days          4834\n",
              "16-30 days           66\n",
              "31-45 days           51\n",
              "46-60 days           43\n",
              "greater than 60       6\n",
              "Name: bucket, dtype: int64"
            ]
          },
          "metadata": {
            "tags": []
          },
          "execution_count": 859
        }
      ]
    },
    {
      "cell_type": "markdown",
      "metadata": {
        "id": "CxVBe7ig8jtB"
      },
      "source": [
        "# **For final test set** "
      ]
    },
    {
      "cell_type": "code",
      "metadata": {
        "id": "pVPeSnA85AI1"
      },
      "source": [
        "X_final_test_df, Y_final_test_df = modify(val, map_cust,df2,max1, max2,max3,max4, min1,min2, min3,min4)"
      ],
      "execution_count": null,
      "outputs": []
    },
    {
      "cell_type": "code",
      "metadata": {
        "id": "Ua9Lvi8y84xJ"
      },
      "source": [
        "y_pred_final = random_model.predict(X_final_test_df)"
      ],
      "execution_count": null,
      "outputs": []
    },
    {
      "cell_type": "code",
      "metadata": {
        "id": "6HvaeK449KD_"
      },
      "source": [
        "y_pred_final = np.ceil(y_pred_final*std+mean)"
      ],
      "execution_count": null,
      "outputs": []
    },
    {
      "cell_type": "code",
      "metadata": {
        "id": "Dlw0tQuR9gEw"
      },
      "source": [
        "y_pred_final = pd.DataFrame(y_pred_final)"
      ],
      "execution_count": null,
      "outputs": []
    },
    {
      "cell_type": "code",
      "metadata": {
        "colab": {
          "base_uri": "https://localhost:8080/"
        },
        "id": "_6Vi_KHQ9LKg",
        "outputId": "363d0f49-7504-4b45-83b7-f57c9e34af9c"
      },
      "source": [
        "y_pred_final['bucket'] = y_pred_final[0].apply(bucket)\n",
        "y_pred_final['bucket'].value_counts()"
      ],
      "execution_count": null,
      "outputs": [
        {
          "output_type": "execute_result",
          "data": {
            "text/plain": [
              "0-15 days          4910\n",
              "16-30 days           36\n",
              "31-45 days           29\n",
              "46-60 days           21\n",
              "greater than 60       4\n",
              "Name: bucket, dtype: int64"
            ]
          },
          "metadata": {
            "tags": []
          },
          "execution_count": 864
        }
      ]
    }
  ]
}